{
 "cells": [
  {
   "cell_type": "markdown",
   "metadata": {
    "collapsed": true
   },
   "source": [
    "# Sort a stack"
   ]
  },
  {
   "cell_type": "code",
   "execution_count": null,
   "metadata": {
    "collapsed": true
   },
   "outputs": [],
   "source": [
    "'''\n",
    "Question\n",
    "Write a function to sort a given stack.\n",
    "'''"
   ]
  },
  {
   "cell_type": "code",
   "execution_count": null,
   "metadata": {
    "collapsed": true
   },
   "outputs": [],
   "source": [
    "'''\n",
    "Question\n",
    "Write a program to sort a stack in ascending order (with biggest items on top).  \n",
    "You may use at most one additional stack to hold items, \n",
    "but you may not copy the elements into any other data structure (such as an array). \n",
    "The stack supports the following operations: push, pop, peek and isEmpty.\n",
    "'''"
   ]
  },
  {
   "cell_type": "code",
   "execution_count": 16,
   "metadata": {
    "collapsed": false
   },
   "outputs": [],
   "source": [
    "class Stack:     \n",
    "    def __init__(self):\n",
    "        self.items = []\n",
    "\n",
    "    def isEmpty(self):\n",
    "        return self.items == []\n",
    "\n",
    "    def push(self, item):\n",
    "        self.items.append(item)\n",
    "\n",
    "    def pop(self):\n",
    "        return self.items.pop()\n",
    "\n",
    "    def peek(self):\n",
    "        return self.items[len(self.items)-1]\n",
    "\n",
    "    def size(self):\n",
    "        return len(self.items)\n",
    "    \n",
    "    def prints(self):\n",
    "        for i in self.items:\n",
    "            print(i)"
   ]
  },
  {
   "cell_type": "code",
   "execution_count": 13,
   "metadata": {
    "collapsed": true
   },
   "outputs": [],
   "source": [
    "def sort(stack):\n",
    "    \"\"\"\n",
    "    Using tmpStack to sort.\n",
    "    \n",
    "    Time complexity: O(n)\n",
    "    Space complexity: O(n)\n",
    "    \n",
    "    Reference: \n",
    "    http://www.geeksforgeeks.org/sort-stack-using-temporary-stack/\n",
    "    \"\"\"\n",
    "    x = stack.pop()\n",
    "    tmpStack = Stack()\n",
    "    tmpStack.push(x)\n",
    "    \n",
    "    while stack.isEmpty() == False:\n",
    "        x = stack.pop()\n",
    "        if x >= tmpStack.peek() :\n",
    "            tmpStack.push(x)\n",
    "        else : \n",
    "            y = tmpStack.pop()\n",
    "            stack.push(y)\n",
    "            tmpStack.push(x)\n",
    "            \n",
    "    return tmpStack"
   ]
  },
  {
   "cell_type": "code",
   "execution_count": 22,
   "metadata": {
    "collapsed": false
   },
   "outputs": [
    {
     "name": "stdout",
     "output_type": "stream",
     "text": [
      "0\n",
      "1\n",
      "2\n",
      "3\n"
     ]
    }
   ],
   "source": [
    "s = Stack()\n",
    "s.push(3)\n",
    "s.push(1)\n",
    "s.push(2)\n",
    "s.push(0)\n",
    "# s.prints() #3<1<2<0\n",
    "sorted_s = sort(s)\n",
    "sorted_s.prints() #0<1<2<3"
   ]
  },
  {
   "cell_type": "code",
   "execution_count": null,
   "metadata": {
    "collapsed": true
   },
   "outputs": [],
   "source": []
  }
 ],
 "metadata": {
  "kernelspec": {
   "display_name": "Python 3",
   "language": "python",
   "name": "python3"
  },
  "language_info": {
   "codemirror_mode": {
    "name": "ipython",
    "version": 3
   },
   "file_extension": ".py",
   "mimetype": "text/x-python",
   "name": "python",
   "nbconvert_exporter": "python",
   "pygments_lexer": "ipython3",
   "version": "3.6.0"
  }
 },
 "nbformat": 4,
 "nbformat_minor": 2
}
