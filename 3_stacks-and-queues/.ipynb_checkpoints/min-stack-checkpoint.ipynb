{
 "cells": [
  {
   "cell_type": "markdown",
   "metadata": {
    "collapsed": true
   },
   "source": [
    "# Find minimun of a stack"
   ]
  },
  {
   "cell_type": "code",
   "execution_count": null,
   "metadata": {
    "collapsed": true
   },
   "outputs": [],
   "source": [
    "'''\n",
    "Question\n",
    "How would you design a stack which, in addition to push and pop, \n",
    "also has a function min which return the minimum element? \n",
    "Push, pop and min should all operate in O(1) time.\n",
    "'''"
   ]
  },
  {
   "cell_type": "code",
   "execution_count": 52,
   "metadata": {
    "collapsed": true
   },
   "outputs": [],
   "source": [
    "class Stack(object):\n",
    "    \"\"\"\n",
    "    Using a minimum stack. \n",
    "    Push min value to min stack when push. \n",
    "    Pop min value from min stack when pop.\n",
    "    \n",
    "    Time complexity : O(1)\n",
    "    Space complexity : O(n)\n",
    "    \"\"\"\n",
    "    def __init__(self):\n",
    "        self.items = []\n",
    "        self.min = []\n",
    "\n",
    "    def minimum(self):\n",
    "        return self.min[-1]\n",
    "\n",
    "    def push(self, value):\n",
    "        if self.items == []:\n",
    "            self.min.append(value)\n",
    "        else : \n",
    "            if value <= self.minimum():\n",
    "                self.min.append(value)\n",
    "        self.items.append(value)\n",
    "    \n",
    "    def pop(self):\n",
    "        remove = self.items.pop()\n",
    "        if remove == self.minimum():\n",
    "            self.min.pop()\n",
    "        return remove"
   ]
  },
  {
   "cell_type": "code",
   "execution_count": 57,
   "metadata": {
    "collapsed": false
   },
   "outputs": [
    {
     "data": {
      "text/plain": [
       "1"
      ]
     },
     "execution_count": 57,
     "metadata": {},
     "output_type": "execute_result"
    }
   ],
   "source": [
    "s = Stack()\n",
    "s.push(3) \n",
    "s.push(1) \n",
    "s.push(2) \n",
    "s.push(0) \n",
    "s.minimum() #0\n",
    "s.pop() #0\n",
    "s.minimum() #1\n",
    "s.pop() #2\n",
    "s.minimum() #1"
   ]
  },
  {
   "cell_type": "code",
   "execution_count": null,
   "metadata": {
    "collapsed": true
   },
   "outputs": [],
   "source": []
  }
 ],
 "metadata": {
  "kernelspec": {
   "display_name": "Python 3",
   "language": "python",
   "name": "python3"
  },
  "language_info": {
   "codemirror_mode": {
    "name": "ipython",
    "version": 3
   },
   "file_extension": ".py",
   "mimetype": "text/x-python",
   "name": "python",
   "nbconvert_exporter": "python",
   "pygments_lexer": "ipython3",
   "version": "3.6.0"
  }
 },
 "nbformat": 4,
 "nbformat_minor": 2
}
