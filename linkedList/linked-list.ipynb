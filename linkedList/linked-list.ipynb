{
 "cells": [
  {
   "cell_type": "markdown",
   "metadata": {},
   "source": [
    "# Data Structure of Linked List"
   ]
  },
  {
   "cell_type": "markdown",
   "metadata": {},
   "source": [
    "* Singly Linked Lists, Doubly Linked Lists\n",
    "* Basic Operations : Push, Append, Find, Delete, Insert\n",
    "\n",
    "Pros\n",
    "* Linked Lists have constant-time insertions and deletions in any position, in comparison, arrays require O(n) time to do the same thing.\n",
    "* Linked lists can continue to expand without having to specify their size ahead of time\n",
    "\n",
    "Cons\n",
    "* To access an element in a linked list, you need to take O(k) time to go from the head of the list to the kth element. In contrast, arrays have constant time operations to access elements in an array."
   ]
  },
  {
   "cell_type": "markdown",
   "metadata": {
    "collapsed": true
   },
   "source": [
    "### Implement Singly Linked List"
   ]
  },
  {
   "cell_type": "code",
   "execution_count": 1,
   "metadata": {
    "collapsed": true
   },
   "outputs": [],
   "source": [
    "class Node(object):\n",
    "    \n",
    "    def __init__(self,value):\n",
    "        self.value = value\n",
    "        self.next = None"
   ]
  },
  {
   "cell_type": "code",
   "execution_count": 2,
   "metadata": {
    "collapsed": true
   },
   "outputs": [],
   "source": [
    "a = Node(1)\n",
    "b = Node(2)\n",
    "c = Node(3)\n",
    "\n",
    "a.next = b\n",
    "b.next = c"
   ]
  },
  {
   "cell_type": "markdown",
   "metadata": {},
   "source": [
    "### Implement Doubly Linked List"
   ]
  },
  {
   "cell_type": "code",
   "execution_count": 5,
   "metadata": {
    "collapsed": true
   },
   "outputs": [],
   "source": [
    "class Node(object):\n",
    "    \n",
    "    def __init__(self,value):\n",
    "        self.value = value\n",
    "        self.prev = None\n",
    "        self.next = None"
   ]
  },
  {
   "cell_type": "code",
   "execution_count": 6,
   "metadata": {
    "collapsed": true
   },
   "outputs": [],
   "source": [
    "a = Node(1)\n",
    "b = Node(2)\n",
    "c = Node(3)\n",
    "\n",
    "a.next = b\n",
    "b.prev = a\n",
    "b.next = c\n",
    "c.prev = b"
   ]
  },
  {
   "cell_type": "markdown",
   "metadata": {},
   "source": [
    "### Push, Append, Find, Delete, Insert, Print for Singly Linked List"
   ]
  },
  {
   "cell_type": "code",
   "execution_count": null,
   "metadata": {
    "collapsed": true
   },
   "outputs": [],
   "source": [
    "class Element(object):\n",
    "    def __init__(self, value):\n",
    "        self.value = value\n",
    "        self.next = None\n",
    "        \n",
    "class LinkedList(object):\n",
    "    def __init__(self, head=None):\n",
    "        self.head = head\n",
    "        \n",
    "    # add element at the end\n",
    "    def append(self, new_element):\n",
    "        current = self.head\n",
    "        if self.head:\n",
    "            while current.next:\n",
    "                current = current.next\n",
    "            current.next = new_element\n",
    "        else:\n",
    "            self.head = new_element\n",
    "    \n",
    "    # add element at the start\n",
    "    def push(self, new_element):\n",
    "        new_element.next = self.head\n",
    "        self.head = new_element\n",
    "        \n",
    "    def get_position(self, position):\n",
    "        counter = 1\n",
    "        current = self.head\n",
    "        if position < 1:\n",
    "            return None\n",
    "        while current and counter <= position:\n",
    "            if counter == position:\n",
    "                return current\n",
    "            current = current.next\n",
    "            counter += 1\n",
    "        return None\n",
    "    \n",
    "    def insert(self, new_element, position):\n",
    "        counter = 1\n",
    "        current = self.head\n",
    "        if position > 1:\n",
    "            while current and counter < position:\n",
    "                if counter == position - 1:\n",
    "                    new_element.next = current.next\n",
    "                    current.next = new_element\n",
    "                current = current.next\n",
    "                counter += 1\n",
    "        elif position == 1:\n",
    "            new_element.next = self.head\n",
    "            self.head = new_element\n",
    "            \n",
    "    def delete(self, value):\n",
    "        current = self.head\n",
    "        previous = None\n",
    "        while current.value != value and current.next:\n",
    "            previous = current\n",
    "            current = current.next\n",
    "        if current.value == value:\n",
    "            if previous:\n",
    "                previous.next = current.next\n",
    "            else:\n",
    "                self.head = current.next"
   ]
  },
  {
   "cell_type": "code",
   "execution_count": null,
   "metadata": {
    "collapsed": true
   },
   "outputs": [],
   "source": [
    "# Set up some Elements\n",
    "e1 = Element(1)\n",
    "e2 = Element(2)\n",
    "e3 = Element(3)\n",
    "e4 = Element(4)\n",
    "\n",
    "# Start setting up a LinkedList\n",
    "ll = LinkedList(e1)\n",
    "ll.append(e2)\n",
    "ll.append(e3)\n",
    "\n",
    "# Test get_position\n",
    "print ll.head.next.next.value\n",
    "print ll.get_position(3).value # Should also print 3\n",
    "\n",
    "# Test insert\n",
    "ll.insert(e4,3)\n",
    "print ll.get_position(3).value # Should print 4 now\n",
    "\n",
    "# Test delete\n",
    "ll.delete(1)\n",
    "print ll.get_position(1).value # Should print 2 now\n",
    "print ll.get_position(2).value # Should print 4 now\n",
    "print ll.get_position(3).value # Should print 3 now"
   ]
  }
 ],
 "metadata": {
  "kernelspec": {
   "display_name": "Python 3",
   "language": "python",
   "name": "python3"
  },
  "language_info": {
   "codemirror_mode": {
    "name": "ipython",
    "version": 3
   },
   "file_extension": ".py",
   "mimetype": "text/x-python",
   "name": "python",
   "nbconvert_exporter": "python",
   "pygments_lexer": "ipython3",
   "version": "3.6.0"
  }
 },
 "nbformat": 4,
 "nbformat_minor": 2
}
