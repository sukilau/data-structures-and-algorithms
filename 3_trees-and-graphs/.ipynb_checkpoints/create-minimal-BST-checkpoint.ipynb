{
 "cells": [
  {
   "cell_type": "markdown",
   "metadata": {},
   "source": [
    "# Create Minimal Binary Search Tree"
   ]
  },
  {
   "cell_type": "code",
   "execution_count": null,
   "metadata": {
    "collapsed": true
   },
   "outputs": [],
   "source": [
    "'''\n",
    "Question\n",
    "Given a sorted (increasing order) array with unique integer elements, \n",
    "write an algorithm to create a binary search tree with minimal height.\n",
    "'''"
   ]
  },
  {
   "cell_type": "markdown",
   "metadata": {},
   "source": [
    "### Solution 1"
   ]
  },
  {
   "cell_type": "code",
   "execution_count": 29,
   "metadata": {
    "collapsed": false
   },
   "outputs": [],
   "source": [
    "class Node(object):\n",
    "    def __init__(self, value=None, left=None, right=None):\n",
    "        self.value = value\n",
    "        self.left = left\n",
    "        self.right = right\n",
    "        \n",
    "def createMinimalBST(array):\n",
    "    start = 0\n",
    "    end = len(array)-1\n",
    "    return create(array,start,end)\n",
    "\n",
    "def create(array, start, end):\n",
    "    \"\"\"\n",
    "    Recursive method to create node for middle value\n",
    "    \"\"\"\n",
    "    if end < start:\n",
    "        return None\n",
    "    \n",
    "    # get the middle element of the list\n",
    "    middle = (start + end) // 2\n",
    "    root = Node(array[middle], create(array, start, middle-1), create(array, middle+1, end))\n",
    "    return root"
   ]
  },
  {
   "cell_type": "code",
   "execution_count": 44,
   "metadata": {
    "collapsed": false
   },
   "outputs": [
    {
     "name": "stdout",
     "output_type": "stream",
     "text": [
      "3 1 4 2 5\n",
      "3 1 5 2 4 6\n"
     ]
    }
   ],
   "source": [
    "root = createMinimalBST([1,2,3,4,5])\n",
    "root.left.right.value #2\n",
    "root.right.right.value #5\n",
    "printTree(root)\n",
    "\n",
    "root = createMinimalBST([1,2,3,4,5,6])\n",
    "printTree(root)"
   ]
  },
  {
   "cell_type": "code",
   "execution_count": 41,
   "metadata": {
    "collapsed": true
   },
   "outputs": [],
   "source": [
    "# for testing - print tree\n",
    "\n",
    "def printTree(root):\n",
    "    \"\"\"Print out all tree nodes as they are visited in a level-order traversal.\"\"\"\n",
    "    traversal = (str(root.value) + \" \")\n",
    "    print(levelOrderPrint(root, traversal)[:-1])\n",
    "\n",
    "def levelOrderPrint(node, traversal):\n",
    "    \"\"\"Helper method - use this to create a recursive print solution.\"\"\"\n",
    "    if node:\n",
    "        if node.left:\n",
    "            traversal += (str(node.left.value) + \" \")\n",
    "        if node.right:\n",
    "            traversal += (str(node.right.value) + \" \")\n",
    "        traversal = levelOrderPrint(node.left, traversal)\n",
    "        traversal = levelOrderPrint(node.right, traversal)\n",
    "    return traversal"
   ]
  },
  {
   "cell_type": "code",
   "execution_count": null,
   "metadata": {
    "collapsed": true
   },
   "outputs": [],
   "source": []
  }
 ],
 "metadata": {
  "kernelspec": {
   "display_name": "Python 3",
   "language": "python",
   "name": "python3"
  },
  "language_info": {
   "codemirror_mode": {
    "name": "ipython",
    "version": 3
   },
   "file_extension": ".py",
   "mimetype": "text/x-python",
   "name": "python",
   "nbconvert_exporter": "python",
   "pygments_lexer": "ipython3",
   "version": "3.6.0"
  }
 },
 "nbformat": 4,
 "nbformat_minor": 2
}
