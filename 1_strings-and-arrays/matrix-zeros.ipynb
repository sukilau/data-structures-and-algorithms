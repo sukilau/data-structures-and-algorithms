{
 "cells": [
  {
   "cell_type": "markdown",
   "metadata": {},
   "source": [
    "# Set Matrix Zeros"
   ]
  },
  {
   "cell_type": "code",
   "execution_count": null,
   "metadata": {
    "collapsed": true
   },
   "outputs": [],
   "source": [
    "'''\n",
    "Question\n",
    "\n",
    "Write an algorithm, such that if an element in an MxN matrix is 0, its entire row and column are set to 0.\n",
    "'''"
   ]
  },
  {
   "cell_type": "code",
   "execution_count": 61,
   "metadata": {
    "collapsed": false
   },
   "outputs": [],
   "source": [
    "def setZeros_1(A) : \n",
    "    \"\"\"\n",
    "    Set rows and columns of a matriz to zeros if there is an zero element in that row or column\n",
    "    Run time : O(mn), (m,n) = matrix size\n",
    "    Space complexity : O(m+n)\n",
    "    \"\"\"\n",
    "    m = len(A)\n",
    "    n = len(A[0])\n",
    "    row = [False for i in range(m)]  #size=m\n",
    "    col = [False for i in range(n)]  #size=n\n",
    "    \n",
    "    for i in range(m):\n",
    "        for j in range(n):\n",
    "            if A[i][j] == 0:\n",
    "                row[i] = True\n",
    "                col[j] = True\n",
    "                \n",
    "    for i in range(m):\n",
    "        for j in range(n):\n",
    "            if row[i] or col[j]:\n",
    "                A[i][j] = 0\n",
    "    return A"
   ]
  },
  {
   "cell_type": "code",
   "execution_count": 72,
   "metadata": {
    "collapsed": true
   },
   "outputs": [],
   "source": [
    "def setZeros_2(A) : \n",
    "    \"\"\"\n",
    "    Set rows and columns of a matriz to zeros if there is an zero element in that row or column\n",
    "    Run time : O(mn), (m,n) = matrix size\n",
    "    Space complexity : O(m+n)\n",
    "    \"\"\"\n",
    "    m = len(A)\n",
    "    n = len(A[0])\n",
    "    rows = []  #auxiliary size depending on no. of zeros\n",
    "    cols = []  #auxiliary size depending on no. of zeros\n",
    "    \n",
    "    for i in range(m):\n",
    "        for j in range(n):\n",
    "            if A[i][j] == 0:\n",
    "                rows.append(i)\n",
    "                cols.append(j)\n",
    "                \n",
    "    # set rows to zeros\n",
    "    for row in rows:\n",
    "        for j in range(n):\n",
    "            A[row][j] = 0\n",
    "\n",
    "    # set columns to zeros\n",
    "    for i in range(m):\n",
    "        for col in cols:\n",
    "            A[i][col] = 0\n",
    "            \n",
    "    return A"
   ]
  },
  {
   "cell_type": "code",
   "execution_count": 71,
   "metadata": {
    "collapsed": false
   },
   "outputs": [],
   "source": [
    "import unittest\n",
    "\n",
    "class TestZeros_1(unittest.TestCase):\n",
    "    \"\"\" Test class for function  \"\"\"\n",
    "    \n",
    "    test_data = [\n",
    "        ([[1,2,3,4],\n",
    "         [5,6,7,0],\n",
    "         [9,10,11,12]], \n",
    "         \n",
    "        [[1,2,3,0],\n",
    "         [0,0,0,0],\n",
    "         [9,10,11,0]])]\n",
    "    \n",
    "    def test_set_zeros_1(self):\n",
    "        for A, expected_result in self.test_data:\n",
    "            result1 = setZeros_1(A)\n",
    "            self.assertEqual(result1, expected_result)\n",
    "            \n",
    "            \n",
    "class TestZeros_2(unittest.TestCase):\n",
    "    \"\"\" Test class for function  \"\"\"\n",
    "    \n",
    "    test_data = [\n",
    "        ([[1,2,3,4],\n",
    "         [5,6,7,0],\n",
    "         [9,10,11,12]], \n",
    "         \n",
    "        [[1,2,3,0],\n",
    "         [0,0,0,0],\n",
    "         [9,10,11,0]])]\n",
    "\n",
    "    def test_set_zeros_2(self):\n",
    "        for A, expected_result in self.test_data:\n",
    "            result2 = setZeros_2(A)\n",
    "            self.assertEqual(result2, expected_result)\n",
    "                        \n",
    "            \n",
    "\n",
    "t = TestZeros_1()\n",
    "t.test_set_zeros_1()\n",
    "t = TestZeros_2()\n",
    "t.test_set_zeros_2()"
   ]
  },
  {
   "cell_type": "code",
   "execution_count": null,
   "metadata": {
    "collapsed": true
   },
   "outputs": [],
   "source": []
  }
 ],
 "metadata": {
  "kernelspec": {
   "display_name": "Python 3",
   "language": "python",
   "name": "python3"
  },
  "language_info": {
   "codemirror_mode": {
    "name": "ipython",
    "version": 3
   },
   "file_extension": ".py",
   "mimetype": "text/x-python",
   "name": "python",
   "nbconvert_exporter": "python",
   "pygments_lexer": "ipython3",
   "version": "3.6.0"
  }
 },
 "nbformat": 4,
 "nbformat_minor": 2
}
