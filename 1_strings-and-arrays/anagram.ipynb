{
 "cells": [
  {
   "cell_type": "markdown",
   "metadata": {
    "collapsed": true
   },
   "source": [
    "# Anagram"
   ]
  },
  {
   "cell_type": "code",
   "execution_count": null,
   "metadata": {
    "collapsed": true
   },
   "outputs": [],
   "source": [
    "'''\n",
    "Question:\n",
    "Given two strings, write a method to decide is one if a permutation of the other.\n",
    "'''"
   ]
  },
  {
   "cell_type": "code",
   "execution_count": 69,
   "metadata": {
    "collapsed": false
   },
   "outputs": [],
   "source": [
    "def isAnagram_1(s1,s2):\n",
    "    \"\"\"\n",
    "    Determine if a string is a permutation of the other using sort\n",
    "    Run time : O(nlogn)\n",
    "    Space Complexity : O(n)\n",
    "    \"\"\"\n",
    "    return sorted(s1)==sorted(s2)"
   ]
  },
  {
   "cell_type": "code",
   "execution_count": 70,
   "metadata": {
    "collapsed": true
   },
   "outputs": [],
   "source": [
    "def isAnagram_2(s1,s2):\n",
    "    \"\"\"\n",
    "    Determine if a string is a permutation of the other using counter \n",
    "    Run time : O(n)\n",
    "    Space Complexity : O(n)\n",
    "    \"\"\"\n",
    "    from collections import Counter\n",
    "    return Counter(s1)==Counter(s2)"
   ]
  },
  {
   "cell_type": "code",
   "execution_count": 71,
   "metadata": {
    "collapsed": true
   },
   "outputs": [],
   "source": [
    "def isAnagram_3(s1,s2):\n",
    "    \"\"\"\n",
    "    Determine if a string is a permutation of the other using array\n",
    "    Run time : O(n)\n",
    "    Space Complexity : O(n)\n",
    "    \"\"\"\n",
    "    if len(s1)!=len(s2):\n",
    "        return False\n",
    "    num_char = 256\n",
    "    count1 = [0] * num_char\n",
    "    count2 = [0] * num_char\n",
    "    for i in s1:\n",
    "        count1[ord(i)] += 1\n",
    "    for i in s2:\n",
    "        count2[ord(i)] += 1\n",
    "    return count1==count2"
   ]
  },
  {
   "cell_type": "code",
   "execution_count": 72,
   "metadata": {
    "collapsed": false
   },
   "outputs": [],
   "source": [
    "import unittest\n",
    "\n",
    "class TestAnagram(unittest.TestCase):\n",
    "    \"\"\" Test class for function permutation_1 and  \"\"\"\n",
    "    \n",
    "    test_data = [\n",
    "        ('hello', 'olleh', True),\n",
    "        ('bananab', 'abbaann', True),\n",
    "        ('ab', 'baa', False),\n",
    "        ('a', 'a', True),\n",
    "        ('', '', True),\n",
    "        (' ', '', False)]\n",
    "    \n",
    "    def test_isAnagram_1(self):\n",
    "        for s1, s2, expected_result in self.test_data:\n",
    "            result1 = isAnagram_1(s1, s2)\n",
    "            self.assertEqual(result1, expected_result)\n",
    "\n",
    "    def test_isAnagram_2(self):\n",
    "        for s1, s2, expected_result in self.test_data:\n",
    "            result1 = isAnagram_2(s1, s2)\n",
    "            self.assertEqual(result1, expected_result)\n",
    "\n",
    "    def test_isAnagram_3(self):\n",
    "        for s1, s2, expected_result in self.test_data:\n",
    "            result1 = isAnagram_3(s1, s2)\n",
    "            self.assertEqual(result1, expected_result)\n",
    "\n",
    "t = TestAnagram()\n",
    "t.test_isAnagram_1()\n",
    "t.test_isAnagram_2()\n",
    "t.test_isAnagram_3()"
   ]
  },
  {
   "cell_type": "code",
   "execution_count": null,
   "metadata": {
    "collapsed": true
   },
   "outputs": [],
   "source": []
  }
 ],
 "metadata": {
  "kernelspec": {
   "display_name": "Python 3",
   "language": "python",
   "name": "python3"
  },
  "language_info": {
   "codemirror_mode": {
    "name": "ipython",
    "version": 3
   },
   "file_extension": ".py",
   "mimetype": "text/x-python",
   "name": "python",
   "nbconvert_exporter": "python",
   "pygments_lexer": "ipython3",
   "version": "3.6.0"
  }
 },
 "nbformat": 4,
 "nbformat_minor": 2
}
