{
 "cells": [
  {
   "cell_type": "markdown",
   "metadata": {},
   "source": [
    "# Reverse String"
   ]
  },
  {
   "cell_type": "code",
   "execution_count": null,
   "metadata": {
    "collapsed": true
   },
   "outputs": [],
   "source": [
    "'''\n",
    "Question\n",
    "Implement a function that reverses a string.\n",
    "'''"
   ]
  },
  {
   "cell_type": "code",
   "execution_count": 6,
   "metadata": {
    "collapsed": true
   },
   "outputs": [],
   "source": [
    "def reverse_1(s):\n",
    "    \"\"\"\n",
    "    Reverse a string\n",
    "    Run time : O(n)\n",
    "    Space Complexity = O(n)\n",
    "    \"\"\"\n",
    "    s_ = \"\"\n",
    "    for i in range(len(s)):\n",
    "        s_ = s_ + s[len(s)-i-1]\n",
    "    return s_\n",
    "\n",
    "\n",
    "def reverse_2(s):\n",
    "    \"\"\"\n",
    "    Reverse a string using recursion\n",
    "    Run time : O(n)\n",
    "    Space Complexity = O(n)\n",
    "    \"\"\"\n",
    "    if len(s)<=1:\n",
    "        return s\n",
    "    return reverse_2(s[1:])+s[0]"
   ]
  },
  {
   "cell_type": "code",
   "execution_count": 7,
   "metadata": {
    "collapsed": false
   },
   "outputs": [],
   "source": [
    "import unittest\n",
    "\n",
    "class TestReverse(unittest.TestCase):\n",
    "    \"\"\" Test class for function reverse_1 and reverse_2 \"\"\"\n",
    "    \n",
    "    test_data = [\n",
    "        ('hello', 'olleh'),\n",
    "        ('bananab', 'bananab'),\n",
    "        ('ab', 'ba'),\n",
    "        ('a', 'a'),\n",
    "        ('', ''),\n",
    "        (' ', ' ')]\n",
    "    \n",
    "    def test_reverse_1(self):\n",
    "        for s, expected_result in self.test_data:\n",
    "            result1 = reverse_1(s)\n",
    "            self.assertEqual(result1, expected_result)\n",
    "\n",
    "    def test_reverse_2(self):\n",
    "        for s, expected_result in self.test_data:\n",
    "            result1 = reverse_2(s)\n",
    "            self.assertEqual(result1, expected_result)\n",
    "\n",
    "t = TestReverse()\n",
    "t.test_reverse_1()\n",
    "t.test_reverse_2()"
   ]
  },
  {
   "cell_type": "code",
   "execution_count": null,
   "metadata": {
    "collapsed": true
   },
   "outputs": [],
   "source": []
  },
  {
   "cell_type": "code",
   "execution_count": 2,
   "metadata": {
    "collapsed": false
   },
   "outputs": [
    {
     "data": {
      "text/plain": [
       "'h'"
      ]
     },
     "execution_count": 2,
     "metadata": {},
     "output_type": "execute_result"
    }
   ],
   "source": [
    "s='hello'\n",
    "s[0]"
   ]
  },
  {
   "cell_type": "code",
   "execution_count": 4,
   "metadata": {
    "collapsed": false
   },
   "outputs": [
    {
     "name": "stdout",
     "output_type": "stream",
     "text": [
      "h o\n",
      "e l\n",
      "l l\n",
      "l e\n",
      "o h\n"
     ]
    }
   ],
   "source": [
    "def r(s):\n",
    "    n = len(s)\n",
    "    for i in range(n):\n",
    "        print(s[i], s[n-1-i])\n",
    "        temp = s[i]\n",
    "        s[i] = s[n-1-i]\n",
    "        s[n-1-i], s[i]\n",
    "        \n",
    "r('hello')"
   ]
  },
  {
   "cell_type": "code",
   "execution_count": null,
   "metadata": {
    "collapsed": true
   },
   "outputs": [],
   "source": []
  }
 ],
 "metadata": {
  "kernelspec": {
   "display_name": "Python 3",
   "language": "python",
   "name": "python3"
  },
  "language_info": {
   "codemirror_mode": {
    "name": "ipython",
    "version": 3
   },
   "file_extension": ".py",
   "mimetype": "text/x-python",
   "name": "python",
   "nbconvert_exporter": "python",
   "pygments_lexer": "ipython3",
   "version": "3.6.0"
  }
 },
 "nbformat": 4,
 "nbformat_minor": 2
}
