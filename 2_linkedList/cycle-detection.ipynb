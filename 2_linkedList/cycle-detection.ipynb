{
 "cells": [
  {
   "cell_type": "markdown",
   "metadata": {},
   "source": [
    "# Cycle"
   ]
  },
  {
   "cell_type": "markdown",
   "metadata": {},
   "source": [
    "## Check if cycle exits"
   ]
  },
  {
   "cell_type": "code",
   "execution_count": null,
   "metadata": {
    "collapsed": true
   },
   "outputs": [],
   "source": [
    "'''\n",
    "Question\n",
    "How would you check if a linked list has cycles(loop)?\n",
    "'''"
   ]
  },
  {
   "cell_type": "code",
   "execution_count": null,
   "metadata": {
    "collapsed": true
   },
   "outputs": [],
   "source": [
    "'''\n",
    "Question:\n",
    "Given a singly linked list, write a function which takes in the first node in a singly linked list \n",
    "and returns a boolean indicating if the linked list contains a \"cycle\".\n",
    "\n",
    "A cycle is when a node's next point actually points back to a previous node in the list. \n",
    "This is also sometimes known as a circularly linked list.\n",
    "'''"
   ]
  },
  {
   "cell_type": "markdown",
   "metadata": {},
   "source": [
    "### Solution 1"
   ]
  },
  {
   "cell_type": "code",
   "execution_count": 26,
   "metadata": {
    "collapsed": true
   },
   "outputs": [],
   "source": [
    "def cycleCheck(ll):\n",
    "    \"\"\"\n",
    "    Determine if a cycle exists using two pointers.\n",
    "    \n",
    "    Time complexity: O(n)\n",
    "    Space complexity: O(1)\n",
    "    \n",
    "    1. Set up two pointers. Faster pointer move 2 nodes ahead for every node move of slower pointer.\n",
    "    2. If ll has cycle, faster pointer meets slower pointer eventually. \n",
    "    \"\"\"\n",
    "    \n",
    "    fast_ptr = ll\n",
    "    slow_ptr = ll\n",
    "    \n",
    "    while fast_ptr:\n",
    "        slow_ptr = slow_ptr.next\n",
    "        fast_ptr = fast_ptr.next.next\n",
    "        \n",
    "        if slow_ptr == fast_ptr :\n",
    "            return True\n",
    "        \n",
    "    return False"
   ]
  },
  {
   "cell_type": "code",
   "execution_count": 27,
   "metadata": {
    "collapsed": false
   },
   "outputs": [
    {
     "data": {
      "text/plain": [
       "True"
      ]
     },
     "execution_count": 27,
     "metadata": {},
     "output_type": "execute_result"
    }
   ],
   "source": [
    "class Node(object):\n",
    "    def __init__(self, value):\n",
    "        self.value = value\n",
    "        self.next = None\n",
    "\n",
    "# 1>2>3>4>2 (cycle)\n",
    "node1 = Node(1)\n",
    "node2 = Node(2)\n",
    "node3 = Node(3)\n",
    "node4 = Node(4)\n",
    "\n",
    "node1.next = node2\n",
    "node2.next = node3\n",
    "node3.next = node4\n",
    "node4.next = node2    \n",
    "\n",
    "cycleCheck(node1)"
   ]
  },
  {
   "cell_type": "markdown",
   "metadata": {},
   "source": [
    "## Find first node of cycle"
   ]
  },
  {
   "cell_type": "code",
   "execution_count": null,
   "metadata": {
    "collapsed": true
   },
   "outputs": [],
   "source": [
    "'''\n",
    "Question\n",
    "Given a circular linked list, implement an algorithm which returns the node \n",
    "at the beginning of the loop.  \n",
    "\n",
    "Definition : Circular linked list is a (corrupt) linked list in which \n",
    "a node’s next pointer points to an earlier node, so as to make a loop in the linked list. \n",
    "\n",
    "For example, \n",
    "Input : (A>B>C>D>E>C)\n",
    "Output : C\n",
    "\n",
    "\n",
    "Reference: http://umairsaeed.com/blog/2011/06/23/finding-the-start-of-a-loop-in-a-circular-linked-list/\n",
    "'''"
   ]
  },
  {
   "cell_type": "markdown",
   "metadata": {},
   "source": [
    "### Solution 1"
   ]
  },
  {
   "cell_type": "code",
   "execution_count": 40,
   "metadata": {
    "collapsed": true
   },
   "outputs": [],
   "source": [
    "def cycleNode(ll):\n",
    "    \"\"\"\n",
    "    Find first node of a cycle using two pointers.\n",
    "\n",
    "    Time complexity: O(n)\n",
    "    Space complexity: O(1)\n",
    "    \n",
    "    1. Set up two pointers. Faster pointer move 2 nodes ahead for every node move of slower pointer.\n",
    "    2. If ll has cycle, faster pointer meets slower pointer eventually. \n",
    "    3. Once a cycle as been detected, move slow pointer to the head of the linked list.\n",
    "       Faster pointer remains at the same node in step 2.\n",
    "    4. Increase both pointer one node at at time. \n",
    "       The node at which the two pointers meet is the first node of cycle.\n",
    "    \n",
    "    \"\"\"\n",
    "    fast_ptr = ll\n",
    "    slow_ptr = ll\n",
    "\n",
    "    while fast_ptr and fast_ptr.next:\n",
    "        fast_ptr = fast_ptr.next.next\n",
    "        slow_ptr = slow_ptr.next\n",
    "        if fast_ptr is slow_ptr:\n",
    "            break\n",
    "\n",
    "    if fast_ptr is None or fast_ptr.next is None:\n",
    "        return None\n",
    "\n",
    "    slow_ptr = ll\n",
    "    while fast_ptr is not slow_ptr:\n",
    "        fast_ptr = fast_ptr.next\n",
    "        slow_ptr = slow_ptr.next\n",
    "\n",
    "    return fast_ptr"
   ]
  },
  {
   "cell_type": "code",
   "execution_count": 41,
   "metadata": {
    "collapsed": false
   },
   "outputs": [
    {
     "data": {
      "text/plain": [
       "6"
      ]
     },
     "execution_count": 41,
     "metadata": {},
     "output_type": "execute_result"
    }
   ],
   "source": [
    "class Node(object):\n",
    "    def __init__(self, value):\n",
    "        self.value = value\n",
    "        self.next = None\n",
    "\n",
    "# 1>2>3>4>2 (cycle)\n",
    "node1 = Node(1)\n",
    "node2 = Node(2)\n",
    "node3 = Node(3)\n",
    "node4 = Node(4)\n",
    "node5 = Node(5)\n",
    "node6 = Node(6)\n",
    "node7 = Node(7)\n",
    "node8 = Node(8)\n",
    "\n",
    "node1.next = node2\n",
    "node2.next = node3\n",
    "node3.next = node4\n",
    "node4.next = node5    \n",
    "node5.next = node6\n",
    "node6.next = node7\n",
    "node7.next = node8   \n",
    "node8.next = node6   \n",
    "\n",
    "cycleNode(node1).value"
   ]
  },
  {
   "cell_type": "code",
   "execution_count": null,
   "metadata": {
    "collapsed": true
   },
   "outputs": [],
   "source": []
  }
 ],
 "metadata": {
  "kernelspec": {
   "display_name": "Python 3",
   "language": "python",
   "name": "python3"
  },
  "language_info": {
   "codemirror_mode": {
    "name": "ipython",
    "version": 3
   },
   "file_extension": ".py",
   "mimetype": "text/x-python",
   "name": "python",
   "nbconvert_exporter": "python",
   "pygments_lexer": "ipython3",
   "version": "3.6.0"
  }
 },
 "nbformat": 4,
 "nbformat_minor": 2
}
