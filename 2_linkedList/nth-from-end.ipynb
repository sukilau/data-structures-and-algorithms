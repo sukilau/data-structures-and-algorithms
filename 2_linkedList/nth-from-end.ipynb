{
 "cells": [
  {
   "cell_type": "markdown",
   "metadata": {},
   "source": [
    "# Find n-th node from the end"
   ]
  },
  {
   "cell_type": "code",
   "execution_count": null,
   "metadata": {
    "collapsed": true
   },
   "outputs": [],
   "source": [
    "'''\n",
    "Question\n",
    "Find the n-th node from the end of a singly linked list.\n",
    "Implement an algorithm to find the kth to last element of a singly linked list.\n",
    "'''"
   ]
  },
  {
   "cell_type": "markdown",
   "metadata": {},
   "source": [
    "### solution 1"
   ]
  },
  {
   "cell_type": "code",
   "execution_count": 3,
   "metadata": {
    "collapsed": false
   },
   "outputs": [
    {
     "name": "stdout",
     "output_type": "stream",
     "text": [
      "Please input a positive value!\n",
      "Please input a positive value that is smaller than length of the linked list!\n",
      "2\n"
     ]
    }
   ],
   "source": [
    "# Find the n-th node from end of linked list using two pointers\n",
    "\n",
    "'''\n",
    "1. Use two pointers, reference pointer and main pointer. Initialize main pointer to head of linked list \n",
    "    and reference pointer to m nodes from head.\n",
    "2. Move both pointers by one until reference pointer reaches the end. \n",
    "3. Return main pointer.\n",
    "\n",
    "Run time : O(n)\n",
    "Space time : O(1)\n",
    "\n",
    "Reference:\n",
    "http://www.geeksforgeeks.org/nth-node-from-the-end-of-a-linked-list/\n",
    "'''\n",
    "class Node(object):\n",
    "    def __init__(self, value):\n",
    "        self.value = value\n",
    "        self.next = None\n",
    "\n",
    "def push(ll, new_value):\n",
    "    new_node = Node(new_value)\n",
    "    new_node.next = ll\n",
    "    return new_node\n",
    "\n",
    "def find(ll, m):\n",
    "    \n",
    "    if m < 1 :\n",
    "        return \"Please input a positive value!\"\n",
    "    \n",
    "    # initilize main_pointer to head of the linked list\n",
    "    main_pointer = ll\n",
    "\n",
    "    # initilize ref_pointer by moving the ref_pointer m position away from head of the linked list\n",
    "    ref_pointer = ll\n",
    "    current = ll\n",
    "    counter = 1\n",
    "    while counter < m and current.next:\n",
    "        ref_pointer = current.next\n",
    "        current = current.next\n",
    "        counter += 1\n",
    "        \n",
    "    if current.next == None and m > counter:\n",
    "        return \"Please input a positive value that is smaller than length of the linked list!\"\n",
    "    \n",
    "    # move main_pointer and ref_pointer together by one until ref_pointer reach the end of list\n",
    "    while ref_pointer.next : \n",
    "        main_pointer = main_pointer.next\n",
    "        ref_pointer = ref_pointer.next\n",
    "    \n",
    "    return main_pointer.value\n",
    "\n",
    "\n",
    "# Set up linked list 1->2->3->4\n",
    "ll = Node(4)\n",
    "ll = push(ll, 3)\n",
    "ll = push(ll, 2)\n",
    "ll = push(ll, 1)\n",
    "\n",
    "# Test case\n",
    "print(find(ll, 0)) # Please input a positive value!\n",
    "print(find(ll, 5)) # Please input a positive value that is smaller than length of the linked list!\n",
    "print(find(ll, 3)) # 2"
   ]
  }
 ],
 "metadata": {
  "kernelspec": {
   "display_name": "Python 3",
   "language": "python",
   "name": "python3"
  },
  "language_info": {
   "codemirror_mode": {
    "name": "ipython",
    "version": 3
   },
   "file_extension": ".py",
   "mimetype": "text/x-python",
   "name": "python",
   "nbconvert_exporter": "python",
   "pygments_lexer": "ipython3",
   "version": "3.6.0"
  }
 },
 "nbformat": 4,
 "nbformat_minor": 2
}
