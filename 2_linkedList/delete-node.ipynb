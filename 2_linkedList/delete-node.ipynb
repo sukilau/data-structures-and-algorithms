{
 "cells": [
  {
   "cell_type": "markdown",
   "metadata": {},
   "source": [
    "# Delete a Node"
   ]
  },
  {
   "cell_type": "code",
   "execution_count": null,
   "metadata": {
    "collapsed": true
   },
   "outputs": [],
   "source": [
    "'''\n",
    "Question\n",
    "Implement an algorithm to delete a node in the middle of a singly linked list, \n",
    "given only access to that node.\n",
    "'''"
   ]
  },
  {
   "cell_type": "code",
   "execution_count": null,
   "metadata": {
    "collapsed": true
   },
   "outputs": [],
   "source": [
    "'''\n",
    "Write a function to delete a node (except the tail) in a singly linked list,\n",
    "given only access to that node.\n",
    "\n",
    "Suppose the linked list is 1 -> 2 -> 3 -> 4 and you are given the third node \n",
    "with value 3, the linked list should become 1 -> 2 -> 4 after calling your function.\n",
    "\n",
    "https://leetcode.com/problems/delete-node-in-a-linked-list/\n",
    "'''"
   ]
  },
  {
   "cell_type": "markdown",
   "metadata": {},
   "source": [
    "You are given the example Linked List Node class:"
   ]
  },
  {
   "cell_type": "code",
   "execution_count": 2,
   "metadata": {
    "collapsed": true
   },
   "outputs": [],
   "source": [
    "class Node(object):\n",
    "    \n",
    "    def __init__(self,value):\n",
    "        \n",
    "        self.value = value\n",
    "        self.next = None"
   ]
  },
  {
   "cell_type": "markdown",
   "metadata": {},
   "source": [
    "### Solution 1"
   ]
  },
  {
   "cell_type": "code",
   "execution_count": 25,
   "metadata": {
    "collapsed": false
   },
   "outputs": [],
   "source": [
    "def delete(node):\n",
    "    \"\"\"\n",
    "    Time complexity : O(1)\n",
    "    Space complexity : O(1)\"\n",
    "    \"\"\"\n",
    "    node.value = node.next.value\n",
    "    node.next = node.next.next"
   ]
  },
  {
   "cell_type": "code",
   "execution_count": 28,
   "metadata": {
    "collapsed": false
   },
   "outputs": [
    {
     "name": "stdout",
     "output_type": "stream",
     "text": [
      "printing linked list\n",
      "7\n",
      "8\n",
      "9\n",
      "printing linked list\n",
      "7\n",
      "9\n",
      "printing linked list\n",
      "9\n"
     ]
    }
   ],
   "source": [
    "def printll(ll):\n",
    "    current = ll\n",
    "    print(\"printing linked list\") \n",
    "    while current:\n",
    "        print(current.value)\n",
    "        current = current.next\n",
    "\n",
    "# Test case\n",
    "node1 = Node(7)\n",
    "node2 = Node(8)\n",
    "node3 = Node(9)\n",
    "node1.next = node2\n",
    "node2.next = node3\n",
    "node3.next = None\n",
    "printll(node1) #7>8>9\n",
    "\n",
    "delete(node2)\n",
    "printll(node1) #7>9\n",
    "\n",
    "delete(node1)\n",
    "printll(node1) #9"
   ]
  }
 ],
 "metadata": {
  "kernelspec": {
   "display_name": "Python 3",
   "language": "python",
   "name": "python3"
  },
  "language_info": {
   "codemirror_mode": {
    "name": "ipython",
    "version": 3
   },
   "file_extension": ".py",
   "mimetype": "text/x-python",
   "name": "python",
   "nbconvert_exporter": "python",
   "pygments_lexer": "ipython3",
   "version": "3.6.0"
  }
 },
 "nbformat": 4,
 "nbformat_minor": 2
}
