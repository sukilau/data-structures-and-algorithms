{
 "cells": [
  {
   "cell_type": "markdown",
   "metadata": {},
   "source": [
    "# Delete Duplicates"
   ]
  },
  {
   "cell_type": "markdown",
   "metadata": {},
   "source": [
    "## Remove duplicates for sorted linked list"
   ]
  },
  {
   "cell_type": "code",
   "execution_count": null,
   "metadata": {
    "collapsed": true
   },
   "outputs": [],
   "source": [
    "'''\n",
    "Question\n",
    "Given a sorted linked list, delete all duplicates such that each element appears only once.\n",
    "\n",
    "For example,\n",
    "Given 1->1->2, return 1->2.\n",
    "Given 1->1->2->3->, return 1->2->3.\n",
    "'''"
   ]
  },
  {
   "cell_type": "markdown",
   "metadata": {},
   "source": [
    "### Solution 1"
   ]
  },
  {
   "cell_type": "code",
   "execution_count": 2,
   "metadata": {
    "collapsed": true
   },
   "outputs": [],
   "source": [
    "class Element(object):\n",
    "    def __init__(self, value):\n",
    "        self.value = value\n",
    "        self.next = None\n",
    "\n",
    "class LinkedList(object):\n",
    "    def __init__(self, head=None): \n",
    "        self.head = head\n",
    "        \n",
    "    def push(self, new_value):\n",
    "        newElement = Element(new_value)\n",
    "        newElement.next = self.head\n",
    "        self.head = newElement"
   ]
  },
  {
   "cell_type": "code",
   "execution_count": 64,
   "metadata": {
    "collapsed": true
   },
   "outputs": [],
   "source": [
    "def removeDuplicates(ll):\n",
    "    \"\"\"\n",
    "    Using two pointers on sorted linked list\n",
    "    Time complexity is O(n)\n",
    "    Space complexity is O(1)\n",
    "    \n",
    "    1. Set two pointers, slower_pointer = current node, faster_pointer = next node\n",
    "    2. If next node = current node, update slower_pointer.next = faster_pointer.next \n",
    "       (delete duplicate node), update faster_pointer = faster_pointer.next\n",
    "    3. If next node != current node, update both pointers to their next pointers\n",
    "    \n",
    "    \"\"\"\n",
    "    slower_pointer = ll.head\n",
    "    faster_pointer = ll.head.next\n",
    "    \n",
    "    while slower_pointer and faster_pointer:\n",
    "        if slower_pointer.value == faster_pointer.value :\n",
    "            slower_pointer.next = faster_pointer.next\n",
    "            faster_pointer = faster_pointer.next\n",
    "        else :\n",
    "            slower_pointer = slower_pointer.next\n",
    "            faster_pointer = faster_pointer.next\n",
    "    return ll"
   ]
  },
  {
   "cell_type": "code",
   "execution_count": 80,
   "metadata": {
    "collapsed": false
   },
   "outputs": [
    {
     "data": {
      "text/plain": [
       "4"
      ]
     },
     "execution_count": 80,
     "metadata": {},
     "output_type": "execute_result"
    }
   ],
   "source": [
    "ll = LinkedList()  #1\n",
    "ll.push(1)\n",
    "removeDuplicates(ll).head.value #1\n",
    "\n",
    "ll = LinkedList()  #1>1\n",
    "ll.push(1)\n",
    "ll.push(1)\n",
    "removeDuplicates(ll).head.value #1\n",
    "# removeDuplicates(ll).head.next.value #error\n",
    "\n",
    "ll = LinkedList()  #1>2>3>3>4>4\n",
    "ll.push(4)\n",
    "ll.push(4)\n",
    "ll.push(3)\n",
    "ll.push(3)\n",
    "ll.push(2)\n",
    "ll.push(1)\n",
    "\n",
    "ll.head.next.next.next.value #3\n",
    "removeDuplicates(ll)\n",
    "ll.head.next.next.next.value #4\n",
    "# ll.head.next.next.next.next.value #error"
   ]
  },
  {
   "cell_type": "markdown",
   "metadata": {},
   "source": [
    "## Remove duplicates for unsorted linked list"
   ]
  },
  {
   "cell_type": "code",
   "execution_count": null,
   "metadata": {
    "collapsed": true
   },
   "outputs": [],
   "source": [
    "'''\n",
    "Question\n",
    "Write code to remove duplicated from an unsorted list. \n",
    "How would you solve this problem if a temporary buffer is not allowed?\n",
    "'''"
   ]
  },
  {
   "cell_type": "markdown",
   "metadata": {},
   "source": [
    "### Solution 1 (hash table)"
   ]
  },
  {
   "cell_type": "code",
   "execution_count": null,
   "metadata": {
    "collapsed": true
   },
   "outputs": [],
   "source": [
    "class Element(object):\n",
    "    def __init__(self, value):\n",
    "        self.value = value\n",
    "        self.next = None\n",
    "\n",
    "class LinkedList(object):\n",
    "    def __init__(self, head=None): \n",
    "        self.head = head\n",
    "        \n",
    "    def push(self, new_value):\n",
    "        newElement = Element(new_value)\n",
    "        newElement.next = self.head\n",
    "        self.head = newElement"
   ]
  },
  {
   "cell_type": "code",
   "execution_count": 111,
   "metadata": {
    "collapsed": true
   },
   "outputs": [],
   "source": [
    "def removeDuplicatesHash(ll):\n",
    "    \"\"\"\n",
    "    Using a hash table to keep track of nodes already found\n",
    "    Time complexity is O(n)\n",
    "    Space complexity is O(n)\n",
    "    \n",
    "    1. Set two pointers, slower_pointer = previous node, faster_pointer = current node\n",
    "    2. Use a dictionary (hash table) to store found values\n",
    "    2. If current node is in found, update slower_pointer.next = faster_pointer.next \n",
    "       (delete duplicate node), update faster_pointer = faster_pointer.next\n",
    "    3. Otherwise, update both pointers to their next pointers\n",
    "    \"\"\"\n",
    "    \n",
    "    slower_pointer = None\n",
    "    faster_pointer = ll.head\n",
    "    found = {}\n",
    "    \n",
    "    while faster_pointer :\n",
    "        if faster_pointer.value in found :\n",
    "            slower_pointer.next = faster_pointer.next\n",
    "            faster_pointer = faster_pointer.next\n",
    "        else :\n",
    "            found[faster_pointer.value] = 1\n",
    "            slower_pointer = faster_pointer\n",
    "            faster_pointer = faster_pointer.next\n",
    "            \n",
    "    return ll"
   ]
  },
  {
   "cell_type": "code",
   "execution_count": 112,
   "metadata": {
    "collapsed": false
   },
   "outputs": [
    {
     "data": {
      "text/plain": [
       "1"
      ]
     },
     "execution_count": 112,
     "metadata": {},
     "output_type": "execute_result"
    }
   ],
   "source": [
    "ll = LinkedList()  #1\n",
    "ll.push(1)\n",
    "removeDuplicatesHash(ll)\n",
    "ll.head.value #1\n",
    "\n",
    "ll = LinkedList()  #1>1\n",
    "ll.push(1)\n",
    "ll.push(1)\n",
    "removeDuplicatesHash(ll)\n",
    "ll.head.value #1\n",
    "ll.head.next.value #error \n",
    "\n",
    "ll = LinkedList()  #1>3>2>3>4>4\n",
    "ll.push(4)\n",
    "ll.push(4)\n",
    "ll.push(3)\n",
    "ll.push(2)\n",
    "ll.push(3)\n",
    "ll.push(1)\n",
    "\n",
    "ll.head.next.next.next.value #3\n",
    "removeDuplicatesHash(ll)\n",
    "ll.head.next.next.next.value #4\n",
    "ll.head.next.next.next.next.value #error"
   ]
  },
  {
   "cell_type": "markdown",
   "metadata": {},
   "source": [
    "### Solution 2 (no buffer i.e. constant space)"
   ]
  },
  {
   "cell_type": "code",
   "execution_count": 11,
   "metadata": {
    "collapsed": true
   },
   "outputs": [],
   "source": [
    "class Element(object):\n",
    "    def __init__(self, value):\n",
    "        self.value = value\n",
    "        self.next = None\n",
    "\n",
    "class LinkedList(object):\n",
    "    def __init__(self, head=None): \n",
    "        self.head = head\n",
    "        \n",
    "    def push(self, new_value):\n",
    "        newElement = Element(new_value)\n",
    "        newElement.next = self.head\n",
    "        self.head = newElement"
   ]
  },
  {
   "cell_type": "code",
   "execution_count": 20,
   "metadata": {
    "collapsed": false
   },
   "outputs": [],
   "source": [
    "def removeDuplicatesNoBuffer(ll):\n",
    "    \"\"\"\n",
    "    Using two pointer, one pointer represnet current node while \n",
    "    the other pointer checks all following nodes to see if it's a duplicate of current node.\n",
    "    \n",
    "    Time complexity is O(n^2)\n",
    "    Space complexity is O(1)\n",
    "    \n",
    "    \"\"\"\n",
    "    current_ptr = ll.head\n",
    "    ref_ptr = ll.head\n",
    "    \n",
    "    while current_ptr  :\n",
    "        while ref_ptr.next :\n",
    "            if current_ptr.value == ref_ptr.next.value :\n",
    "                ref_ptr.next = ref_ptr.next.next\n",
    "            else :\n",
    "                ref_ptr = ref_ptr.next\n",
    "        current_ptr  = current_ptr.next\n",
    "        ref_ptr = current_ptr \n",
    "\n",
    "    return ll"
   ]
  },
  {
   "cell_type": "code",
   "execution_count": 21,
   "metadata": {
    "collapsed": false
   },
   "outputs": [
    {
     "data": {
      "text/plain": [
       "4"
      ]
     },
     "execution_count": 21,
     "metadata": {},
     "output_type": "execute_result"
    }
   ],
   "source": [
    "ll = LinkedList()  #1>3>2>3>4>4\n",
    "ll.push(4)\n",
    "ll.push(4)\n",
    "ll.push(3)\n",
    "ll.push(2)\n",
    "ll.push(3)\n",
    "ll.push(1)\n",
    "\n",
    "ll.head.value #3\n",
    "removeDuplicatesNoBuffer(ll)\n",
    "ll.head.next.value #3\n",
    "ll.head.next.next.value #2\n",
    "ll.head.next.next.next.value #4\n",
    "# ll.head.next.next.next.next.value #error"
   ]
  },
  {
   "cell_type": "code",
   "execution_count": null,
   "metadata": {
    "collapsed": true
   },
   "outputs": [],
   "source": []
  }
 ],
 "metadata": {
  "kernelspec": {
   "display_name": "Python 3",
   "language": "python",
   "name": "python3"
  },
  "language_info": {
   "codemirror_mode": {
    "name": "ipython",
    "version": 3
   },
   "file_extension": ".py",
   "mimetype": "text/x-python",
   "name": "python",
   "nbconvert_exporter": "python",
   "pygments_lexer": "ipython3",
   "version": "3.6.0"
  }
 },
 "nbformat": 4,
 "nbformat_minor": 2
}
