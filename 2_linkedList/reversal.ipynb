{
 "cells": [
  {
   "cell_type": "markdown",
   "metadata": {},
   "source": [
    "# Reversal"
   ]
  },
  {
   "cell_type": "code",
   "execution_count": null,
   "metadata": {
    "collapsed": true
   },
   "outputs": [],
   "source": [
    "'''\n",
    "Question\n",
    "Write a function to reverse a Linked List in place. \n",
    "The function will take in the head of the list as input and return the new head of the list.\n",
    "'''"
   ]
  },
  {
   "cell_type": "markdown",
   "metadata": {},
   "source": [
    "You are given the example Linked List Node class:"
   ]
  },
  {
   "cell_type": "code",
   "execution_count": 3,
   "metadata": {
    "collapsed": true
   },
   "outputs": [],
   "source": [
    "class Node(object):\n",
    "    \n",
    "    def __init__(self,value):\n",
    "        \n",
    "        self.value = value\n",
    "        self.next = None"
   ]
  },
  {
   "cell_type": "markdown",
   "metadata": {},
   "source": [
    "### Solution 1"
   ]
  },
  {
   "cell_type": "code",
   "execution_count": 4,
   "metadata": {
    "collapsed": true
   },
   "outputs": [],
   "source": [
    "def reverse(node):\n",
    "    \"\"\"\n",
    "    Reverse the linked list by one trasversal using two pointers.\n",
    "    \n",
    "    Time complexity: O(n)\n",
    "    Space complexity: O(1)\n",
    "    \n",
    "    1. Set up two pointers, previous pointer and current pointer.\n",
    "    2. Set up a buffer to store next node.\n",
    "    3. Assign next pointer of the current node to previous node. \n",
    "    \"\"\"\n",
    "    current_pointer = node\n",
    "    previous_pointer = None\n",
    "    nextNode = None\n",
    "    \n",
    "    while current_pointer:\n",
    "        nextNode = current_pointer.next\n",
    "        current_pointer.next = previous_pointer\n",
    "        previous_pointer = current_pointer\n",
    "        current_pointer = nextNode\n",
    "        \n",
    "    return previous_pointer"
   ]
  },
  {
   "cell_type": "code",
   "execution_count": 5,
   "metadata": {
    "collapsed": false
   },
   "outputs": [
    {
     "name": "stdout",
     "output_type": "stream",
     "text": [
      "printing linked list\n",
      "7\n",
      "8\n",
      "9\n",
      "printing linked list\n",
      "9\n",
      "8\n",
      "7\n"
     ]
    }
   ],
   "source": [
    "def printll(ll):\n",
    "    current = ll\n",
    "    print(\"printing linked list\") \n",
    "    while current:\n",
    "        print(current.value)\n",
    "        current = current.next\n",
    "        \n",
    "# Test case\n",
    "node1 = Node(7)\n",
    "node2 = Node(8)\n",
    "node3 = Node(9)\n",
    "node1.next = node2\n",
    "node2.next = node3\n",
    "node3.next = None\n",
    "printll(node1) #7>8>9\n",
    "\n",
    "r = reverse(node1)\n",
    "printll(r)  #9>8>7"
   ]
  },
  {
   "cell_type": "code",
   "execution_count": null,
   "metadata": {
    "collapsed": true
   },
   "outputs": [],
   "source": []
  }
 ],
 "metadata": {
  "kernelspec": {
   "display_name": "Python 3",
   "language": "python",
   "name": "python3"
  },
  "language_info": {
   "codemirror_mode": {
    "name": "ipython",
    "version": 3
   },
   "file_extension": ".py",
   "mimetype": "text/x-python",
   "name": "python",
   "nbconvert_exporter": "python",
   "pygments_lexer": "ipython3",
   "version": "3.6.0"
  }
 },
 "nbformat": 4,
 "nbformat_minor": 2
}
