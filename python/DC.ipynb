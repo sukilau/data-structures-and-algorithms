{
 "cells": [
  {
   "cell_type": "markdown",
   "metadata": {},
   "source": [
    "# Divide and Conquer\n",
    "\n",
    "* DC1: Fast Integer Multiplication\n",
    "* DC2: Linear-time Median\n",
    "* DC3: Solving Recurrences\n",
    "* DC4, DC5: Fast Polynomial Multiplication using Fast Fourier Transform (FFT)\n",
    "\n",
    "#### What is Divide and Conquer?\n",
    "* Divide and Conquer algorithms solve problems in three steps:\n",
    "    1. Divide: Break the given problem into subproblems of same type.\n",
    "    2. Conquer: Recursively solve these subproblems\n",
    "    3. Combine: Appropriately combine the answers\n",
    "* Examples: binary search, quicksort, mergesort\n",
    "\n",
    "#### Divide and Conquer vs. Dynamic Programming\n",
    "* Divide and Conquer should be used when same subproblems are not evaluated many times. Otherwise Dynamic Programming or Memoization should be used.\n",
    "\n",
    "[Resource 1](https://classroom.udacity.com/courses/ud401)\n",
    "[Resource 2](https://www.geeksforgeeks.org/divide-and-conquer-introduction/)"
   ]
  },
  {
   "cell_type": "markdown",
   "metadata": {},
   "source": [
    "---\n",
    "# DC1"
   ]
  },
  {
   "cell_type": "markdown",
   "metadata": {},
   "source": [
    "---\n",
    "### Fast Integer Multiplication\n",
    "* Problem: Given 2 n-bit integers x and y (when n is large). Compute z=xy efficiently.\n",
    "\n",
    "#### Naive approach \n",
    "* Run time O(n^2) for naive approach\n",
    "\n",
    "#### Simple divide and conquer approach\n",
    "* Divide x and y into halves: `x=2^(n/2)*xL + xR` and `y=2^(n/2)*yL + yR`\n",
    "* Run time: `T(n)=4T(n/2)+O(n)=O(n^2)`\n",
    "* 4 multiplcations => not better than naive approach\n",
    "\n",
    "#### Improved divide and conquer approach using Gauss's idea\n",
    "* Use Gauss's idea to reduce 4 multiplcations into 3 multiplcation when computing (a+bi)(c+di)\n",
    "* That is, `xy = (2^(n/2)*xL + xR)(2^(n/2)*yL + yR) = 2^n*xL*yL + 2^(n/2)*(xL*yR + xR*yL) + xR*yR`. Then use the trick `xL*yR + xR*yL =(xL+xR)(yL+yR) - xL*yL - yR*yR`\n",
    "* Run time: `T(n)=3T(n/2)+O(n)~O(n^1.59)`\n",
    "* Use 3 multiplcations instead => better performance\n",
    "\n",
    "[Reference](https://www.geeksforgeeks.org/divide-and-conquer-set-2-karatsuba-algorithm-for-fast-multiplication/)"
   ]
  },
  {
   "cell_type": "code",
   "execution_count": 85,
   "metadata": {},
   "outputs": [
    {
     "name": "stdout",
     "output_type": "stream",
     "text": [
      "1100 1110\n",
      "12 14\n",
      "168 0b10101000 0b10101000\n"
     ]
    }
   ],
   "source": [
    "# int to bit\n",
    "print(str(bin(12))[2:], str(bin(14))[2:])\n",
    "\n",
    "# bit to integer\n",
    "print(int('1100',2), int('1110',2))\n",
    "\n",
    "print(12*14, bin(12*14), bin(0b1100*0b1110))"
   ]
  },
  {
   "cell_type": "code",
   "execution_count": 2,
   "metadata": {},
   "outputs": [
    {
     "data": {
      "text/plain": [
       "168"
      ]
     },
     "execution_count": 2,
     "metadata": {},
     "output_type": "execute_result"
    }
   ],
   "source": [
    "def fastMultiply1(x,y):\n",
    "#     print('check1:', x,y)\n",
    "\n",
    "    if len(str(x)) == 1 or len(str(y)) == 1:\n",
    "        return x*y\n",
    "    else:\n",
    "        n = max(len(str(x)),len(str(y)))\n",
    "        nby2 = n // 2\n",
    "    \n",
    "        xL = x // 10**(nby2)\n",
    "        xR = x % 10**(nby2)\n",
    "        yL = y // 10**(nby2)\n",
    "        yR = y % 10**(nby2)\n",
    "#         print('check2:', xL,xR,yL,yR)\n",
    "\n",
    "        # xy = (2^(n/2)*xL + xR)(2^(n/2)*yL + yR) = 2^n*xL*yL + 2^(n/2)*(xL*yR + xR*yL) + xR*yR\n",
    "        # Then use the trick xL*yR + xR*yL =(xL+xR)(yL+yR) - xL*yL - yR*yR\n",
    "        A = fastMultiply1(xL,yL)\n",
    "        B = fastMultiply1(xR,yR)\n",
    "        C = fastMultiply1(xL+xR,yL+yR)\n",
    "        return (2**n)*A + (2**(n//2))*(C-A-B) + B\n",
    "    \n",
    "fastMultiply1(1100,1110)\n"
   ]
  },
  {
   "cell_type": "code",
   "execution_count": 3,
   "metadata": {},
   "outputs": [
    {
     "data": {
      "text/plain": [
       "160"
      ]
     },
     "execution_count": 3,
     "metadata": {},
     "output_type": "execute_result"
    }
   ],
   "source": [
    "# something wrong\n",
    "\n",
    "def fastMultiply2(x,y):\n",
    "    '''\n",
    "    Input 2 n-bit numbers x,y in string format\n",
    "    COmpute z=xy\n",
    "    '''\n",
    "#     print('check1:', x,y)\n",
    "    \n",
    "    if len(x) == 1 or len(y) == 1:\n",
    "        return int(x,2)*int(y,2)\n",
    "    else:\n",
    "        n = max(len(x),len(y))\n",
    "        nby2 = n // 2\n",
    "    \n",
    "        xL = x[:nby2]\n",
    "        xR = x[nby2:]\n",
    "        yL = y[:nby2]\n",
    "        yR = y[nby2:]\n",
    "        xLaddxR = str(bin(int(xL,2)+int(xR,2)))[2:]\n",
    "        yLaddyR = str(bin(int(yL,2)+int(yR,2)))[2:]\n",
    "#         print('check2:', xL,xR,yL,yR)\n",
    "        \n",
    "        # xy = (2^(n/2)*xL + xR)(2^(n/2)*yL + yR) = 2^n*xL*yL + 2^(n/2)*(xL*yR + xR*yL) + xR*yR\n",
    "        # Then use the trick xL*yR + xR*yL =(xL+xR)(yL+yR) - xL*yL - yR*yR\n",
    "        A = fastMultiply2(xL,yL)\n",
    "        B = fastMultiply2(xR,yR)\n",
    "        C = fastMultiply2(xLaddxR,yLaddyR)\n",
    "        \n",
    "        return (2**n)*A + (2**nby2)*(C-A-B) + B\n",
    "    \n",
    "fastMultiply2('1100','1110')"
   ]
  },
  {
   "cell_type": "markdown",
   "metadata": {},
   "source": [
    "---\n",
    "# DC2"
   ]
  },
  {
   "cell_type": "markdown",
   "metadata": {},
   "source": [
    "---\n",
    "### Linear-time Median\n",
    "\n",
    "#### Problem\n",
    "* Problem: Given an unsorted list A=[a1,...,an] of n numbers. Find the median of A (for odd n=2l+1, median is the (l+1)st smallest).\n",
    "* More general problem: Given an unsorted list A=[a1,...,an] of n numbers and k where 1<=k<=n. Find the kth smallest of A.\n",
    "\n",
    "#### Solutions\n",
    "* Easy Algorithm: Sort A and then output the kth element. MergeSort run time O(nlogn).\n",
    "* Divide and Conquer Approach using Random pivot. Expected run time O(n) time.\n",
    "* Divide and Conquer Approach using Recursive pivot. Worst run time O(n) time.\n",
    "\n",
    "#### DC Approach using Recusive Pivot - Idea\n",
    "* QuickSort\n",
    "    * Choose a pivot p\n",
    "    * Partition A into A< p, A=p and A> p\n",
    "    * Recursively sort A< p and A> p\n",
    "    * The challenge is to choose a good pivot (eg. median)\n",
    "* Good pivot\n",
    "    * A pivot p is good if len(A<p)<=3n/4 and len(A>p)<=3n/4\n",
    "    * The goal is to find a good pivot p in O(n) time, i.e. `T(n)=T(3n/4)+O(n)=O(n)`\n",
    "    * Radnom pivot has expected run time O(n) becasue a ranodm pivot has 0.5 probability being a good pivot, but we want to guarantee that the worst run time is also O(n)\n",
    "    * To find a good pivot, we can divide A into n/5 group, take medians of subgroup as a reppresentative sample, and then recursively find median of the sample as our pivot. It is a good pivot becasue `T(n)=T(3n/4)+T(n/5)+O(n)=O(n)` because 3/4+1/5<1\n",
    "    \n",
    "####  DC Approach using Recusive Pivot - Pseudocode\n",
    "1. Break A into n/5 group, `G_1,G_2,...,G_n/5`\n",
    "2. For i=1 to n/5, sort G_i and let `m_i=median(G_i)`\n",
    "3. Let `S={m(1,...,m_n/5}`\n",
    "4. `p = FastSelect(S,n/10)` i.e. the median of S\n",
    "5. Partition A into `A<p, A=p and A>p`\n",
    "6. Recurse on A< p or A> p or output p\n",
    "    * If `k<=len(A<p)` then return `FastSelect(A<p, k)`\n",
    "    * If `k>len(A<p)+len(A=p)` then return `FastSelect(A>p, k-len(A<p)-len(A=p))`\n",
    "    * Else output p\n",
    "    \n",
    "[Reference 1](https://www.geeksforgeeks.org/kth-smallestlargest-element-unsorted-array-set-3-worst-case-linear-time/)\n",
    "[Reference 2](http://www.ardendertat.com/2011/10/27/programming-interview-questions-10-kth-largest-element-in-array/)"
   ]
  },
  {
   "cell_type": "code",
   "execution_count": 36,
   "metadata": {},
   "outputs": [
    {
     "data": {
      "text/plain": [
       "3"
      ]
     },
     "execution_count": 36,
     "metadata": {},
     "output_type": "execute_result"
    }
   ],
   "source": [
    "def findKMin1(A,k):\n",
    "    '''    \n",
    "    Input: unsorted array A of size n & integer k where 1<=k<=n\n",
    "    Return kth smallest of A by sorting the array first \n",
    "    Expected run time: O(nlogn)\n",
    "    '''\n",
    "    A = sorted(A)\n",
    "    return A[k]\n",
    "    \n",
    "findKMin1([4,5,7,1,2,8,3,3,6,9],3)"
   ]
  },
  {
   "cell_type": "code",
   "execution_count": 39,
   "metadata": {},
   "outputs": [
    {
     "data": {
      "text/plain": [
       "3"
      ]
     },
     "execution_count": 39,
     "metadata": {},
     "output_type": "execute_result"
    }
   ],
   "source": [
    "from random import randrange\n",
    "\n",
    "def findKMin2(A,k,start=0,end=None):\n",
    "    '''    \n",
    "    Input: unsorted array A of size n & integer k where 1<=k<=n\n",
    "    Return kth smallest of A using random pivot (similar to quick sort)\n",
    "    Expected run time: O(n)\n",
    "    assumption: Input will only contain unique elements\n",
    "    '''\n",
    "    if k > len(A):\n",
    "        raise Exception(\"k should be less than the length of the input array\")\n",
    "        \n",
    "    if not end:\n",
    "        end = len(A)-1\n",
    "\n",
    "    pivot_idx = randrange(start,end)  # random pivot\n",
    "    pivot = A[pivot_idx]\n",
    "    new_pivot_idx = partition2(A,start,end,pivot_idx)\n",
    "    \n",
    "    if new_pivot_idx+1 == k:\n",
    "        return pivot\n",
    "    elif new_pivot_idx+1 > k:\n",
    "        return findKMin2(A,k,start,new_pivot_idx)\n",
    "    else:\n",
    "        return findKMin2(A,k,new_pivot_idx,end)\n",
    "\n",
    "def partition2(A,start,end,pivot_idx):\n",
    "    '''Helper function to partitions array in-place around the pivot value'''\n",
    "    pivot = A[pivot_idx]\n",
    "    A[end], A[pivot_idx] = A[pivot_idx], A[end]\n",
    "    new_idx = start\n",
    "    for i in range(start,end):\n",
    "        if A[i] <= pivot:\n",
    "            A[new_idx], A[i] = A[i], A[new_idx]\n",
    "            new_idx += 1\n",
    "    A[end], A[new_idx] = A[new_idx], A[end]\n",
    "#     print('check', A, pivot)\n",
    "    return new_idx\n",
    "\n",
    "findKMin2([4,5,7,1,2,8,3,3,6,9],4)"
   ]
  },
  {
   "cell_type": "code",
   "execution_count": 72,
   "metadata": {},
   "outputs": [
    {
     "name": "stdout",
     "output_type": "stream",
     "text": [
      "check medians [4, 6]\n",
      "check pivot 6\n",
      "check pivot index 5\n",
      "check medians [3]\n",
      "check pivot 3\n",
      "check pivot index 1\n"
     ]
    },
    {
     "data": {
      "text/plain": [
       "3"
      ]
     },
     "execution_count": 72,
     "metadata": {},
     "output_type": "execute_result"
    }
   ],
   "source": [
    "def findKMin3(A, left, right, k):\n",
    "    '''    \n",
    "    Input: unsorted array A of size n & integer k where 1<=k<=n\n",
    "    Return kth smallest of A using recursive pivot (median of medians)\n",
    "    Worst run time: O(n)\n",
    "    \n",
    "    Idea is to divide A into subarray of length 5, \n",
    "    recursively find the kth smallest of the medians of subarrays a\n",
    "    \n",
    "    1. Break A into n/5 group, G_1,G_2,...,G_n/5\n",
    "    2. For i=1 to n/5, sort G_i and let m_i=median(G_i)\n",
    "    3. Let S={m(1,...,m_n/5}\n",
    "    4. p = FastSelect(S,n/10) i.e. the median of S\n",
    "    5. Partition A into A<p, A=p and A>p\n",
    "    6. Recurse on A< p or A> p or output p\n",
    "            If k<=len(A<p) then return FastSelect(A<p, k)\n",
    "            If k>len(A<p)+len(A=p) then return FastSelect(A>p, k-len(A<p)-len(A=p))\n",
    "            Else output p\n",
    "    '''\n",
    "    # base case\n",
    "    length = right-left+1\n",
    "    if not 1<=k<=length:\n",
    "        return\n",
    "    if length<=5:\n",
    "        return sorted(A[left:right+1])[k-1]\n",
    "    \n",
    "    # divide A into subarrays of length 5, and recursively find medians of subarrays\n",
    "    numMedians = length//5\n",
    "    medians = [findKMin3(A, left+5*i, left+5*(i+1)-1, 3) for i in range(numMedians)]\n",
    "    print('check medians', medians)\n",
    "    \n",
    "    # recursively find median of medians as pivot\n",
    "    pivot = findKMin3(medians, 0, len(medians)-1, len(medians)//2+1)\n",
    "    print('check pivot', pivot)\n",
    "    \n",
    "    # partition A around pivot\n",
    "    pivotIndex = partition3(A, left, right, pivot)\n",
    "    print('check pivot index', pivotIndex)\n",
    "    \n",
    "    # recurse on A<=p and A>p\n",
    "    rank = pivotIndex-left+1\n",
    "    if k<=rank:\n",
    "        return findKMin3(A, left, pivotIndex, k)\n",
    "    else:\n",
    "        return findKMin3(A, pivotIndex+1, right, k-rank)\n",
    "    \n",
    "    \n",
    "def partition3(A, left, right, pivot):\n",
    "    '''Helper function to partitions array in-place around the pivot value'''\n",
    "    swapIndex=left\n",
    "    for i in range(left, right+1):\n",
    "        if A[i]<pivot:\n",
    "            A[i], A[swapIndex] = A[swapIndex], A[i]\n",
    "            swapIndex+=1\n",
    "    return swapIndex-1\n",
    "\n",
    "\n",
    "findKMin3([4,5,7,1,2,8,3,3,6,10,11],0,10,4)"
   ]
  },
  {
   "cell_type": "markdown",
   "metadata": {},
   "source": [
    "---\n",
    "# DC4, DC5"
   ]
  },
  {
   "cell_type": "markdown",
   "metadata": {},
   "source": [
    "---\n",
    "### Polynomial Multiplication using Fast Fourier Transform (FFT)\n",
    "\n",
    "#### Problem\n",
    "* Input: `a=(a0,a1,...,an-1)` and `b=(b0,b1,...,bn-1)`\n",
    "* Output: convolution `c=a*b=c0,c1,...,c2n-1)` where `ck=a0*bk+a1*bk-1+...+ak*b0`\n",
    "* In the other words, given two polynomicals `A(x)=a0+a1*x+...+an-1*x^(n-1)` and `B(x)=b0+b1*x+...+bn-1*x^(n-1)`. Compute `C(x)=A(x)B(x)=c0+c1*x+...+c2n-2*x^(2n-2)` where `ck=a0*bk+a1*bk-1+...+ak*b0`\n",
    "\n",
    "#### Naive Approach to solve polynomial multiplication\n",
    "* O(k) time for ck => Run time O(n^2)\n",
    "* Can we do it in O(nlogn) time?\n",
    "    \n",
    "#### FFT  (Divide and Conquer Algorithm)\n",
    "* Use FFT to convert coefficients of A(x) and B(x) to values representation. Run time `T(n)=2T(n/2)+O(n) = O(nlogn)`\n",
    "* Multiply polynomials in values representation: `C(xi)=A(xi)B(xi)`. Run time O(n).\n",
    "* Use Invserse FFT to convert values representation to coeffieints of C(x). Run time O(nlogn).\n",
    "\n",
    "[Reference](https://www.geeksforgeeks.org/fast-fourier-transformation-poynomial-multiplication/)"
   ]
  },
  {
   "cell_type": "code",
   "execution_count": 78,
   "metadata": {},
   "outputs": [
    {
     "name": "stdout",
     "output_type": "stream",
     "text": [
      "[0, 0, 0, 0, 0, 0]\n"
     ]
    },
    {
     "data": {
      "text/plain": [
       "[5, 10, 30, 26, 52, 24]"
      ]
     },
     "execution_count": 78,
     "metadata": {},
     "output_type": "execute_result"
    }
   ],
   "source": [
    "# Naive approach for polynomical multiplication\n",
    "def polynomialMultiply(A, B):\n",
    "    '''\n",
    "    Run time O(mn)\n",
    "    Space O(mn)\n",
    "    '''\n",
    "    m = len(A)\n",
    "    n = len(B)\n",
    "    prod = [0]*(m+n-1)\n",
    "    for i in range(m):\n",
    "        for j in range(n):\n",
    "            prod[i+j] += A[i]*B[j] \n",
    "    return prod\n",
    "\n",
    "A = [5,0,10,6] # A=5+10x^2+6x^3\n",
    "B = [1,2,4]   # B=1+2x+4x^2\n",
    "polynomialMultiply(A, B) #prod=5+10x+30x^2+26x^3+52x^4+24x^5\n"
   ]
  },
  {
   "cell_type": "code",
   "execution_count": null,
   "metadata": {},
   "outputs": [],
   "source": [
    "# Polynomail multiplication using FFT\n",
    "def FFT(A,B):\n",
    "    '''\n",
    "    Input A=(a0,...,an-1) and B=(b0,...,bn-1) coefficients of polynomials A(x) and B(x)\n",
    "    Return C=(c0,...,c2n-2) coefficients of C(x)=A(x)B(x)\n",
    "    Run time O(nlogn)\n",
    "    \n",
    "    Idea:\n",
    "    (r0,...,r2n-1) = FFT(A, w2n)\n",
    "    (s0,...,s2n-1) = FFT(B, w2n)\n",
    "    for j=0 to 2n-1, tj = rj*sj\n",
    "    (c0,...,c2n-1) = 1/2n * FFT(t, w2n^2n-1)\n",
    "    '''\n",
    "    return "
   ]
  },
  {
   "cell_type": "code",
   "execution_count": 80,
   "metadata": {},
   "outputs": [],
   "source": [
    "#https://gist.github.com/berenoguz/f8bd037a82a23737a560d695cc9d6a0efrom cmath import exp\n",
    "\n",
    "from math import pi\n",
    "\n",
    "class NthRootOfUnity:\n",
    "    '''\n",
    "    A simple class to simulate n-th root of unity\n",
    "    This class is by no means complete and is implemented merely for FFT and FPM algorithms\n",
    "    '''\n",
    "    def __init__(self, n, k = 1):\n",
    "        self.k = k\n",
    "        self.n = n\n",
    "\n",
    "    def __pow__(self, other):\n",
    "        if type(other) is int:\n",
    "            n = NthRootOfUnity(self.n, self.k * other)\n",
    "            return n\n",
    "\n",
    "    def __eq__(self, other):\n",
    "        if other == 1:\n",
    "            return abs(self.n) == abs(self.k)\n",
    "\n",
    "    def __mul__(self, other):\n",
    "        return exp(2*1j*pi*self.k/self.n)*other\n",
    "\n",
    "    def __repr__(self):\n",
    "        return str(self.n) + \"-th root of unity to the \" + str(self.k)\n",
    "\n",
    "    @property\n",
    "    def th(self):\n",
    "        return abs(self.n // self.k)\n",
    "\n",
    "def FFT(A, omega):\n",
    "    '''\n",
    "    The Fast Fourier Transform Algorithm\n",
    "    Input: A, An array of integers of size n representing a polynomial\n",
    "           omega, a root of unity\n",
    "    Output: [A(omega), A(omega^2), ..., A(omega^(n-1))]\n",
    "    Run time: O(n logn)\n",
    "    '''\n",
    "    if omega == 1:\n",
    "        return [sum(A)]\n",
    "    B = [[],[]]\n",
    "    i = 0\n",
    "    for a in A:\n",
    "        B[i%2].append(a)\n",
    "        i+=1\n",
    "    o2 = omega**2\n",
    "    C1 = FFT(B[0], o2)\n",
    "    C2 = FFT(B[1], o2)\n",
    "    C3 = [None]*omega.th\n",
    "    for i in range(omega.th//2):\n",
    "        C3[i] = C1[i] + omega**i * C2[i]\n",
    "        C3[i+omega.th//2] = C1[i] - omega**i * C2[i]\n",
    "    return C3\n",
    "\n",
    "def FPM(A,B):\n",
    "    '''\n",
    "    The Fast Polynomial Multiplication Algorithm\n",
    "    Input: A,B arrays of integers representing polynomials of lenth O(n)\n",
    "    Output: Coefficient representation of AB\n",
    "    Run time: O(n logn)\n",
    "    '''\n",
    "    n = 1<<(len(A)+len(B)-2).bit_length()\n",
    "    o = NthRootOfUnity(n)\n",
    "    AT = FFT(A, o)\n",
    "    BT = FFT(B, o)\n",
    "    C = [AT[i]*BT[i] for i in range(n)]\n",
    "    nm = (len(A)+len(B)-1)\n",
    "    D = [int((a/n).real) for a in FFT(C, o ** -1)]\n",
    "    while True:\n",
    "        if D[-1] != 0:\n",
    "            return D\n",
    "        else:\n",
    "            del D[-1]"
   ]
  },
  {
   "cell_type": "code",
   "execution_count": 81,
   "metadata": {},
   "outputs": [
    {
     "data": {
      "text/plain": [
       "[5, 10, 30, 26, 52, 24]"
      ]
     },
     "execution_count": 81,
     "metadata": {},
     "output_type": "execute_result"
    }
   ],
   "source": [
    "A = [5,0,10,6] # A=5+10x^2+6x^3\n",
    "B = [1,2,4]   # B=1+2x+4x^2\n",
    "FPM(A, B) #prod=5+10x+30x^2+26x^3+52x^4+24x^5"
   ]
  },
  {
   "cell_type": "code",
   "execution_count": null,
   "metadata": {},
   "outputs": [],
   "source": []
  }
 ],
 "metadata": {
  "kernelspec": {
   "display_name": "Python 3",
   "language": "python",
   "name": "python3"
  },
  "language_info": {
   "codemirror_mode": {
    "name": "ipython",
    "version": 3
   },
   "file_extension": ".py",
   "mimetype": "text/x-python",
   "name": "python",
   "nbconvert_exporter": "python",
   "pygments_lexer": "ipython3",
   "version": "3.6.5"
  }
 },
 "nbformat": 4,
 "nbformat_minor": 2
}
