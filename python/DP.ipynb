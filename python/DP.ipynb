{
 "cells": [
  {
   "cell_type": "markdown",
   "metadata": {},
   "source": [
    "# Dynamic Programming\n",
    "* DP1\n",
    "    * Fibonacci sequences\n",
    "    * Longest Increasing Subsequence (LIS)\n",
    "    * Longest Common Subsequence (LCS)\n",
    "* DP2\n",
    "    * Knapsack\n",
    "    * Chain Matrix Multiplication\n",
    "* DP3\n",
    "    * Shortest Path Algorithms\n",
    "\n",
    "#### What is dynamic programming?\n",
    "* DP is a method for solving a complex problem by breaking it down into a collection of simpler subproblems, solving each of those subproblems just once, and storing their solutions.\n",
    "* DP properties: overlapping subproblems and optimal substructure\n",
    "* Memorization (Top Down) vs. Tabulation (Bottom Up)\n",
    "\n",
    "[Resource 1](https://classroom.udacity.com/courses/ud401)\n",
    "[Resource 2](https://www.geeksforgeeks.org/dynamic-programming/)"
   ]
  },
  {
   "cell_type": "markdown",
   "metadata": {},
   "source": [
    "---\n",
    "# DP1"
   ]
  },
  {
   "cell_type": "markdown",
   "metadata": {},
   "source": [
    "---\n",
    "### Fibonacci sequences\n",
    "* Recursion (exponential run time) vs. Dynamic programming (linear run time)\n",
    "* Note that DP itself has no recursion\n",
    "* Two ways to do DP\n",
    "    * Memoization (Top Down) - Using recursion to solve the sub-problem and storing the result in some hash table.\n",
    "    * Tabulation (Bottom Up) - Using Iterative approach to solve the problem by solving the smaller sub-problems first and then using it during the execution of bigger problem.\n",
    "    * [Reference](https://stackoverflow.com/questions/12042356/memoization-or-tabulation-approach-for-dynamic-programming)"
   ]
  },
  {
   "cell_type": "code",
   "execution_count": 12,
   "metadata": {},
   "outputs": [],
   "source": [
    "# naive recursion implementation\n",
    "# run time: exponential in n\n",
    "\n",
    "# run time: T(n) = O(1) + T(n-1) + T(n-2), where T(n)=num of steps to compute F_n\n",
    "# that means run time using recursion is at least F_n which grows exponentially in n => bad algorithm\n",
    "# the reason is that it recomputes solution of small sub-problems many times\n",
    "\n",
    "# https://www.geeksforgeeks.org/time-complexity-recursive-fibonacci-program/\n",
    "\n",
    "def fibonacci(n):\n",
    "    if n == 0 or n == 1:\n",
    "        return n\n",
    "    return fibonacci(n-1) + fibonacci(n-2)"
   ]
  },
  {
   "cell_type": "code",
   "execution_count": 37,
   "metadata": {},
   "outputs": [
    {
     "name": "stdout",
     "output_type": "stream",
     "text": [
      "0\n",
      "1\n",
      "55\n"
     ]
    }
   ],
   "source": [
    "# dynamic programming (tabulation) implementation\n",
    "# run time: O(n), space: O(n)\n",
    "\n",
    "def fib_dp(n):\n",
    "    '''\n",
    "    Return fibonancci number Fn\n",
    "    Run time: O(n)\n",
    "    Space: O(n)\n",
    "    '''\n",
    "    f = [None] * (n + 1)\n",
    "    f[0] = 0\n",
    "    if n>0: f[1] = 1   \n",
    "    for i in range(2,n+1):\n",
    "        f[i] = f[i-1]+f[i-2]\n",
    "    return f[n]\n",
    "\n",
    "print(fib_dp(0))\n",
    "print(fib_dp(1))\n",
    "print(fib_dp(10))"
   ]
  },
  {
   "cell_type": "code",
   "execution_count": 82,
   "metadata": {},
   "outputs": [
    {
     "name": "stdout",
     "output_type": "stream",
     "text": [
      "0\n",
      "1\n",
      "55\n"
     ]
    }
   ],
   "source": [
    "# dynamic programming (memorization) implementation\n",
    "\n",
    "def fib(n, lookup):\n",
    "    # Base case\n",
    "    if n == 0 or n == 1 :\n",
    "        lookup[n] = n\n",
    " \n",
    "    # If the value is not calculated previously then calculate it\n",
    "    if lookup[n] is None:\n",
    "        lookup[n] = fib(n-1 , lookup)  + fib(n-2 , lookup) \n",
    " \n",
    "    # return the value corresponding to that value of n\n",
    "    return lookup[n]\n",
    "\n",
    "lookup = [None] * (100 + 1)\n",
    "print(fib(0, lookup))\n",
    "print(fib(1, lookup))\n",
    "print(fib(10, lookup))"
   ]
  },
  {
   "cell_type": "code",
   "execution_count": 13,
   "metadata": {},
   "outputs": [],
   "source": [
    "# iteration implementation\n",
    "# run time: O(n), space: O(1)\n",
    "\n",
    "def fibonacci(n):\n",
    "    a = 0\n",
    "    b = 1\n",
    "    for i in range(n):\n",
    "        a, b = b, a+b\n",
    "    return a"
   ]
  },
  {
   "cell_type": "markdown",
   "metadata": {},
   "source": [
    "---\n",
    "### Longest Increasing Subsequence (LIS)\n",
    "* Input: n numbers a1,a2,...,an\n",
    "* Goal: find the length of LIS in a1,...,an\n",
    "* Note that substring = set of consecutive elements, and subsequence = subset of elements in order (can skip)\n",
    "\n",
    "#### DP Solution\n",
    "* Trick: keep track of length(LIS) for every ending character\n",
    "* Step 1. Define subproblem in words (try prefix, then substring)\n",
    "    * Let `L(i)=length of LIS on a1,a2,...,ai which includes ai`\n",
    "* Step 2. State recursive relation, express L(i) in terms of L(1),..,L(i-1)\n",
    "    * `L(i) = 1 + max_j { L(j): aj<ai & j<i }`\n",
    "    \n",
    "\n",
    "\n",
    "[Reference](https://www.geeksforgeeks.org/longest-increasing-subsequence/)"
   ]
  },
  {
   "cell_type": "code",
   "execution_count": 93,
   "metadata": {},
   "outputs": [
    {
     "name": "stdout",
     "output_type": "stream",
     "text": [
      "Length of LIS for every ending character:  [1, 2, 1, 1, 3, 2, 4, 3, 4, 5, 6, 3]\n"
     ]
    },
    {
     "data": {
      "text/plain": [
       "6"
      ]
     },
     "execution_count": 93,
     "metadata": {},
     "output_type": "execute_result"
    }
   ],
   "source": [
    "# dynamic programming (tabulation) implementation\n",
    "\n",
    "def LIS(a):\n",
    "    '''\n",
    "    Return the length of Longest Increasing Subsequence\n",
    "    Run time: O(n^2), Space: O(n)\n",
    "    '''\n",
    "    # L keep track of of len(LIS) for every ending charcter in a\n",
    "    L = [None]*len(a)  \n",
    "    for i in range(len(a)):\n",
    "        L[i] = 1\n",
    "        for j in range(i):\n",
    "            if (a[j] < a[i]) & (L[i] < 1+L[j]):\n",
    "                L[i] = 1 + L[j]\n",
    "    print(\"Length of LIS for every ending character: \", L)\n",
    "    \n",
    "    # find max length\n",
    "    max_ = 1\n",
    "    for i in range(1, len(a)):\n",
    "        if (L[i] > L[max_]):\n",
    "            max_ = i\n",
    "    \n",
    "    return L[max_]\n",
    "\n",
    "\n",
    "\n",
    "LIS([5,7,4,-3,9,1,10,4,5,8,9,3])\n",
    "# LIS = [-3,1,4,5,8,9]\n",
    "# L = [1, 2, 1, 1, 3, 2, 4, 3, 4, 5, 6, 3]"
   ]
  },
  {
   "cell_type": "markdown",
   "metadata": {},
   "source": [
    "---\n",
    "### Longest Common Subsequence (LCS)\n",
    "* Input: 2 strings X={x1,x2,...,xn}, y={y1,y2,...,yn}\n",
    "* Goal: Find the length of longest string which is a subsequence of both X & Y\n",
    "\n",
    "#### DP Solution\n",
    "* Trick: keep track of length(LCS) for every ending character in X and Y\n",
    "* Step 1. Define subproblem in words (try prefix, then substring)\n",
    "    * Let `L(i,j)=length of LCS in Xi={x1,...,xi} and Yi={y1,...yj} for 0<=i,j<=n`\n",
    "* Step 2. State recursive relation, express L(i) in terms of L(1),..,L(i-1)\n",
    "    * if xi=xj,then `L(i,j) = 1 + L(i-1,j-1)`\n",
    "    * if xi!=xj, either xi or yj not in optimal solution\n",
    "        * if drop xi, then L(i,j)=L(i-1,j)\n",
    "        * if drop yj, then L(i,j)=L(i,j-1)\n",
    "        * so `L(i,j) = max{L(i-1,j}, L{i,j-1}`\n",
    "   \n",
    "[Reference](https://www.geeksforgeeks.org/longest-common-subsequence/)"
   ]
  },
  {
   "cell_type": "code",
   "execution_count": 102,
   "metadata": {},
   "outputs": [
    {
     "data": {
      "text/plain": [
       "4"
      ]
     },
     "execution_count": 102,
     "metadata": {},
     "output_type": "execute_result"
    }
   ],
   "source": [
    "# dynamic programming (tabulation) implementation\n",
    "\n",
    "def LCS(x,y):\n",
    "    '''\n",
    "    Return the length of Longest Common Subsequence of x and y\n",
    "    Run time: O(n^2), Space: O(n^2)\n",
    "    '''\n",
    "    m = len(x)\n",
    "    n = len(y)\n",
    "    L = [[None]*(n+1) for i in range(m+1)]  # m+1*(n+1) matrix to store L(i,j)\n",
    "\n",
    "    for i in range(m+1):\n",
    "        for j in range(n+1):\n",
    "            # base case\n",
    "            if i==0 or j==0:\n",
    "                L[i][j] = 0   \n",
    "            elif x[i-1] == y[j-1]:\n",
    "                L[i][j] = L[i-1][j-1] + 1\n",
    "            else:\n",
    "                L[i][j] = max(L[i-1][j], L[i][j-1])\n",
    "    return L[m][n]\n",
    "            \n",
    "\n",
    "LCS(\"BCDBCDA\",\"ABECBA\")"
   ]
  },
  {
   "cell_type": "code",
   "execution_count": 103,
   "metadata": {},
   "outputs": [
    {
     "data": {
      "text/plain": [
       "4"
      ]
     },
     "execution_count": 103,
     "metadata": {},
     "output_type": "execute_result"
    }
   ],
   "source": [
    "# naive recursion implementation - exponential run time  O(2^n)\n",
    "\n",
    "def lcs(x, y, m, n):\n",
    "    if m==0 or n==0:\n",
    "        return 0;\n",
    "    elif x[m-1] == y[n-1]:\n",
    "        return 1 + lcs(x, y, m-1, n-1);\n",
    "    else:\n",
    "        return max(lcs(x, y, m, n-1), lcs(x, y, m-1, n))\n",
    "    \n",
    "    \n",
    "x = \"BCDBCDA\"\n",
    "y = \"ABECBA\"\n",
    "lcs(x, y, len(x), len(y))  "
   ]
  },
  {
   "cell_type": "markdown",
   "metadata": {},
   "source": [
    "---\n",
    "### Largest Sum Contiguous Subarray\n",
    "[Reference](https://www.geeksforgeeks.org/largest-sum-contiguous-subarray/)\n",
    "[Solution Video](https://classroom.udacity.com/courses/ud401/lessons/9752571100/concepts/a980c2e1-a8e9-4169-be61-699f1616be71)"
   ]
  },
  {
   "cell_type": "code",
   "execution_count": null,
   "metadata": {},
   "outputs": [],
   "source": []
  },
  {
   "cell_type": "markdown",
   "metadata": {},
   "source": [
    "---\n",
    "### Minimum Cost Path (Hotel stops problems to minimize penalty)\n",
    "[Reference](https://www.geeksforgeeks.org/dynamic-programming-set-6-min-cost-path/)"
   ]
  },
  {
   "cell_type": "code",
   "execution_count": null,
   "metadata": {},
   "outputs": [],
   "source": []
  },
  {
   "cell_type": "markdown",
   "metadata": {},
   "source": [
    "---\n",
    "### Yuckdonald's\n",
    "[Reference]()"
   ]
  },
  {
   "cell_type": "code",
   "execution_count": null,
   "metadata": {},
   "outputs": [],
   "source": []
  },
  {
   "cell_type": "markdown",
   "metadata": {},
   "source": [
    "---\n",
    "### Word Break Problem (break up a string into set of words)\n",
    "[Reference](https://www.geeksforgeeks.org/dynamic-programming-set-32-word-break-problem/)"
   ]
  },
  {
   "cell_type": "code",
   "execution_count": null,
   "metadata": {},
   "outputs": [],
   "source": []
  },
  {
   "cell_type": "markdown",
   "metadata": {},
   "source": [
    "---\n",
    "### Longest Common Substring\n",
    "[Reference]()"
   ]
  },
  {
   "cell_type": "code",
   "execution_count": null,
   "metadata": {},
   "outputs": [],
   "source": []
  },
  {
   "cell_type": "markdown",
   "metadata": {},
   "source": [
    "---\n",
    "# DP2"
   ]
  },
  {
   "cell_type": "markdown",
   "metadata": {},
   "source": [
    "---\n",
    "### Knapsack\n",
    "* NP-complete problem\n",
    "* Input: n objects with \n",
    "    * integer weights {w1,...,wn}\n",
    "    * integer values {v1,...,vn}\n",
    "    * total capacity B\n",
    "* Goal: Find subset S of objects that \n",
    "    * fit in backpack i.e. total weight <= B\n",
    "    * maximize total value\n",
    "* Two versions of assumptions: \n",
    "    * Version 1: one copy of each object (without repetition)\n",
    "    * Version 2: unlimited supply (with repetition)\n",
    "* Note: Pitfall of greedy algorithm (sort objects by value per unit weight, on other words, the greedy algorithm tries to fill up with the most valuable objects)\n",
    "\n",
    "#### DP Solution (Version 1)\n",
    "* Trick: Keep track of K(i,b) with additional restriction on total weight <= B-wi\n",
    "* Step 1. Define subproblem in words (try prefix, then substring)\n",
    "    * Let `K(i,b)=max value achieved using a subset of objects {1,...,i} and total weight <=b for 1<=i<=n and 1<=b<=B`\n",
    "    * Our goal is to compute K(n,B)\n",
    "* Step 2. State recursive relation, express K(i) in terms of K(1),..,K(i-1)\n",
    "    * `if wi<=b, then K(i,b)=max{vi+K(i-1,b-wi),K(i-1,b)}`\n",
    "    * else `K(i,b)=K(i-1,b)`\n",
    "    * Base cases: `K(0,b)=0` and `K(i,0)=0`\n",
    "    \n",
    "[Reference](https://www.geeksforgeeks.org/knapsack-problem/)"
   ]
  },
  {
   "cell_type": "code",
   "execution_count": 38,
   "metadata": {},
   "outputs": [
    {
     "data": {
      "text/plain": [
       "220"
      ]
     },
     "execution_count": 38,
     "metadata": {},
     "output_type": "execute_result"
    }
   ],
   "source": [
    "# Version 1\n",
    "# DP (tabulation) implementation for knapsack problem (no repetition)\n",
    "def knapsack(w,v,B):\n",
    "    '''\n",
    "    Input w=[w1,...,wn], v=[v1,...,vn], B\n",
    "    Return the maximum value that can be put in a knapsack of capacity B\n",
    "    Run time: O(n*B)\n",
    "    Space: O(n*B)\n",
    "    '''\n",
    "    n = len(w)\n",
    "    K = [[None]*(B+1) for i in range(n+1)]  #K (n+1)*(B+1) matrix\n",
    "    for i in range(n+1):\n",
    "        for b in range(B+1):\n",
    "            if i==0 or b==0:\n",
    "                K[i][b] = 0\n",
    "            elif w[i-1]<=b:\n",
    "                K[i][b] = max(v[i-1]+K[i-1][b-w[i-1]], K[i-1][b])\n",
    "            else:\n",
    "                K[i][b] = K[i-1][b]\n",
    "    return K[n][B]\n",
    "\n",
    "\n",
    "v = [60, 100, 120]\n",
    "w = [10, 20, 30]\n",
    "B = 50\n",
    "knapsack(w,v,B)"
   ]
  },
  {
   "cell_type": "markdown",
   "metadata": {},
   "source": [
    "#### DP Solution (Version 2) - attempt 1\n",
    "* Trick: Keep track of K(i,b) with additional restriction on total weight <= B-wi\n",
    "* Step 1. Define subproblem in words\n",
    "    * Let `K(i,b)=max value achieved using a multiset of objects {1,...,i} and total weight <=b for 1<=i<=n and 1<=b<=B`\n",
    "    * Our goal is to compute K(n,B)\n",
    "* Step 2. State recursive relation, express K(i) in terms of K(1),..,K(i-1)\n",
    "    * `if wi<=b, then K(i,b)=max{K(i-1,b), vi+K(i,b-wi)}` for two scenarios (1) no more copt of object i, (2) another copy of object i\n",
    "    * else `K(i,b)=K(i-1,b)`\n",
    "    * Base cases: `K(0,b)=0` and `K(i,0)=0`"
   ]
  },
  {
   "cell_type": "code",
   "execution_count": 37,
   "metadata": {},
   "outputs": [
    {
     "data": {
      "text/plain": [
       "300"
      ]
     },
     "execution_count": 37,
     "metadata": {},
     "output_type": "execute_result"
    }
   ],
   "source": [
    "# Version 2 - attempt 1\n",
    "# DP (tabulation) implementation for knapsack problem (with repetition)\n",
    "def knapsack(w,v,B):\n",
    "    '''\n",
    "    Input w=[w1,...,wn], v=[v1,...,vn], B\n",
    "    Return the maximum value that can be put in a knapsack of capacity B\n",
    "    Run time: O(n*B)\n",
    "    Space: O(n*B)\n",
    "    '''\n",
    "    n = len(w)\n",
    "    K = [0]*(B+1)  #K array of size (B+1)\n",
    "    for b in range(B+1):\n",
    "        for i in range(n):\n",
    "            if w[i]<=b and K[b]<v[i]+K[b-w[i]]:\n",
    "                K[b] = v[i]+K[b-w[i]]\n",
    "    return K[B]\n",
    "\n",
    "\n",
    "v = [60, 100, 120]\n",
    "w = [10, 20, 30]\n",
    "B = 50\n",
    "knapsack(w,v,B)"
   ]
  },
  {
   "cell_type": "markdown",
   "metadata": {},
   "source": [
    "#### DP Solution (Version 2) - attempt 2 (using simpler subproblem)\n",
    "* Trick: Keep track of K(b) with additional restriction on total weight <= B-wi\n",
    "* Step 1. Define subproblem in words\n",
    "    * Let `K(b)=max value achieved using total weight <=b and 1<=b<=B`\n",
    "    * Our goal is to compute K(B)\n",
    "* Step 2. State recursive relation, express K(i) in terms of K(1),..,K(i-1)\n",
    "    * `K(b) = max{vi+K(b-wi):1<=i<=n, wi<=b}`\n",
    "    * Base cases: `K(0)=0`"
   ]
  },
  {
   "cell_type": "code",
   "execution_count": 43,
   "metadata": {},
   "outputs": [
    {
     "data": {
      "text/plain": [
       "300"
      ]
     },
     "execution_count": 43,
     "metadata": {},
     "output_type": "execute_result"
    }
   ],
   "source": [
    "# Version 2 - attempt 2\n",
    "# DP (tabulation) implementation for knapsack problem (with repetition)\n",
    "def knapsack(w,v,B):\n",
    "    '''\n",
    "    Input w=[w1,...,wn], v=[v1,...,vn], B\n",
    "    Return the maximum value that can be put in a knapsack of capacity B\n",
    "    Run time: O(n*B)\n",
    "    Space: O(B)\n",
    "    '''\n",
    "    n = len(w)\n",
    "    K = [0]*(B+1)  #K array of size (B+1)\n",
    "    for b in range(B+1):\n",
    "        for i in range(n):\n",
    "            if w[i]<=b and K[b]<v[i]+K[b-w[i]]:\n",
    "                K[b] = v[i]+K[b-w[i]]\n",
    "    return K[B]\n",
    "\n",
    "\n",
    "v = [60, 100, 120]\n",
    "w = [10, 20, 30]\n",
    "B = 50\n",
    "knapsack(w,v,B)"
   ]
  },
  {
   "cell_type": "markdown",
   "metadata": {},
   "source": [
    "---\n",
    "### Chain Matrix Multiplication\n",
    "* Example\n",
    "    * Example: 4 matrices A,B,C,D\n",
    "    * Goal: Compute AxBxCxD most efficiently\n",
    "    * Ways to do it: ((AxB)xC)xD, (Ax(BxC))xD, (AxB)x(CxD), Ax(Bx(CxD)) => Which is the best?\n",
    "    * Cost of matrix multiply: (axb)matrix mutiply (bxc)matrix => need acb multiplications + ac(b-1) additions => cost of matrix multiplcation is abc\n",
    "\n",
    "* Problem:\n",
    "    * For n matrices, A1,...,An where Ai is (m_i-1 x m_i) matrix\n",
    "    * Input: m1,...,mn\n",
    "    * Goal: What is the min cost for computing A1x...xAn\n",
    "\n",
    "* Idea:\n",
    "    Represent the problem as binary tree\n",
    "    \n",
    "#### DP Solution\n",
    "* Step 1. Define subproblem in words (try prefix, then substring)\n",
    "    * Let `C(i,j) = min cost for computing Aix...xAj for some 1<=i<=j<=n`\n",
    "* Step 2. State recursive relation\n",
    "    * `C(i,j) = min_k{ m_i-1*m_k*mj + C(i,l) + C(k+1,j) : i<=k<=j-1}`\n",
    "    * Base cases: `C(i,i)=0`\n",
    "    \n",
    "[Reference](https://www.geeksforgeeks.org/dynamic-programming-set-8-matrix-chain-multiplication/)"
   ]
  },
  {
   "cell_type": "code",
   "execution_count": 48,
   "metadata": {},
   "outputs": [
    {
     "data": {
      "text/plain": [
       "18"
      ]
     },
     "execution_count": 48,
     "metadata": {},
     "output_type": "execute_result"
    }
   ],
   "source": [
    "def matrixChainOrder(m):\n",
    "    '''\n",
    "    Input: m=[m0,...,mn] where matrix Ai has dimension m[i-1]xm[i] for A1,...,An\n",
    "    Return min cost of chain matrix multiplcation\n",
    "    Run time = O(n^3)\n",
    "    Space = O(n^2)\n",
    "    '''\n",
    "    n = len(m)\n",
    "    C = [[0]*n for i in range(n)]\n",
    "\n",
    "    # loop over the chain length s\n",
    "    for s in range(2,n):\n",
    "        for i in range(n-s+1):\n",
    "            j = i+s-1\n",
    "            C[i][j] = 100000000 #set C[i][j] to a large interger\n",
    "            for k in range(i,j):\n",
    "                curr = C[i][k] + C[k+1][j] + m[i-1]*m[k]*m[j]\n",
    "                if curr < C[i][j]: \n",
    "                    C[i][j] = curr\n",
    "\n",
    "    return C[1][n-1]\n",
    "\n",
    "matrixChainOrder([1,2,3,4])"
   ]
  },
  {
   "cell_type": "markdown",
   "metadata": {},
   "source": [
    "---\n",
    "### Coin Change\n",
    "[Reference](https://www.geeksforgeeks.org/dynamic-programming-set-7-coin-change/)"
   ]
  },
  {
   "cell_type": "code",
   "execution_count": null,
   "metadata": {},
   "outputs": [],
   "source": []
  },
  {
   "cell_type": "markdown",
   "metadata": {},
   "source": [
    "---\n",
    "### Optimal BST\n",
    "[Reference](https://www.geeksforgeeks.org/dynamic-programming-set-24-optimal-binary-search-tree/)"
   ]
  },
  {
   "cell_type": "code",
   "execution_count": null,
   "metadata": {},
   "outputs": [],
   "source": []
  },
  {
   "cell_type": "markdown",
   "metadata": {},
   "source": [
    "---\n",
    "### Palindrome Subsequence\n",
    "[Reference](https://www.geeksforgeeks.org/dynamic-programming-set-12-longest-palindromic-subsequence/)"
   ]
  },
  {
   "cell_type": "code",
   "execution_count": null,
   "metadata": {},
   "outputs": [],
   "source": []
  },
  {
   "cell_type": "markdown",
   "metadata": {},
   "source": [
    "---\n",
    "### Palindrome Substring\n",
    "[Reference](https://www.geeksforgeeks.org/longest-palindrome-substring-set-1/)"
   ]
  },
  {
   "cell_type": "code",
   "execution_count": null,
   "metadata": {},
   "outputs": [],
   "source": []
  },
  {
   "cell_type": "markdown",
   "metadata": {},
   "source": [
    "---\n",
    "# DP3"
   ]
  },
  {
   "cell_type": "markdown",
   "metadata": {},
   "source": [
    "---\n",
    "### Shortest Path Algorithms\n",
    "* Given directed graph G=(V,E) with edge weights w(e)\n",
    "* Fix s in V, define `dist(z)=len(shortest path from s to z)` for z in V\n",
    "* Goal: Find a negative weight cycle, else find dist(z) for all z in V\n",
    "\n",
    "#### Limitation of Dijkstra's algorithm\n",
    "* Given directed graph G=(V,E) with edge weight w(e)>=0 and s in V, find dist(x) for all z in V\n",
    "* Idea similar to BFS, Run time: O((|V|+|E|)logn)\n",
    "* Limitation: require edge weight >= 0\n",
    "\n",
    "#### DP Solution: Single Source Shortest Path (Bellman–Ford Algorithm)\n",
    "* Problem: Given directed graph G=(V,E) with edge weight w(e) and s in V, assume no negative weight cycles. Find shortest path P from s to z that visits every vertex <= 1. That means |P|<=n-1 edges\n",
    "* Idea: Condition on #edges\n",
    "* Step 1. Define subproblem in words (try prefix, then substring)\n",
    "    * For 0<=i<=n-1 and z in V, let `D(i,z)=len(shortest path from s to z using <=i edges)`\n",
    "* Step 2. State recursive relation\n",
    "    * Base case: `D(0,s)=0` and `D(0,z)=inf for all z!=s`\n",
    "    * For i>=1, look at shortest path s to z using at most i edges, `D(i,z)=min{D(i-1,z), min_y{D(i-1,y)+w(y,z)}}`\n",
    "\n",
    "\n",
    "#### Detecting Negative Cycle\n",
    "* Bellman Ford algorithm only detect negative cycle which is reachable from source\n",
    "[Reference](https://www.geeksforgeeks.org/dynamic-programming-set-23-bellman-ford-algorithm/)"
   ]
  },
  {
   "cell_type": "code",
   "execution_count": 75,
   "metadata": {},
   "outputs": [
    {
     "name": "stdout",
     "output_type": "stream",
     "text": [
      "Vertex and its Distance from Source\n",
      "0 0\n",
      "1 -1\n",
      "2 2\n",
      "3 -2\n",
      "4 1\n"
     ]
    }
   ],
   "source": [
    "from collections import defaultdict\n",
    "\n",
    "class Graph:\n",
    "    def __init__(self, v):\n",
    "        self.v = v #number of vertices\n",
    "        self.graph = [] #edge list\n",
    "        \n",
    "    def addEdge(self,u,v,w):\n",
    "        self.graph.append([u,v,w])\n",
    "\n",
    "    def BellmanFord(self, src):\n",
    "        '''\n",
    "        Input: Source vertex src\n",
    "        Return shortest distances from src to all other vertices using Bellman-Ford algorithm.\n",
    "        The algorithm also detects negative weight cycle.\n",
    "        Run time: O(|V||E|)\n",
    "        Space: O(|V|)\n",
    "        '''\n",
    "        n = self.v\n",
    "        D = [float(\"Inf\")]*n\n",
    "        D[src] = 0\n",
    "        \n",
    "        # shortest path from src to any other vertex can have at most |V|-1 edges\n",
    "        for i in range(n-1):\n",
    "            for u, v, w in self.graph:\n",
    "                if D[u]!=float(\"Inf\") and D[u]+w<D[v]:\n",
    "                    D[v] = D[u] + w\n",
    "                        \n",
    "        # detect negative-weight cycle\n",
    "        for u, v, w in self.graph:\n",
    "            if D[u]!=float(\"Inf\") and D[u]+w<D[v]:\n",
    "                print(\"Graph contains negative weight cycle\")\n",
    "                return\n",
    "                         \n",
    "        # print all distance\n",
    "        print('Vertex and its Distance from Source')\n",
    "        for i in range(self.v):\n",
    "            print(i, D[i])\n",
    "    \n",
    "        \n",
    "g = Graph(5)\n",
    "g.addEdge(0, 1, -1)\n",
    "g.addEdge(0, 2, 4)\n",
    "g.addEdge(1, 2, 3)\n",
    "g.addEdge(1, 3, 2)\n",
    "g.addEdge(1, 4, 2)\n",
    "g.addEdge(3, 2, 5)\n",
    "g.addEdge(3, 1, 1)\n",
    "g.addEdge(4, 3, -3)\n",
    "g.BellmanFord(0)"
   ]
  },
  {
   "cell_type": "code",
   "execution_count": 76,
   "metadata": {},
   "outputs": [
    {
     "name": "stdout",
     "output_type": "stream",
     "text": [
      "Graph contains negative weight cycle\n"
     ]
    }
   ],
   "source": [
    "g = Graph(6)\n",
    "g.addEdge(0, 1, 5)\n",
    "g.addEdge(1, 2, 3)\n",
    "g.addEdge(3, 1, 2)\n",
    "g.addEdge(2, 3, -6)\n",
    "g.addEdge(2, 4, 4)\n",
    "g.addEdge(3, 5, 5)\n",
    "g.BellmanFord(0)"
   ]
  },
  {
   "cell_type": "code",
   "execution_count": 77,
   "metadata": {},
   "outputs": [
    {
     "name": "stdout",
     "output_type": "stream",
     "text": [
      "Vertex and its Distance from Source\n",
      "0 0\n",
      "1 5\n",
      "2 8\n",
      "3 2\n",
      "4 12\n",
      "5 7\n"
     ]
    }
   ],
   "source": [
    "g = Graph(6)\n",
    "g.addEdge(0, 1, 5)\n",
    "g.addEdge(1, 2, 3)\n",
    "g.addEdge(1, 3, 2)\n",
    "g.addEdge(2, 3, -6)\n",
    "g.addEdge(3, 5, 5)\n",
    "g.addEdge(2, 4, 4)\n",
    "g.BellmanFord(0)"
   ]
  },
  {
   "cell_type": "markdown",
   "metadata": {},
   "source": [
    "#### DP Solution: All Pairs Shortest Path (Floyd Warshall Algorithm)\n",
    "\n",
    "* Problem: Given directed graph G=(V,E) with edge weight w(e). For y,z in V, let `dist(y,z)=len(shortest path from y to z)`. Find dist(y,z) for all y,z in V.\n",
    "* Naive approach: Run BellmanFord(src) |V| times. Run time: O(|V|^2*|E|)\n",
    "* Idea: Condition on intermediate vertices.\n",
    "* Step 1. Define subproblem in words (try prefix, then substring)\n",
    "    * Let V={1,...,n}. For 0<=i<=n and 1<=s,t<=n, let `D(i,s,t)=len(shortest path from s to t using a subset of {1,...i} as intermediate vertices)`\n",
    "* Step 2. State recursive relation\n",
    "    * Base case: `D(0,s,t)=w(s,t) if there is an edge from s to t, otherwise D(0,s,t)=inf`\n",
    "    * For i>=1, look at shortest path s to t using {1,...,i}, `D(i,s,t) = min{D(i-1,s,t), D(i-1,s,i)+D(i-1,i,t)}`\n",
    "    \n",
    "[Reference](https://www.geeksforgeeks.org/dynamic-programming-set-16-floyd-warshall-algorithm/)"
   ]
  },
  {
   "cell_type": "code",
   "execution_count": 96,
   "metadata": {},
   "outputs": [],
   "source": [
    "INF  = 99999\n",
    "\n",
    "def FloydWarshall(graph, n):\n",
    "    '''\n",
    "    Input: graph, n=num of vertices\n",
    "    Return shortest distances for all pairs of vertices (s,t) using FLoyd Warshall algorithm.\n",
    "    Run time: O(|V|^3)\n",
    "    Space: O(|V|^2)\n",
    "    '''\n",
    "    # initialize the distance matrix same as input adjacency matrix, \n",
    "    # i.e. shortest paths considerting no intermedidate vertices  \n",
    "    dist = graph\n",
    "\n",
    "    # pick intermediate vertices\n",
    "    for i in range(n):\n",
    "        # pick all vertices as source one by one\n",
    "        for s in range(n):\n",
    "            # pick all vertices as destination for the above picked source\n",
    "            for t in range(n):\n",
    "                 # if vertex i is on the shortest path from s to t, then update the value of dist[s][t]\n",
    "                dist[s][t] = min(dist[s][t], dist[s][i]+ dist[i][t])\n",
    "    \n",
    "    # print solution\n",
    "#     print(\"Following matrix shows the shortest distances between every pair of vertices\")\n",
    "#     for s in range(n):\n",
    "#         for t in range(n):\n",
    "#             if(dist[s][t] == INF): print(\"%7s\" %(\"INF\"))\n",
    "#             else: print(\"%7d\\t\" %(dist[s][t]))\n",
    "#             if t == n-1: print(\"\")\n",
    "    return dist\n",
    "\n",
    "\n",
    "'''\n",
    "Let us create the following weighted graph\n",
    "            10\n",
    "       (0)------->(3)\n",
    "        |         /|\\\n",
    "      5 |          |\n",
    "        |          | 1\n",
    "       \\|/         |\n",
    "       (1)------->(2)\n",
    "            3       \n",
    "'''\n",
    "# adjacency matrix representation of graph\n",
    "graph = [[0,5,INF,10],\n",
    "         [INF,0,3,INF],\n",
    "         [INF, INF, 0,   1],\n",
    "         [INF, INF, INF, 0]]\n",
    "FloydWarshall(graph, 4)"
   ]
  },
  {
   "cell_type": "markdown",
   "metadata": {},
   "source": [
    "#### DP Solution: Detecting Negative Cycle using Floyd Warshall Algorithm\n",
    "\n",
    "* Idea: Check if D(n,y,y)<0 for some y in V\n",
    "* Note that Bellman Ford algorithm only find negative cycle which is reachable from teh source vertex, where Floyd Warshall algorithm detect all negative cycles\n",
    "\n",
    "[Reference](https://www.geeksforgeeks.org/detecting-negative-cycle-using-floyd-warshall/)"
   ]
  },
  {
   "cell_type": "code",
   "execution_count": null,
   "metadata": {},
   "outputs": [],
   "source": [
    "INF = 99999\n",
    "    \n",
    "def negCyclefloydWarshall(graph, n):\n",
    "    '''\n",
    "    Returns true if graph has negative weight cycleelse false\n",
    "    '''\n",
    "    # FloydWarshall algorithm for all pairs shortest path\n",
    "    dist=[[0]*(n+1) for j in range(n+1)]\n",
    "    for i in range(V):\n",
    "        for j in range(V):\n",
    "            dist[i][j] = graph[i][j]\n",
    "\n",
    "    for i in range(n):\n",
    "        for s in range(n):\n",
    "            for t in range(n):\n",
    "                if (dist[s][i] + dist[i][t] < dist[s][t]):\n",
    "                        dist[s][t] = dist[s][i] + dist[ik][t]\n",
    "  \n",
    "    # check negative cycle\n",
    "    # if distance of any vertex from itself becomes negative, then there is a negative weight cycle.\n",
    "    for i in range(V):\n",
    "        if (dist[i][i] < 0):\n",
    "            return True\n",
    "    return False\n",
    "\n",
    "\n",
    "'''\n",
    "Let us create the following weighted graph\n",
    "            1\n",
    "    (0)----------->(1)\n",
    "    /|\\               |\n",
    "     |               |\n",
    "  -1 |               | -1\n",
    "     |                \\|/\n",
    "    (3)<-----------(2)\n",
    "        -1     \n",
    "'''\n",
    "# adjacency matrix to represent the graph      \n",
    "graph = [ [0, 1, INF, INF],\n",
    "          [INF, 0, -1, INF],\n",
    "          [INF, INF, 0, -1],\n",
    "          [-1, INF, INF, 0]]\n",
    "negCyclefloydWarshall(graph, 4)"
   ]
  },
  {
   "cell_type": "markdown",
   "metadata": {},
   "source": [
    "---\n",
    "### Currency Arbitrage Graph\n",
    "\n",
    "[Reference](https://classroom.udacity.com/courses/ud401/lessons/10046800612/concepts/4bf1d2a6-cc64-475d-9fbb-deb4517c4528#)\n",
    "[Reference](https://github.com/neelabhg/currency-arbitrage-graph/wiki/Introduction)"
   ]
  },
  {
   "cell_type": "code",
   "execution_count": null,
   "metadata": {},
   "outputs": [],
   "source": []
  },
  {
   "cell_type": "code",
   "execution_count": null,
   "metadata": {},
   "outputs": [],
   "source": []
  },
  {
   "cell_type": "code",
   "execution_count": null,
   "metadata": {},
   "outputs": [],
   "source": []
  }
 ],
 "metadata": {
  "kernelspec": {
   "display_name": "Python 3",
   "language": "python",
   "name": "python3"
  },
  "language_info": {
   "codemirror_mode": {
    "name": "ipython",
    "version": 3
   },
   "file_extension": ".py",
   "mimetype": "text/x-python",
   "name": "python",
   "nbconvert_exporter": "python",
   "pygments_lexer": "ipython3",
   "version": "3.6.5"
  }
 },
 "nbformat": 4,
 "nbformat_minor": 2
}
