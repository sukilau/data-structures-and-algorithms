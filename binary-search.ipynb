{
 "cells": [
  {
   "cell_type": "markdown",
   "metadata": {},
   "source": [
    "# Binary Search"
   ]
  },
  {
   "cell_type": "code",
   "execution_count": 6,
   "metadata": {},
   "outputs": [
    {
     "name": "stdout",
     "output_type": "stream",
     "text": [
      "-1\n",
      "4\n",
      "4\n"
     ]
    }
   ],
   "source": [
    "'''\n",
    "Given a sorted array, a simple approach is to do linear search. Run time O(n).\n",
    "\n",
    "Another approach is to do binary search. Run time O(logn)\n",
    "1. Repeatly divide the search interval in half. \n",
    "2. If search value < middle, narrow next search to lower half. Otherwise, narrow it to upper hald. \n",
    "\n",
    "Reference\n",
    "http://www.geeksforgeeks.org/binary-search/\n",
    "'''\n",
    "def binarySearch(array, value):\n",
    "    low = 0\n",
    "    high = len(array)-1\n",
    "    while low <= high:\n",
    "        mid = (low + high)/2\n",
    "        if array[mid] == value:\n",
    "            return mid\n",
    "        elif array[mid] < value:\n",
    "            low = mid + 1\n",
    "        else:\n",
    "            high = mid - 1\n",
    "    return -1\n",
    "\n",
    "test_list = [1,3,9,11,15,19,29]\n",
    "test_val1 = 25\n",
    "test_val2 = 15\n",
    "print binarySearch(test_list, test_val1)\n",
    "print binarySearch(test_list, test_val2)\n",
    "print test_list.index(15)"
   ]
  },
  {
   "cell_type": "code",
   "execution_count": null,
   "metadata": {
    "collapsed": true
   },
   "outputs": [],
   "source": []
  }
 ],
 "metadata": {
  "kernelspec": {
   "display_name": "Python 2",
   "language": "python",
   "name": "python2"
  },
  "language_info": {
   "codemirror_mode": {
    "name": "ipython",
    "version": 2
   },
   "file_extension": ".py",
   "mimetype": "text/x-python",
   "name": "python",
   "nbconvert_exporter": "python",
   "pygments_lexer": "ipython2",
   "version": "2.7.13"
  }
 },
 "nbformat": 4,
 "nbformat_minor": 2
}
