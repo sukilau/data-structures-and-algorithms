{
 "cells": [
  {
   "cell_type": "markdown",
   "metadata": {},
   "source": [
    "# Sorting Algorithms"
   ]
  },
  {
   "cell_type": "code",
   "execution_count": null,
   "metadata": {
    "collapsed": true
   },
   "outputs": [],
   "source": [
    "'''\n",
    "Common sorting algorithms\n",
    "1. Bubble Sort\n",
    "2. Merge Sort\n",
    "3. Quick Sort\n",
    "\n",
    "Python’s sort() – Timsort (Hybrid of Mergesort and Insertion Sort)\n",
    "- Best Case Time Complexity O(N)\n",
    "- Average Case Time Complexity O(NlogN)\n",
    "- Worse Case Time Complexity O(NlogN)\n",
    "- Auxiliary Space O(N)\n",
    "\n",
    "Reference\n",
    "http://www.geeksforgeeks.org/sorting-algorithms/#algo\n",
    "http://www.geeksforgeeks.org/know-sorting-algorithm-set-1-sorting-weapons-used-programming-languages/\n",
    "\n",
    "'''"
   ]
  },
  {
   "cell_type": "markdown",
   "metadata": {},
   "source": [
    "# Bubble Sort"
   ]
  },
  {
   "cell_type": "code",
   "execution_count": 20,
   "metadata": {},
   "outputs": [
    {
     "name": "stdout",
     "output_type": "stream",
     "text": [
      "[0, 1, 2, 3, 4, 7]\n"
     ]
    }
   ],
   "source": [
    "'''\n",
    "- Simplest sorting algorithm\n",
    "- Repeatedly swap the adjacent elements if they are in wrong order.\n",
    "\n",
    "Run time : O(n^2) - worst (arrray is reverse sorted) and average case\n",
    "            O(n) - best case (array is sorted)\n",
    "Extra Space: O(1)\n",
    "\n",
    "Reference\n",
    "http://www.geeksforgeeks.org/bubble-sort/\n",
    "'''\n",
    "def bubbleSort(array):\n",
    "    n = len(array)\n",
    "    \n",
    "    for i in xrange(n):\n",
    "        swap = False\n",
    "        for j in xrange(n-i-1):\n",
    "            if array[j] > array[j+1]:\n",
    "                array[j], array[j+1] = array[j+1], array[j]\n",
    "                swap = True\n",
    "#                 print i, j, swap\n",
    "\n",
    "        # stop the algorithm if inner loop didn’t cause any swap\n",
    "        if swap == False:\n",
    "#             print i, swap\n",
    "            break\n",
    "\n",
    "test = [2, 7, 0, 1, 3, 4]\n",
    "bubbleSort(test)\n",
    "print test"
   ]
  },
  {
   "cell_type": "markdown",
   "metadata": {},
   "source": [
    "# Merge Sort"
   ]
  },
  {
   "cell_type": "code",
   "execution_count": 21,
   "metadata": {},
   "outputs": [
    {
     "name": "stdout",
     "output_type": "stream",
     "text": [
      "[1, 3, 4, 6, 9, 14, 20, 21, 21, 25]\n"
     ]
    }
   ],
   "source": [
    "'''\n",
    "- Divide and conquer algorithm\n",
    "- Divides input array in two halves, calls itself for the two halves and then merges the two sorted halves. \n",
    "- The merge() function is used for merging two halves.  \n",
    " \n",
    "Run time : O(nlogn) worst, average and best case \n",
    "Extra Space: O(n)\n",
    "\n",
    "Reference\n",
    "http://www.geeksforgeeks.org/merge-sort/\n",
    "'''\n",
    "# Merges two subarrays of arr[], arr[l..m] and arr[m+1..r]\n",
    "def merge(arr, l, m, r):\n",
    "    # create temp arrays to store two subarrays\n",
    "    n1 = m - l + 1\n",
    "    n2 = r- m\n",
    "    L = [0] * (n1)\n",
    "    R = [0] * (n2)\n",
    "    for i in range(0 , n1):\n",
    "        L[i] = arr[l + i]\n",
    "    for j in range(0 , n2):\n",
    "        R[j] = arr[m + 1 + j]\n",
    " \n",
    "    # merge the temp arrays back into arr[l..r]\n",
    "    i = 0     # Initial index of first subarray\n",
    "    j = 0     # Initial index of second subarray\n",
    "    k = l     # Initial index of merged subarray\n",
    "    while i < n1 and j < n2 :\n",
    "        if L[i] <= R[j]:\n",
    "            arr[k] = L[i]\n",
    "            i += 1\n",
    "        else:\n",
    "            arr[k] = R[j]\n",
    "            j += 1\n",
    "        k += 1\n",
    " \n",
    "    # Copy the remaining elements of L[], if there are any\n",
    "    while i < n1:\n",
    "        arr[k] = L[i]\n",
    "        i += 1\n",
    "        k += 1\n",
    " \n",
    "    # Copy the remaining elements of R[], if there are any\n",
    "    while j < n2:\n",
    "        arr[k] = R[j]\n",
    "        j += 1\n",
    "        k += 1\n",
    "\n",
    "# l is for left index and r is right index of the sub-array of arr to be sorted\n",
    "def mergeSort(arr, l, r):\n",
    "    if l < r:\n",
    "        # Same as (l+r)/2, but avoids overflow for large l and h\n",
    "        m = (l+(r-1))/2\n",
    " \n",
    "        # Sort first and second halves\n",
    "        mergeSort(arr, l, m)\n",
    "        mergeSort(arr, m+1, r)\n",
    "        merge(arr, l, m, r)\n",
    "\n",
    "array = [2, 7, 0, 1, 3, 4]\n",
    "mergeSort(array, 0, len(array)-1)\n",
    "print test"
   ]
  },
  {
   "cell_type": "markdown",
   "metadata": {},
   "source": [
    "# Quick Sort"
   ]
  },
  {
   "cell_type": "code",
   "execution_count": 52,
   "metadata": {},
   "outputs": [
    {
     "name": "stdout",
     "output_type": "stream",
     "text": [
      "70 [10, 30, 40, 50]\n",
      "50 [10, 30, 40]\n",
      "40 [10, 30]\n",
      "30 [10]\n",
      "80 []\n",
      "[10, 30, 40, 50, 70, 80, 90]\n"
     ]
    }
   ],
   "source": [
    "'''\n",
    "- Divide and conquer algorithm\n",
    "- Picks an element as pivot and partitions the given array around the picked pivot. \n",
    "- Ways to pick a pivot :\n",
    "    - Always pick first element as pivot\n",
    "    - Always pick last element as pivot\n",
    "    - Pick a random element as pivot\n",
    "    - Pick median as pivot\n",
    "- The partition() function put all smaller elements before pivot and all bigger elementd after pivot\n",
    "\n",
    "Run time : O(n^2) - worst and average case\n",
    "            O(nlogn) - best case \n",
    "\n",
    "Reference\n",
    "http://www.geeksforgeeks.org/quick-sort/\n",
    "'''\n",
    "# pick the last element as pivot\n",
    "\n",
    "def partition(arr, low, high):\n",
    "    i = low - 1\n",
    "    pivot = arr[high] \n",
    " \n",
    "    for j in range(low , high):\n",
    "        # If current element is smaller than or equal to pivot\n",
    "        if   arr[j] <= pivot:\n",
    "            i = i+1\n",
    "            arr[i],arr[j] = arr[j],arr[i]\n",
    " \n",
    "    arr[i+1],arr[high] = arr[high],arr[i+1]\n",
    "#     print pivot,arr[low:i+1] \n",
    "    return i+1\n",
    "\n",
    "def quickSort(arr, low, high):\n",
    "    if low < high:\n",
    "        # pi is partitioning index, arr[p] is now at right place\n",
    "        pi = partition(arr, low, high)\n",
    " \n",
    "        # Separately sort elements before partition and after partition\n",
    "        quickSort(arr, low, pi-1)\n",
    "        quickSort(arr, pi+1, high)\n",
    "        \n",
    "array = [10, 80, 30, 90, 40, 50, 70]\n",
    "quickSort(array, 0, len(array)-1)\n",
    "print array"
   ]
  },
  {
   "cell_type": "code",
   "execution_count": null,
   "metadata": {
    "collapsed": true
   },
   "outputs": [],
   "source": [
    "# pick a random element as pivot\n",
    "\n",
    "from random import randrange\n",
    "\n",
    "def partition(lst, start, end, pivot):\n",
    "    lst[pivot], lst[end] = lst[end], lst[pivot]\n",
    "    store_index = start\n",
    "    for i in xrange(start, end):\n",
    "        if lst[i] < lst[end]:\n",
    "            lst[i], lst[store_index] = lst[store_index], lst[i]\n",
    "            store_index += 1\n",
    "    lst[store_index], lst[end] = lst[end], lst[store_index]\n",
    "    return store_index\n",
    "\n",
    "\n",
    "def quick_sort(lst, start, end):\n",
    "    if start >= end:\n",
    "        return lst\n",
    "    pivot = randrange(start, end + 1)\n",
    "    new_pivot = partition(lst, start, end, pivot)\n",
    "    quick_sort(lst, start, new_pivot - 1)\n",
    "    quick_sort(lst, new_pivot + 1, end)\n",
    "\n",
    "\n",
    "def quicksort(lst):\n",
    "    quick_sort(lst, 0, len(lst) - 1)\n",
    "    return lst\n",
    "\n",
    "\n",
    "test = [21, 4, 1, 3, 9, 20, 25, 6, 21, 14]\n",
    "print quicksort(test)"
   ]
  }
 ],
 "metadata": {
  "kernelspec": {
   "display_name": "Python 2",
   "language": "python",
   "name": "python2"
  },
  "language_info": {
   "codemirror_mode": {
    "name": "ipython",
    "version": 2
   },
   "file_extension": ".py",
   "mimetype": "text/x-python",
   "name": "python",
   "nbconvert_exporter": "python",
   "pygments_lexer": "ipython2",
   "version": "2.7.13"
  }
 },
 "nbformat": 4,
 "nbformat_minor": 2
}
