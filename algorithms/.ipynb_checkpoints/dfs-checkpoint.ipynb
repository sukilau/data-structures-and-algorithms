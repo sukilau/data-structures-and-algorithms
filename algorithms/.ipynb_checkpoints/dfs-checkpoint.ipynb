{
 "cells": [
  {
   "cell_type": "markdown",
   "metadata": {},
   "source": [
    "# Depth First Search for Tree"
   ]
  },
  {
   "cell_type": "code",
   "execution_count": null,
   "metadata": {
    "collapsed": true
   },
   "outputs": [],
   "source": [
    "'''\n",
    "Depth First Search Tree Traversals\n",
    "1. Inorder Traversal (Left-Root-Right)\n",
    "2. Preorder Traversal (Root-Left-Right)\n",
    "3. Postorder Traversal (Left-Right-Root)\n",
    "\n",
    "Reference\n",
    "http://www.geeksforgeeks.org/breadth-first-traversal-for-a-graph/\n",
    "'''"
   ]
  },
  {
   "cell_type": "code",
   "execution_count": 17,
   "metadata": {
    "collapsed": false
   },
   "outputs": [
    {
     "name": "stdout",
     "output_type": "stream",
     "text": [
      "4 2 5 1 3 1 2 4 5 3 4 5 2 3 1"
     ]
    },
    {
     "data": {
      "text/plain": [
       "[4, 5, 2, 3, 1]"
      ]
     },
     "execution_count": 17,
     "metadata": {},
     "output_type": "execute_result"
    },
    {
     "name": "stdout",
     "output_type": "stream",
     "text": [
      "\n"
     ]
    }
   ],
   "source": [
    "# DFS for tree\n",
    "'''\n",
    "Use recursion.\n",
    "1. Inorder - Traverse the left subtree > Visit the root > Traverse the right subtree\n",
    "2. Preorder - Visit the root > Traverse the left subtree > Traverse the right subtree\n",
    "3. Postorder - Traverse the left subtree > Traverse the right subtree > Visit the root\n",
    "\n",
    "Run time : O(n)\n",
    "Space : O(n)\n",
    "'''\n",
    "    \n",
    "class Node:\n",
    "    def __init__(self, value):\n",
    "        self.value = value\n",
    "        self.left = None\n",
    "        self.right = None\n",
    "        \n",
    "def inorder(node):\n",
    "    if node:\n",
    "        inorder(node.left)\n",
    "        print node.value, \n",
    "        inorder(node.right)\n",
    "    return search_list\n",
    "\n",
    "def preorder(node):\n",
    "    if node:\n",
    "        print node.value,\n",
    "        preorder(node.left)\n",
    "        preorder(node.right)\n",
    "    return search_list\n",
    "\n",
    "def postorder(node):\n",
    "    if node:\n",
    "        postorder(node.left)\n",
    "        postorder(node.right)\n",
    "        print node.value,\n",
    "    return search_list\n",
    "\n",
    "\n",
    "# set up binary tree\n",
    "root = Node(1)\n",
    "root.left = Node(2)\n",
    "root.right = Node(3)\n",
    "root.left.left = Node(4)\n",
    "root.left.right = Node(5)\n",
    "\n",
    "inorder(root) # 4 2 5 1 3\n",
    "preorder(root) # 1 2 4 5 3\n",
    "postorder(root) # 4 5 2 3 1"
   ]
  },
  {
   "cell_type": "markdown",
   "metadata": {},
   "source": [
    "# Depth First Search for Graph"
   ]
  },
  {
   "cell_type": "code",
   "execution_count": 19,
   "metadata": {
    "collapsed": false
   },
   "outputs": [
    {
     "name": "stdout",
     "output_type": "stream",
     "text": [
      "2 0 1 3\n"
     ]
    }
   ],
   "source": [
    "# DFS for Graph\n",
    "'''\n",
    "Use Recursion\n",
    "1. Print visited node\n",
    "2. Traverse to unvisited adjacent nodes by recursion\n",
    "\n",
    "For disconnected graph, we should repeat for every vertex as strating point.\n",
    "\n",
    "Run time : O(|V|+|E|)\n",
    "\n",
    "Reference\n",
    "http://www.geeksforgeeks.org/depth-first-traversal-for-a-graph/\n",
    "'''\n",
    "from collections import defaultdict\n",
    "\n",
    "# This class represents a directed graph using adjacency list representation\n",
    "class Graph:\n",
    "    def __init__(self):\n",
    "        self.graph = defaultdict(list)\n",
    "    def addEdge(self,u,v):\n",
    "        self.graph[u].append(v)\n",
    "\n",
    "def dfsHelper(g, v, visited):\n",
    "    visited[v] = True\n",
    "    print v,\n",
    "    for i in g.graph[v]:\n",
    "        if not visited[i]:\n",
    "            dfsHelper(g, i, visited)\n",
    "\n",
    "def dfs(g, v):\n",
    "    visited = [False]*(len(g.graph))\n",
    "    dfsHelper(g, v, visited)\n",
    "\n",
    "g = Graph()\n",
    "g.addEdge(0, 1)\n",
    "g.addEdge(0, 2)\n",
    "g.addEdge(1, 2)\n",
    "g.addEdge(2, 0)\n",
    "g.addEdge(2, 3)\n",
    "g.addEdge(3, 3)\n",
    " \n",
    "dfs(g, 2)"
   ]
  }
 ],
 "metadata": {
  "kernelspec": {
   "display_name": "Python 3",
   "language": "python",
   "name": "python3"
  },
  "language_info": {
   "codemirror_mode": {
    "name": "ipython",
    "version": 3
   },
   "file_extension": ".py",
   "mimetype": "text/x-python",
   "name": "python",
   "nbconvert_exporter": "python",
   "pygments_lexer": "ipython3",
   "version": "3.6.0"
  }
 },
 "nbformat": 4,
 "nbformat_minor": 2
}
