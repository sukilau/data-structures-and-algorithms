{
 "cells": [
  {
   "cell_type": "markdown",
   "metadata": {},
   "source": [
    "# Longest Palindromic Substring"
   ]
  },
  {
   "cell_type": "code",
   "execution_count": null,
   "metadata": {
    "collapsed": true
   },
   "outputs": [],
   "source": [
    "'''\n",
    "Question\n",
    "Given a string a, find the longest palindromic substring contained in a. \n",
    "Your function definition should look like question2(a), and return a string.\n",
    "'''"
   ]
  },
  {
   "cell_type": "code",
   "execution_count": 1,
   "metadata": {},
   "outputs": [
    {
     "name": "stdout",
     "output_type": "stream",
     "text": [
      "Make sure the input is not null string!\n",
      "nnacann\n",
      "anana\n"
     ]
    },
    {
     "data": {
      "text/plain": [
       "'anana'"
      ]
     },
     "execution_count": 1,
     "metadata": {},
     "output_type": "execute_result"
    }
   ],
   "source": [
    "# Dynamic Programming\n",
    "'''\n",
    "1. For every character of the string, generate all even length and odd length palindromes.\n",
    "    - To generate odd length palindrome, fix a centre and expand in both directions for longer palindromes.\n",
    "    - To generate even length palindrome, fix two centre and expand in both directions for longer palindromes.\n",
    "2. Keep track of the longest palindrome (update index, max_len).\n",
    "\n",
    "Run time : O(n^2)\n",
    "Extra space : O(1)\n",
    "\n",
    "Reference: \n",
    "http://www.geeksforgeeks.org/longest-palindromic-substring-set-2/\n",
    "'''\n",
    "def question2(s):\n",
    "    \n",
    "    # check if any input is a null string\n",
    "    if s == \"\":\n",
    "        return \"Make sure the input is not null string!\"\n",
    "    \n",
    "    n = len(s)\n",
    "    low = 0\n",
    "    high = 0\n",
    "    index = 0\n",
    "    max_len = 1\n",
    "    \n",
    "    for i in xrange(1, n):\n",
    "        # generate even palindromes\n",
    "        low = i - 1\n",
    "        high = i\n",
    "        while low >= 0 and high < n  and s[low] == s[high]:\n",
    "            if len(s[low:high])+1 > max_len:\n",
    "                index = low\n",
    "                maxLength = len(s[low:high])+1\n",
    "            low -= 1\n",
    "            high += 1\n",
    "         \n",
    "        # generate odd palindromes\n",
    "        low = i - 1\n",
    "        high = i + 1\n",
    "        while low >= 0 and high < n and s[low] == s[high]:\n",
    "            if len(s[low:high])+1 > max_len:\n",
    "                index = low\n",
    "                max_len = len(s[low:high])+1\n",
    "            low -= 1\n",
    "            high += 1\n",
    "            \n",
    "    return s[index : index + max_len]\n",
    "\n",
    "\n",
    "# Test case\n",
    "\n",
    "# Test for null string\n",
    "print question2(\"\") # Make sure the input is not null string!\n",
    "# Test for mulitple palindromes\n",
    "print question2(\"bannacann\") # nnacann\n",
    "# Test for general case\n",
    "print question2(\"banana\") # anana"
   ]
  },
  {
   "cell_type": "code",
   "execution_count": null,
   "metadata": {
    "collapsed": true
   },
   "outputs": [],
   "source": [
    "# Brute Force\n",
    "'''\n",
    "1. Find every substring of a string. Run time O(n^2).\n",
    "2. Check whether each substring is a palindrome. Run time O(n).\n",
    "\n",
    "Run time : O(n^3)\n",
    "Extra Space : O(n^2)\n",
    "\n",
    "Reference:\n",
    "http://www.geeksforgeeks.org/longest-palindrome-substring-set-1/\n",
    "'''   \n",
    "\n",
    "def is_palindromic(s):\n",
    "    n = len(s)\n",
    "    if n==1:\n",
    "        return False\n",
    "    else:\n",
    "        return s == s[::-1] #Run time for reverse order : O(n)\n",
    "    \n",
    "def question2_(s):    \n",
    "    n = len(s)\n",
    "    for i in xrange(n):\n",
    "        for j in xrange(i+1):\n",
    "            substring = s[j:n-i+j]\n",
    "#             print i, j, substring, is_palindromic(substring)\n",
    "            if is_palindromic(substring):\n",
    "                return substring\n",
    "\n",
    "# Test case\n",
    "print question2_(\"forgeeksskeegfor\") #“geeksskeeg”\n",
    "print question2_(\"abaaba\") #“abaaba”\n",
    "print question2_(\"abababa\") #“abababa”\n",
    "print question2_(\"abcbabcbabcba\") #“abcbabcbabcba”"
   ]
  }
 ],
 "metadata": {
  "kernelspec": {
   "display_name": "Python 2",
   "language": "python",
   "name": "python2"
  },
  "language_info": {
   "codemirror_mode": {
    "name": "ipython",
    "version": 2
   },
   "file_extension": ".py",
   "mimetype": "text/x-python",
   "name": "python",
   "nbconvert_exporter": "python",
   "pygments_lexer": "ipython2",
   "version": "2.7.13"
  }
 },
 "nbformat": 4,
 "nbformat_minor": 2
}
