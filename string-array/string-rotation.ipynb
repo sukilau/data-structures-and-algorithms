{
 "cells": [
  {
   "cell_type": "markdown",
   "metadata": {},
   "source": [
    "# String Rotation"
   ]
  },
  {
   "cell_type": "code",
   "execution_count": null,
   "metadata": {
    "collapsed": true
   },
   "outputs": [],
   "source": [
    "'''\n",
    "Question\n",
    "\n",
    "Assume you have a method isSubstring which checks if one word is a substring of another, \n",
    "given two substrings, s1 and s2, write code to check if s2 is a rotation of s1 using only one call to isSubstring. \n",
    "\n",
    "For example, \"waterbottle\" is a rotation of \"erbottlewat\".\n",
    "\n",
    "'''"
   ]
  },
  {
   "cell_type": "code",
   "execution_count": 16,
   "metadata": {
    "collapsed": true
   },
   "outputs": [],
   "source": [
    "def isSubstring(s,t) :\n",
    "    \"\"\"\n",
    "    Determine is t is a substring of s\n",
    "    Run time : O(n^2)\n",
    "    Space complexity : O(n) \n",
    "    \"\"\"\n",
    "    for i in range(len(s)-len(t)+1) :\n",
    "        if s[i:i+len(t)] == t : \n",
    "            return True\n",
    "    return False\n",
    "    #return s.find(t) != -1\n",
    "\n",
    "    \n",
    "def isRotation_1(s1,s2) :\n",
    "    \"\"\"\n",
    "    Determine is t is a substring of s using only one call of subString\n",
    "    Run time : O(n^2)\n",
    "    Space complexity : O(n) \n",
    "    \"\"\"\n",
    "    if len(s1) == len(s2) != 0:\n",
    "        return isSubstring(s1 + s1, s2)\n",
    "    return False"
   ]
  },
  {
   "cell_type": "code",
   "execution_count": 17,
   "metadata": {
    "collapsed": true
   },
   "outputs": [],
   "source": [
    "def isRotation_2(s1,s2) :\n",
    "    \"\"\"\n",
    "    Determine is t is a substring of s\n",
    "    Run time : O(n^2)\n",
    "    Space complexity : O(n) \n",
    "    \"\"\"\n",
    "    if len(s1) == len(s2) != 0 :\n",
    "        n = len(s1)\n",
    "        for i in range(n):\n",
    "            if s1[i:n] + s1[0:i] == s2 :\n",
    "                return True\n",
    "    return False"
   ]
  },
  {
   "cell_type": "code",
   "execution_count": 21,
   "metadata": {
    "collapsed": false
   },
   "outputs": [],
   "source": [
    "import unittest\n",
    "\n",
    "class TestRotation(unittest.TestCase):\n",
    "    \"\"\" Test class for function\"\"\"\n",
    "    \n",
    "    test_data = [\n",
    "        (\"waterbottle\", \"erbottlewat\", True),\n",
    "        (\"waterbottle\", \"erbottlwate\", False)]\n",
    "    \n",
    "    def test_rotation_1(self):\n",
    "        for s1, s2, expected_result in self.test_data:\n",
    "            result1 = isRotation_1(s1,s2)\n",
    "            self.assertEqual(result1, expected_result)\n",
    "            \n",
    "    def test_rotation_2(self):\n",
    "        for s1, s2, expected_result in self.test_data:\n",
    "            result2 = isRotation_2(s1,s2)\n",
    "            self.assertEqual(result2, expected_result)\n",
    "            \n",
    "\n",
    "t = TestRotation()\n",
    "t.test_rotation_1()\n",
    "t.test_rotation_2()"
   ]
  },
  {
   "cell_type": "code",
   "execution_count": null,
   "metadata": {
    "collapsed": true
   },
   "outputs": [],
   "source": []
  },
  {
   "cell_type": "code",
   "execution_count": null,
   "metadata": {
    "collapsed": true
   },
   "outputs": [],
   "source": []
  }
 ],
 "metadata": {
  "kernelspec": {
   "display_name": "Python 3",
   "language": "python",
   "name": "python3"
  },
  "language_info": {
   "codemirror_mode": {
    "name": "ipython",
    "version": 3
   },
   "file_extension": ".py",
   "mimetype": "text/x-python",
   "name": "python",
   "nbconvert_exporter": "python",
   "pygments_lexer": "ipython3",
   "version": "3.6.0"
  }
 },
 "nbformat": 4,
 "nbformat_minor": 2
}
