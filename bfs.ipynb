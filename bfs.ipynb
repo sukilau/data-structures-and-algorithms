{
 "cells": [
  {
   "cell_type": "markdown",
   "metadata": {},
   "source": [
    "# Breadth First Search for Tree"
   ]
  },
  {
   "cell_type": "code",
   "execution_count": 30,
   "metadata": {},
   "outputs": [
    {
     "data": {
      "text/plain": [
       "[1, 2, 3, 4, 5]"
      ]
     },
     "execution_count": 30,
     "metadata": {},
     "output_type": "execute_result"
    }
   ],
   "source": [
    "# BFS for Binary Tree\n",
    "'''\n",
    "Iteration implementation through queue.\n",
    "\n",
    "Run time : O(n), n = num of nodes\n",
    "\n",
    "Reference\n",
    "http://www.geeksforgeeks.org/level-order-tree-traversal/\n",
    "'''\n",
    "class Node:\n",
    "    def __init__(self, value):\n",
    "        self.value = value\n",
    "        self.left = None\n",
    "        self.right = None\n",
    "    \n",
    "def bfsBT(root):\n",
    "    if root is None:\n",
    "        return\n",
    "    \n",
    "    queue = [root]\n",
    "    search_list = []\n",
    "    \n",
    "    while len(queue) > 0:\n",
    "        # dequeue 1st element and append it in search_list\n",
    "        node = queue.pop(0)\n",
    "        search_list.append(node.value)\n",
    "        \n",
    "        # enqueue left child\n",
    "        if node.left is not None:\n",
    "            queue.append(node.left)\n",
    "        # enqueue right child\n",
    "        if node.right is not None:\n",
    "            queue.append(node.right)\n",
    "    return search_list\n",
    "    \n",
    "\n",
    "# set up binary tree\n",
    "root = Node(1)\n",
    "root.left = Node(2)\n",
    "root.right = Node(3)\n",
    "root.left.left = Node(4)\n",
    "root.left.right = Node(5)\n",
    "\n",
    "bfsBT(root) # [1, 2, 3, 4, 5]"
   ]
  },
  {
   "cell_type": "markdown",
   "metadata": {
    "collapsed": true
   },
   "source": [
    "# Breadth First Search for Graph"
   ]
  },
  {
   "cell_type": "code",
   "execution_count": 31,
   "metadata": {},
   "outputs": [
    {
     "data": {
      "text/plain": [
       "[2, 0, 3, 1]"
      ]
     },
     "execution_count": 31,
     "metadata": {},
     "output_type": "execute_result"
    }
   ],
   "source": [
    "# BFS for Graph\n",
    "'''\n",
    "1. Iteration implementation through queue (similar to BFS for tree).\n",
    "2. Use boolean array visited to avoid visiting the same node because of cycle.\n",
    "3. For disconnected graph, modify BFS to do traversal starting from all nodes one by one.\n",
    "\n",
    "Run time : O(|V|+|E|)\n",
    "Space time : O(|V|)\n",
    "\n",
    "Reference\n",
    "http://www.geeksforgeeks.org/breadth-first-traversal-for-a-graph/\n",
    "'''\n",
    "from collections import defaultdict\n",
    " \n",
    "# This class represents a directed graph using adjacency list representation\n",
    "class Graph:\n",
    "    def __init__(self):\n",
    "        self.graph = defaultdict(list)\n",
    "    def addEdge(self,u,v):\n",
    "        self.graph[u].append(v)\n",
    "    \n",
    "def bfsGraph(g, s):\n",
    "\n",
    "    # initilize a boolean visited array with False for all vertices except the start node\n",
    "    # to avoid visiting the same node due to cycle in graph\n",
    "    visited = [False]*(len(g.graph))\n",
    "    visited[s] = True\n",
    "    queue = [s]\n",
    "    search_list = []\n",
    "\n",
    "    while queue:\n",
    "        # dequeue 1st element and append it in search_list\n",
    "        s = queue.pop(0)\n",
    "        search_list.append(s)\n",
    "        # find all adjacent vertices of the dequeued vertex s. \n",
    "        # if a adjacent vertex has not been visited, then mark it visited and enqueue it\n",
    "        for i in g.graph[s]:\n",
    "            if visited[i] == False:\n",
    "                queue.append(i)\n",
    "                visited[i] = True\n",
    "    return search_list\n",
    " \n",
    "# Set up a directed graph\n",
    "g = Graph()\n",
    "g.addEdge(0, 1)\n",
    "g.addEdge(0, 2)\n",
    "g.addEdge(1, 2)\n",
    "g.addEdge(2, 0)\n",
    "g.addEdge(2, 3)\n",
    "g.addEdge(3, 3)\n",
    "bfsGraph(g, 2) # [2, 0, 3, 1]"
   ]
  }
 ],
 "metadata": {
  "kernelspec": {
   "display_name": "Python 2",
   "language": "python",
   "name": "python2"
  },
  "language_info": {
   "codemirror_mode": {
    "name": "ipython",
    "version": 2
   },
   "file_extension": ".py",
   "mimetype": "text/x-python",
   "name": "python",
   "nbconvert_exporter": "python",
   "pygments_lexer": "ipython2",
   "version": "2.7.13"
  }
 },
 "nbformat": 4,
 "nbformat_minor": 2
}
