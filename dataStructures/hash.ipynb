{
 "cells": [
  {
   "cell_type": "markdown",
   "metadata": {},
   "source": [
    "# Data Structure of Hash Table"
   ]
  },
  {
   "cell_type": "code",
   "execution_count": null,
   "metadata": {
    "collapsed": true
   },
   "outputs": [],
   "source": [
    "http://www.geeksforgeeks.org/hashing-set-1-introduction/"
   ]
  },
  {
   "cell_type": "code",
   "execution_count": null,
   "metadata": {
    "collapsed": true
   },
   "outputs": [],
   "source": [
    "# hash table\n",
    "\"\"\"Write a HashTable class that stores strings in a hash table, \n",
    "where keys are calculated using the first two letters of the string.\"\"\"\n",
    "class HashTable(object):\n",
    "    def __init__(self):\n",
    "        self.table = [None]*10000\n",
    "        \n",
    "    def calculate_hash_value(self, string):\n",
    "        \"\"\"Helper function to calulate a hash value from a string.\"\"\"\n",
    "        value = ord(string[0])*100 + ord(string[1])\n",
    "        return value  \n",
    "\n",
    "    def store(self, string):\n",
    "        \"\"\"Input a string that's stored in the table.\"\"\"\n",
    "        hv = self.calculate_hash_value(string)\n",
    "        if hv != -1:\n",
    "            if self.table[hv] != None:\n",
    "                self.table[hv].append(string)\n",
    "            else:\n",
    "                self.table[hv] = [string]\n",
    "\n",
    "    def lookup(self, string):\n",
    "        \"\"\"Return the hash value if the string is already in the table. Return -1 otherwise.\"\"\"\n",
    "        hv = self.calculate_hash_value(string)\n",
    "        if hv != -1:\n",
    "            if self.table[hv] != None:\n",
    "                if string in self.table[hv]:\n",
    "                    return hv\n",
    "        return -1\n",
    "\n",
    "# Setup\n",
    "hash_table = HashTable()\n",
    "\n",
    "# Test calculate_hash_value\n",
    "print hash_table.calculate_hash_value('UDACITY') # Should be 8568\n",
    "\n",
    "# Test lookup edge case\n",
    "print hash_table.lookup('UDACITY') # Should be -1\n",
    "\n",
    "# Test store\n",
    "hash_table.store('UDACITY')\n",
    "print hash_table.lookup('UDACITY') # Should be 8568\n",
    "\n",
    "# Test store edge case\n",
    "hash_table.store('UDACIOUS')\n",
    "print hash_table.lookup('UDACIOUS') # Should be 8568"
   ]
  }
 ],
 "metadata": {
  "kernelspec": {
   "display_name": "Python 2",
   "language": "python",
   "name": "python2"
  },
  "language_info": {
   "codemirror_mode": {
    "name": "ipython",
    "version": 2
   },
   "file_extension": ".py",
   "mimetype": "text/x-python",
   "name": "python",
   "nbconvert_exporter": "python",
   "pygments_lexer": "ipython2",
   "version": "2.7.13"
  }
 },
 "nbformat": 4,
 "nbformat_minor": 2
}
