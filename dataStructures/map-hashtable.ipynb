{
 "cells": [
  {
   "cell_type": "markdown",
   "metadata": {},
   "source": [
    "# Data Structure of Map"
   ]
  },
  {
   "cell_type": "code",
   "execution_count": null,
   "metadata": {},
   "outputs": [],
   "source": [
    "'''\n",
    "In Python, the map concept appears as a built-in data type called a dictionary. \n",
    "A dictionary contains key-value pairs.\n",
    "'''\n",
    "# locations = {'North America': {'USA': ['Mountain View', 'Atlanta']}, \n",
    "#                 'Asia': {'India': ['Bangalore'], 'China':['Shanghai']},\n",
    "#                 'Africa' : {'Egypt': ['Cairo']}}\n",
    "            \n",
    "locations = {'North America': {'USA': ['Mountain View']}}\n",
    "locations['North America']['USA'].append('Atlanta')\n",
    "locations['Asia'] = {'India': ['Bangalore']}\n",
    "locations['Asia']['China'] = ['Shanghai']\n",
    "locations['Africa'] = {'Egypt': ['Cairo']}\n",
    "\n",
    "usa_sorted = sorted(locations['North America']['USA'])\n",
    "for city in usa_sorted:\n",
    "    print city\n",
    "\n",
    "asia_cities = []\n",
    "for countries, cities in locations['Asia'].iteritems():\n",
    "    city_country = cities[0] + \" - \" + countries \n",
    "    asia_cities.append(city_country)\n",
    "asia_sorted = sorted(asia_cities)\n",
    "for city in asia_sorted:\n",
    "    print city"
   ]
  },
  {
   "cell_type": "markdown",
   "metadata": {},
   "source": [
    "# Implementation of Hash Table"
   ]
  },
  {
   "cell_type": "code",
   "execution_count": 9,
   "metadata": {},
   "outputs": [
    {
     "name": "stdout",
     "output_type": "stream",
     "text": [
      "10011\n",
      "10011\n",
      "10501\n",
      "['coding', 'code']\n",
      "['hello']\n"
     ]
    }
   ],
   "source": [
    "\"\"\"\n",
    "- Hash table : a data structure that maps keys to values for highly efficient lookup\n",
    "- Hash function : maps a key (a big number or string) to a small integer, which indicates the index in the array\n",
    "- Collision : when two keys map to the same value \n",
    "- Collision handling : \n",
    "    - Chaining : The idea is to make each cell of hash table point to a linked list of records that \n",
    "    have same hash function value. Chaining is simple, but requires additional memory outside the table.\n",
    "    - Open Addressing: In open addressing, all elements are stored in the hash table itself. \n",
    "    Each table entry contains either a record or NIL. When searching for an element,we one by one examine table slots \n",
    "    until the desired element is found or it is clear that the element is not in the table.\n",
    "    - Using binary search tree - Implement hash table with binary search tree. \n",
    "    It guarantees O(logn) lookup time since we can keep tree balanced.\n",
    "\n",
    "Reference\n",
    "http://www.geeksforgeeks.org/hashing-set-1-introduction/\n",
    "\"\"\"\n",
    "\n",
    "# An implementation of a HashTable class that stores strings in a hash table, \n",
    "# where keys are calculated using the first two letters of the string.\n",
    "\n",
    "class HashTable(object):\n",
    "    def __init__(self):\n",
    "        self.table = [None]*100000\n",
    "        \n",
    "    def hashFunction(self, string):\n",
    "        value = ord(string[0])*100 + ord(string[1])\n",
    "        return value  \n",
    "\n",
    "    def store(self, string):\n",
    "        hv = self.hashFunction(string)\n",
    "        if hv != -1:\n",
    "            if self.table[hv] != None:\n",
    "                self.table[hv].append(string)\n",
    "            else:\n",
    "                self.table[hv] = [string]\n",
    "\n",
    "    def lookup(self, string):\n",
    "        hv = self.hashFunction(string)\n",
    "        if hv != -1:\n",
    "            if self.table[hv] != None:\n",
    "                if string in self.table[hv]:\n",
    "                    return hv\n",
    "        return -1\n",
    "\n",
    "ht = HashTable()\n",
    "ht.store(\"coding\")\n",
    "print ht.lookup(\"coding\")\n",
    "\n",
    "ht.store(\"code\")\n",
    "print ht.lookup(\"code\")\n",
    "\n",
    "ht.store(\"hello\")\n",
    "print ht.lookup(\"hello\")\n",
    "\n",
    "print ht.table[10011]\n",
    "print ht.table[10501]"
   ]
  },
  {
   "cell_type": "code",
   "execution_count": null,
   "metadata": {
    "collapsed": true
   },
   "outputs": [],
   "source": []
  }
 ],
 "metadata": {
  "kernelspec": {
   "display_name": "Python 2",
   "language": "python",
   "name": "python2"
  },
  "language_info": {
   "codemirror_mode": {
    "name": "ipython",
    "version": 2
   },
   "file_extension": ".py",
   "mimetype": "text/x-python",
   "name": "python",
   "nbconvert_exporter": "python",
   "pygments_lexer": "ipython2",
   "version": "2.7.13"
  }
 },
 "nbformat": 4,
 "nbformat_minor": 2
}
