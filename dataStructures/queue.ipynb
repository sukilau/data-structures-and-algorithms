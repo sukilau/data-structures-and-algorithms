{
 "cells": [
  {
   "cell_type": "markdown",
   "metadata": {
    "collapsed": true
   },
   "source": [
    "# Data Structure of Queue"
   ]
  },
  {
   "cell_type": "code",
   "execution_count": 5,
   "metadata": {},
   "outputs": [
    {
     "name": "stdout",
     "output_type": "stream",
     "text": [
      "1\n",
      "1\n",
      "None\n",
      "2\n",
      "3\n",
      "4\n",
      "None\n",
      "5\n"
     ]
    }
   ],
   "source": [
    "'''\n",
    "Basic operation : enqueue, dequeue, peek, front, rear\n",
    "First in First out (FIFO)\n",
    "\n",
    "Run time : O(1)\n",
    "'''\n",
    "class Queue(object):\n",
    "    def __init__(self, head=None):\n",
    "        self.storage = [head]\n",
    "\n",
    "    def enqueue(self, new_element):\n",
    "        self.storage.append(new_element)\n",
    "\n",
    "    def peek(self):\n",
    "        return self.storage[0]\n",
    "\n",
    "    def dequeue(self):\n",
    "        return self.storage.pop(0)\n",
    "    \n",
    "    \n",
    "q = Queue(1)\n",
    "q.enqueue(2)\n",
    "q.enqueue(3)\n",
    "\n",
    "print q.peek() # 1\n",
    "print q.dequeue() # 1\n",
    "print q.enqueue(4) # None\n",
    "print q.dequeue() # 2\n",
    "print q.dequeue() # 3\n",
    "print q.dequeue() # 4\n",
    "print q.enqueue(5) # None\n",
    "print q.peek() # 5"
   ]
  }
 ],
 "metadata": {
  "kernelspec": {
   "display_name": "Python 2",
   "language": "python",
   "name": "python2"
  },
  "language_info": {
   "codemirror_mode": {
    "name": "ipython",
    "version": 2
   },
   "file_extension": ".py",
   "mimetype": "text/x-python",
   "name": "python",
   "nbconvert_exporter": "python",
   "pygments_lexer": "ipython2",
   "version": "2.7.13"
  }
 },
 "nbformat": 4,
 "nbformat_minor": 2
}
