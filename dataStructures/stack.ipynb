{
 "cells": [
  {
   "cell_type": "markdown",
   "metadata": {},
   "source": [
    "# Data Structure of Stack"
   ]
  },
  {
   "cell_type": "code",
   "execution_count": 8,
   "metadata": {},
   "outputs": [
    {
     "name": "stdout",
     "output_type": "stream",
     "text": [
      "10 pushed to stack\n",
      "20 pushed to stack\n",
      "30 pushed to stack\n",
      "30 popped from stack\n",
      "Top element is 20 \n"
     ]
    }
   ],
   "source": [
    "# define stack using linked list\n",
    "'''\n",
    "Basic operations : Push, Pop, Top, isEmpty\n",
    "Last in First Out (LIFO)\n",
    "\n",
    "Run time : O(1) time for push(), pop(), isEmpty() and peek() \n",
    "\n",
    "Reference\n",
    "http://www.geeksforgeeks.org/stack-data-structure-introduction-program/\n",
    "'''\n",
    "\n",
    "class Element(object):\n",
    "    def __init__(self, value):\n",
    "        self.value = value\n",
    "        self.next = None\n",
    "\n",
    "class Stack(object):\n",
    "    def __init__(self):\n",
    "        self.head = None\n",
    " \n",
    "    def isEmpty(self):\n",
    "        return True if self.head is None else False\n",
    "    \n",
    "    def push(self, new_value):\n",
    "        newElement = Element(new_value)\n",
    "        newElement.next = self.head \n",
    "        self.head = newElement\n",
    "        print \"%d pushed to stack\" %(new_value)\n",
    "        \n",
    "    def pop(self):\n",
    "        if (self.isEmpty()):\n",
    "            return float(\"-inf\")\n",
    "        temp = self.head\n",
    "        self.head = self.head.next\n",
    "        popped = temp.value\n",
    "        return popped\n",
    "     \n",
    "    def peek(self):\n",
    "        if self.isEmpty():\n",
    "            return float(\"-inf\")\n",
    "        return self.head.value\n",
    "\n",
    "stack = Stack()\n",
    "stack.push(10)        \n",
    "stack.push(20)\n",
    "stack.push(30)\n",
    " \n",
    "print \"%d popped from stack\" %(stack.pop())\n",
    "print \"Top element is %d \" %(stack.peek())"
   ]
  },
  {
   "cell_type": "code",
   "execution_count": 9,
   "metadata": {},
   "outputs": [
    {
     "name": "stdout",
     "output_type": "stream",
     "text": [
      "3\n",
      "2\n",
      "1\n",
      "None\n",
      "4\n"
     ]
    }
   ],
   "source": [
    "# another way to define stack using linked list\n",
    "# stack functionality is already built into Python list - pop(), append() is equivalent to a push function\n",
    "\n",
    "class Element(object):\n",
    "    def __init__(self, value):\n",
    "        self.value = value\n",
    "        self.next = None\n",
    "        \n",
    "class LinkedList(object):\n",
    "    def __init__(self, head=None):\n",
    "        self.head = head\n",
    "        \n",
    "    def append(self, new_element):\n",
    "        current = self.head\n",
    "        if self.head:\n",
    "            while current.next:\n",
    "                current = current.next\n",
    "            current.next = new_element\n",
    "        else:\n",
    "            self.head = new_element\n",
    "\n",
    "    def insert_first(self, new_element):\n",
    "        new_element.next = self.head\n",
    "        self.head = new_element\n",
    "        pass\n",
    "\n",
    "    def delete_first(self):\n",
    "        if self.head:\n",
    "            deleted_element = self.head\n",
    "            temp = deleted_element.next\n",
    "            self.head = temp\n",
    "            return deleted_element\n",
    "        else:\n",
    "            return None\n",
    "        \n",
    "class Stack(object):\n",
    "    def __init__(self,top=None):\n",
    "        self.ll = LinkedList(top)\n",
    "\n",
    "    def push(self, new_element):\n",
    "        self.ll.insert_first(new_element)\n",
    "\n",
    "    def pop(self):\n",
    "        return self.ll.delete_first()\n",
    "\n",
    "e1 = Element(1)\n",
    "e2 = Element(2)\n",
    "e3 = Element(3)\n",
    "e4 = Element(4)\n",
    "stack = Stack(e1)\n",
    "\n",
    "stack.push(e2)\n",
    "stack.push(e3)\n",
    "print stack.pop().value\n",
    "print stack.pop().value\n",
    "print stack.pop().value\n",
    "print stack.pop()\n",
    "stack.push(e4)\n",
    "print stack.pop().value"
   ]
  },
  {
   "cell_type": "code",
   "execution_count": null,
   "metadata": {
    "collapsed": true
   },
   "outputs": [],
   "source": []
  }
 ],
 "metadata": {
  "kernelspec": {
   "display_name": "Python 2",
   "language": "python",
   "name": "python2"
  },
  "language_info": {
   "codemirror_mode": {
    "name": "ipython",
    "version": 2
   },
   "file_extension": ".py",
   "mimetype": "text/x-python",
   "name": "python",
   "nbconvert_exporter": "python",
   "pygments_lexer": "ipython2",
   "version": "2.7.13"
  }
 },
 "nbformat": 4,
 "nbformat_minor": 2
}
