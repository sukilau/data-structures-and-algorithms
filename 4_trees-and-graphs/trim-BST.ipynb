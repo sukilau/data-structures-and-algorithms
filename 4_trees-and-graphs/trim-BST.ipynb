{
 "cells": [
  {
   "cell_type": "markdown",
   "metadata": {},
   "source": [
    "# Trim Binary Search Tree"
   ]
  },
  {
   "cell_type": "code",
   "execution_count": null,
   "metadata": {
    "collapsed": true
   },
   "outputs": [],
   "source": [
    "'''\n",
    "Question\n",
    "Given the root of a binary search tree and 2 numbers min and max, \n",
    "trim the tree such that all the numbers in the new tree are between min and max (inclusive). The resulting tree should still be a valid binary search tree. So, if we get this tree as input:\n",
    "'''"
   ]
  },
  {
   "cell_type": "markdown",
   "metadata": {},
   "source": [
    "### Solution 1"
   ]
  },
  {
   "cell_type": "code",
   "execution_count": 29,
   "metadata": {
    "collapsed": true
   },
   "outputs": [],
   "source": [
    "class Node(object):\n",
    "    def __init__(self, value):\n",
    "        self.value = value\n",
    "        self.left = None\n",
    "        self.right = None\n",
    "        \n",
    "def trimBST(node, minVal, maxVal): \n",
    "    if not node: \n",
    "        return \n",
    "    \n",
    "    node.left = trimBST(node.left, minVal, maxVal) \n",
    "    node.right = trimBST(node.right, minVal, maxVal) \n",
    "    \n",
    "    if minVal <= node.value <= maxVal: \n",
    "        return node\n",
    "    \n",
    "    if node.value < minVal: \n",
    "        return node.right \n",
    "    \n",
    "    if node.value > maxVal: \n",
    "        return node.left"
   ]
  },
  {
   "cell_type": "code",
   "execution_count": 34,
   "metadata": {
    "collapsed": false
   },
   "outputs": [
    {
     "name": "stdout",
     "output_type": "stream",
     "text": [
      "8 6 10 7 13\n"
     ]
    }
   ],
   "source": [
    "# test case\n",
    "rroot = Node(8)\n",
    "root.left = Node(3)\n",
    "root.left.left = Node(1)\n",
    "root.left.right = Node(6)\n",
    "root.left.right.left = Node(4)\n",
    "root.left.right.right = Node(7)\n",
    "root.right = Node(10)\n",
    "root.right.right = Node(14)\n",
    "root.right.right.left = Node(13)\n",
    "\n",
    "trimBST(root,5,13)\n",
    "root.left.right.value #7\n",
    "root.right.right.value #13\n",
    "printTree(root)"
   ]
  },
  {
   "cell_type": "code",
   "execution_count": 18,
   "metadata": {
    "collapsed": true
   },
   "outputs": [],
   "source": [
    "# for testing - print tree\n",
    "def printTree(root):\n",
    "    \"\"\"Print out all tree nodes as they are visited in a level-order traversal.\"\"\"\n",
    "    traversal = (str(root.value) + \" \")\n",
    "    print(levelOrderPrint(root, traversal)[:-1])\n",
    "\n",
    "def levelOrderPrint(node, traversal):\n",
    "    \"\"\"Helper method - use this to create a recursive print solution.\"\"\"\n",
    "    if node:\n",
    "        if node.left:\n",
    "            traversal += (str(node.left.value) + \" \")\n",
    "        if node.right:\n",
    "            traversal += (str(node.right.value) + \" \")\n",
    "        traversal = levelOrderPrint(node.left, traversal)\n",
    "        traversal = levelOrderPrint(node.right, traversal)\n",
    "    return traversal"
   ]
  },
  {
   "cell_type": "code",
   "execution_count": null,
   "metadata": {
    "collapsed": true
   },
   "outputs": [],
   "source": []
  }
 ],
 "metadata": {
  "kernelspec": {
   "display_name": "Python 3",
   "language": "python",
   "name": "python3"
  },
  "language_info": {
   "codemirror_mode": {
    "name": "ipython",
    "version": 3
   },
   "file_extension": ".py",
   "mimetype": "text/x-python",
   "name": "python",
   "nbconvert_exporter": "python",
   "pygments_lexer": "ipython3",
   "version": "3.6.0"
  }
 },
 "nbformat": 4,
 "nbformat_minor": 2
}
