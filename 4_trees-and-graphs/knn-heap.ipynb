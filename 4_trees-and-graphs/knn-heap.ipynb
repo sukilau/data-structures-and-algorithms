{
 "cells": [
  {
   "cell_type": "markdown",
   "metadata": {},
   "source": [
    "# KNN using Heap\n",
    "* Top k Movies with Highest Rating\n",
    "* Implement KNN using Heap O(nlogk)\n",
    "* Implement KNN by Brute Force O(nklogk)"
   ]
  },
  {
   "cell_type": "markdown",
   "metadata": {},
   "source": [
    "## Find Top k Movies with Highest Rating"
   ]
  },
  {
   "cell_type": "code",
   "execution_count": null,
   "metadata": {
    "collapsed": true
   },
   "outputs": [],
   "source": [
    "'''\n",
    "Question\n",
    "Given the following movie class and a movie, find its related movies of top k highest rating. \n",
    "'''"
   ]
  },
  {
   "cell_type": "code",
   "execution_count": null,
   "metadata": {
    "collapsed": true
   },
   "outputs": [],
   "source": [
    "# class Movie:\n",
    "#     def __init__(self, movie_id, rating):\n",
    "#         # set movie_id and rating\n",
    "#     def getId():\n",
    "#         return self.movie_id\n",
    "#     def getRating():\n",
    "#         return self.rating\n",
    "#     def getRelatedMovies():\n",
    "#         # return list of Movies connected to self"
   ]
  },
  {
   "cell_type": "markdown",
   "metadata": {},
   "source": [
    "### Solution 1: Using Heap and Queue"
   ]
  },
  {
   "cell_type": "code",
   "execution_count": 277,
   "metadata": {
    "collapsed": true
   },
   "outputs": [],
   "source": [
    "import heapq\n",
    "\n",
    "def find_queue(movie, k):\n",
    "    \"\"\"\n",
    "        Return list of related movies of top k highest rating using heap and queue. \n",
    "        Time complexity : O(nlogk)\n",
    "        Space complexity : O(n) for k-size heap of neighbor, n-size list of visited, n-size queue\n",
    "    \"\"\"\n",
    "    neighbor = [] \n",
    "\n",
    "    queue = []\n",
    "    \n",
    "    visited = set()\n",
    "    visited.add(movie.getId())\n",
    "    \n",
    "    for m in movie.getRelatedMovies():\n",
    "        id_ = m.getId()\n",
    "        visited.add(id_)\n",
    "        queue.append(m)\n",
    "    \n",
    "    while queue:\n",
    "        # dequeue first element\n",
    "        m = queue.pop(0)\n",
    "        print(\"m\", m.getId())\n",
    "\n",
    "        # update neighbor (heap) using first element in queue\n",
    "        rating = m.getRating()\n",
    "        if len(neighbor) < k:  #build k-neighbor\n",
    "            heapq.heappush(neighbor, (rating, m))\n",
    "        elif rating > neighbor[0][0]:  #if rating > min(rating) in k-neighbor, add to heap\n",
    "            heapq.heappushpop(neighbor, (rating, m))\n",
    "        \n",
    "        # loop through all related movies => enqueue \n",
    "        for s in m.getRelatedMovies():\n",
    "            if s.getId() not in visited:\n",
    "                visited.add(s.getId())\n",
    "                queue.append(s)\n",
    "    \n",
    "    return neighbor"
   ]
  },
  {
   "cell_type": "code",
   "execution_count": 278,
   "metadata": {
    "collapsed": false
   },
   "outputs": [
    {
     "name": "stdout",
     "output_type": "stream",
     "text": [
      "m 2\n",
      "m 1\n",
      "m 3\n",
      "m 4\n",
      "movie 1 rating 4\n",
      "movie 3 rating 5\n"
     ]
    }
   ],
   "source": [
    "# test case\n",
    "class Movie():\n",
    "    def __init__(self, rating, Id, relatedMovies):\n",
    "        self.rating = rating\n",
    "        self.id = Id\n",
    "        self.relatedMovies = relatedMovies\n",
    "        \n",
    "    def getId(self):\n",
    "        return self.id\n",
    "\n",
    "    def getRating(self):\n",
    "        return self.rating\n",
    "    \n",
    "    def getRelatedMovies(self):\n",
    "        return self.relatedMovies\n",
    "    \n",
    "def printknn(knn):\n",
    "    for rating, m in knn:\n",
    "        print(\"movie\", m.getId(), \"rating\", rating)\n",
    "\n",
    "        \n",
    "m0 = Movie(2,0,[m2, m1])\n",
    "m1 = Movie(4,1,[m0, m3,m4])\n",
    "m2 = Movie(3,2,[m0])\n",
    "m3 = Movie(5,3,[m1])\n",
    "m4 = Movie(2,4,[m1])\n",
    "\n",
    "printknn(find_queue(m0,2))"
   ]
  },
  {
   "cell_type": "markdown",
   "metadata": {},
   "source": [
    "### Solution 2: Using Heap and Recursion"
   ]
  },
  {
   "cell_type": "code",
   "execution_count": 287,
   "metadata": {
    "collapsed": false
   },
   "outputs": [],
   "source": [
    "import heapq\n",
    "\n",
    "neighbor = []\n",
    "visited = set()\n",
    "\n",
    "def find_rec(movie, k):\n",
    "    \"\"\"\n",
    "        Return list of related movies of top k highest rating using heap and recursion. \n",
    "        Time complexity : O(nlogk)\n",
    "        Space complexity : O(n) for k-size heap of neighbor, n-size list of visited, recursion O(n)\n",
    "    \"\"\"\n",
    "    global neighbor\n",
    "    global visited\n",
    "    visited.add(movie.getId())\n",
    "    findHelper(movie, k)\n",
    "    return neighbor\n",
    "\n",
    "\n",
    "def findHelper(movie, k):    \n",
    "    \n",
    "    relatedMovies = movie.getRelatedMovies()\n",
    "    \n",
    "    # use recursion\n",
    "    for m in relatedMovies:\n",
    "       \n",
    "        if m.getId() not in visited:\n",
    "            visited.add(m.getId())\n",
    "            findHelper(m, k)\n",
    "        \n",
    "        # use heap\n",
    "        rating = m.getRating()\n",
    "        if len(neighbor) < k:  #build k-neighbor\n",
    "            heapq.heappush(neighbor, (rating, m))\n",
    "        elif rating > neighbor[0][0]:  #if rating > min(rating) in k-neighbor, add to heap\n",
    "            heapq.heappushpop(neighbor, (rating, m))\n",
    "        "
   ]
  },
  {
   "cell_type": "code",
   "execution_count": 304,
   "metadata": {
    "collapsed": false
   },
   "outputs": [
    {
     "name": "stdout",
     "output_type": "stream",
     "text": [
      "movie 3 rating 5\n",
      "movie 3 rating 5\n",
      "movie 1 rating 4\n",
      "movie 3 rating 5\n"
     ]
    }
   ],
   "source": [
    "# test case\n",
    "class Movie():\n",
    "    def __init__(self, rating, Id, relatedMovies):\n",
    "        self.rating = rating\n",
    "        self.id = Id\n",
    "        self.relatedMovies = relatedMovies\n",
    "        \n",
    "    def getId(self):\n",
    "        return self.id\n",
    "\n",
    "    def getRating(self):\n",
    "        return self.rating\n",
    "    \n",
    "    def getRelatedMovies(self):\n",
    "        return self.relatedMovies\n",
    "    \n",
    "def printknn(knn):\n",
    "    for rating, m in knn:\n",
    "        print(\"movie\", m.getId(), \"rating\", rating)\n",
    "        \n",
    "    \n",
    "m0 = Movie(2,0,[m2, m1])\n",
    "m1 = Movie(4,1,[m3,m4])\n",
    "m2 = Movie(3,2,[m0])\n",
    "m3 = Movie(5,3,[m1])\n",
    "m4 = Movie(2,4,[m1])\n",
    "\n",
    "printknn(find_rec(m1,2))\n",
    "\n",
    "neighbor = []\n",
    "visited = set()\n",
    "printknn(find_rec(m2,2))"
   ]
  },
  {
   "cell_type": "code",
   "execution_count": 303,
   "metadata": {
    "collapsed": false
   },
   "outputs": [
    {
     "data": {
      "text/plain": [
       "2"
      ]
     },
     "execution_count": 303,
     "metadata": {},
     "output_type": "execute_result"
    }
   ],
   "source": [
    "m0.getRelatedMovies()\n",
    "m0.getId()\n",
    "m0.getRating()"
   ]
  },
  {
   "cell_type": "markdown",
   "metadata": {},
   "source": [
    "## Implement KNN using Heap"
   ]
  },
  {
   "cell_type": "code",
   "execution_count": null,
   "metadata": {
    "collapsed": true
   },
   "outputs": [],
   "source": [
    "'''\n",
    "Question\n",
    "Implement KNN using heap.\n",
    "'''"
   ]
  },
  {
   "cell_type": "code",
   "execution_count": 23,
   "metadata": {
    "collapsed": false
   },
   "outputs": [
    {
     "name": "stdout",
     "output_type": "stream",
     "text": [
      "[(-5.196152422706632, 'a')]\n",
      "[(-5.196152422706632, 'a'), (-1.7320508075688772, 'b')]\n",
      "[(-1.7320508075688772, 'b'), (-1.7320508075688772, 'b')]\n"
     ]
    },
    {
     "data": {
      "text/plain": [
       "'b'"
      ]
     },
     "execution_count": 23,
     "metadata": {},
     "output_type": "execute_result"
    }
   ],
   "source": [
    "import heapq\n",
    "import math\n",
    "from collections import Counter\n",
    "\n",
    "def knnHeap(trainSet, test, k):\n",
    "    \"\"\"\n",
    "    Using heap to store k neighbours.\n",
    "    \n",
    "    Time complexity : O(nlogk) \n",
    "                      since we compute distance for each traininh point O(n) and \n",
    "                      perform heapq.heappushpop for k-size heap O(logk)    \n",
    "    Space complexity : O(k) for k-size heap\n",
    "    \"\"\"\n",
    "    neighbor = []\n",
    "    \n",
    "    for data in trainSet:\n",
    "        x = data[:-1]\n",
    "        y = data[-1]        \n",
    "        d = distance(x, test, len(test))\n",
    "        info = (-d, y)\n",
    "        \n",
    "        if len(neighbor) < k:\n",
    "            heapq.heappush(neighbor, info)  #build heap (size k) by adding first k training points \n",
    "        elif d <= -neighbor[0][0]:\n",
    "            heapq.heappushpop(neighbor, info)  #if distance < = max(distance) in k-neighbor, add to heap\n",
    "        \n",
    "        print(neighbor)\n",
    "        \n",
    "        count = Counter(y for d, y in neighbor) #majority vote from heap\n",
    "        \n",
    "    return count.most_common()[0][0]\n",
    "    \n",
    "    \n",
    "def distance(x1,x2,dim):\n",
    "    \"\"\"\n",
    "    Compute the euclidean distance between two data points.\n",
    "    \"\"\"\n",
    "    d = 0\n",
    "    for i in range(dim):\n",
    "        d += pow(x1[i]-x2[i],2)\n",
    "    return math.sqrt(d)\n",
    "\n",
    "\n",
    "# test case\n",
    "trainSet = [[2, 2, 2, 'a'], [4, 4, 4, 'b'], [6, 6, 6, 'b']]\n",
    "knnHeap(trainSet, test=[5,5,5], k=2) "
   ]
  },
  {
   "cell_type": "markdown",
   "metadata": {},
   "source": [
    "## Implement KNN by Brute Force"
   ]
  },
  {
   "cell_type": "code",
   "execution_count": 38,
   "metadata": {
    "collapsed": false
   },
   "outputs": [
    {
     "name": "stdout",
     "output_type": "stream",
     "text": [
      "[(-5.196152422706632, 'a')]\n",
      "[(-5.196152422706632, 'a'), (-1.7320508075688772, 'b')]\n",
      "[(-1.7320508075688772, 'b'), (-1.7320508075688772, 'b')]\n"
     ]
    },
    {
     "data": {
      "text/plain": [
       "'b'"
      ]
     },
     "execution_count": 38,
     "metadata": {},
     "output_type": "execute_result"
    }
   ],
   "source": [
    "import math\n",
    "import operator\n",
    "\n",
    "def knn(trainSet, test, k):\n",
    "    \"\"\"\n",
    "    Using n-size list to store distance between each training point and test data point.\n",
    "    Sort the list to find the top k smallest distance.\n",
    "    \n",
    "    Time complexity : O(n^2logn), n = no. of training examples\n",
    "                      since O(n) for computing distance between each point of training set and test data,\n",
    "                      (nlogn) for sorting n-size distance list \n",
    "    Space complecity: O(n) for n-size list to store distance\n",
    "    \n",
    "    If we just use k-size list to store top k smallest distance, the algorithm casn be improved by\n",
    "    Time complexity : O(nklogk)    \n",
    "    \"\"\"\n",
    "    d = []\n",
    "    dim = len(test)-1\n",
    "    for x in trainSet:\n",
    "        dist = distance(test, x, dim)\n",
    "        d.append((x, dist))\n",
    "    \n",
    "    d.sort(key=operator.itemgetter(1))    \n",
    "    \n",
    "    neighbor = []\n",
    "    for i in range(k):\n",
    "        neighbor.append(d[i][0])\n",
    "    print(neighbor)\n",
    "        \n",
    "    count = Counter(y for d, y in neighbor) #majority vote from heap\n",
    "    return count.most_common()[0][0]\n",
    "\n",
    "\n",
    "def distance(x1,x2,dim):\n",
    "    \"\"\"\n",
    "    Compute the euclidean distance between two data points.\n",
    "    \"\"\"\n",
    "    d = 0\n",
    "    for i in range(dim):\n",
    "        d += pow(x1[i]-x2[i],2)\n",
    "    return math.sqrt(d)\n",
    "\n",
    "\n",
    "# test case\n",
    "trainSet = [[2, 2, 2, 'a'], [4, 4, 4, 'b'], [6, 6, 6, 'b']]\n",
    "knnHeap(trainSet, test=[5,5,5], k=2) "
   ]
  },
  {
   "cell_type": "code",
   "execution_count": 40,
   "metadata": {
    "collapsed": false
   },
   "outputs": [
    {
     "data": {
      "text/plain": [
       "'a'"
      ]
     },
     "execution_count": 40,
     "metadata": {},
     "output_type": "execute_result"
    }
   ],
   "source": [
    "def majorityVote(neighbors):\n",
    "    \"\"\"\n",
    "    Compute majority vote for a given neighbour.\n",
    "    \"\"\"\n",
    "    classVotes = {}\n",
    "    for i in range(len(neighbors)):\n",
    "        label = neighbors[i][-1]\n",
    "        if label in classVotes:\n",
    "            classVotes[label] += 1\n",
    "        else:\n",
    "            classVotes[label] = 1\n",
    "    sortedVotes = sorted(classVotes.items(), key=operator.itemgetter(1), reverse=True)\n",
    "    return sortedVotes[0][0]\n",
    "\n",
    "\n",
    "# test case\n",
    "neighbors = [[1,1,1,'a'], [2,2,2,'a'], [3,3,3,'b']]\n",
    "majorityVote(neighbors)"
   ]
  },
  {
   "cell_type": "code",
   "execution_count": null,
   "metadata": {
    "collapsed": true
   },
   "outputs": [],
   "source": []
  }
 ],
 "metadata": {
  "kernelspec": {
   "display_name": "Python 3",
   "language": "python",
   "name": "python3"
  },
  "language_info": {
   "codemirror_mode": {
    "name": "ipython",
    "version": 3
   },
   "file_extension": ".py",
   "mimetype": "text/x-python",
   "name": "python",
   "nbconvert_exporter": "python",
   "pygments_lexer": "ipython3",
   "version": "3.6.0"
  }
 },
 "nbformat": 4,
 "nbformat_minor": 2
}
