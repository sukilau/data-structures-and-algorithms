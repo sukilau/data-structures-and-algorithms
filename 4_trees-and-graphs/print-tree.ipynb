{
 "cells": [
  {
   "cell_type": "markdown",
   "metadata": {},
   "source": [
    "# Printing Trees"
   ]
  },
  {
   "cell_type": "markdown",
   "metadata": {},
   "source": [
    "## Preoder print for binary tree"
   ]
  },
  {
   "cell_type": "code",
   "execution_count": null,
   "metadata": {
    "collapsed": true
   },
   "outputs": [],
   "source": [
    "'''Question\n",
    "Given a binary tree of integers, print it in preorder. \n",
    "The output will contain space between the numbers.\n",
    "\n",
    "For example, if the tree is:\n",
    " \n",
    "    1\n",
    "   / \\\n",
    "  2   3\n",
    " /   / \\\n",
    "4   5  6\n",
    "\n",
    "The output should be:\n",
    "1 2 4 3 5 6\n",
    "'''"
   ]
  },
  {
   "cell_type": "code",
   "execution_count": 31,
   "metadata": {
    "collapsed": true
   },
   "outputs": [],
   "source": [
    "class Node(object):\n",
    "    def __init__(self, value):\n",
    "        self.value = value\n",
    "        self.left = None\n",
    "        self.right = None\n",
    "\n",
    "class BinaryTree(object):\n",
    "    def __init__(self, root):\n",
    "        self.root = Node(root)\n",
    "\n",
    "def preorderPrintTree(tree):\n",
    "    \"\"\"Print out all tree nodes as they are visited in a pre-order traversal.\"\"\"\n",
    "    print(preorderPrint(tree.root, \"\")[:-1])\n",
    "\n",
    "def preorderPrint(node, traversal):\n",
    "    \"\"\"Helper method - use this to create a recursive print solution.\"\"\"\n",
    "    if node:\n",
    "        traversal += (str(node.value) + \" \")\n",
    "        traversal = preorderPrint(node.left, traversal)\n",
    "        traversal = preorderPrint(node.right, traversal)\n",
    "    return traversal"
   ]
  },
  {
   "cell_type": "code",
   "execution_count": 32,
   "metadata": {
    "collapsed": false
   },
   "outputs": [
    {
     "name": "stdout",
     "output_type": "stream",
     "text": [
      "1 2 4 3 5 6\n"
     ]
    }
   ],
   "source": [
    "t = BinaryTree(1)\n",
    "t.root.left= Node(2)\n",
    "t.root.right= Node(3)\n",
    "t.root.left.left = Node(4)\n",
    "t.root.right.left = Node(5)\n",
    "t.root.right.right = Node(6)\n",
    "\n",
    "preorderPrintTree(t) # Should be 1-2-4-5-3"
   ]
  },
  {
   "cell_type": "markdown",
   "metadata": {},
   "source": [
    "## Level order print for binary tree"
   ]
  },
  {
   "cell_type": "code",
   "execution_count": null,
   "metadata": {
    "collapsed": true
   },
   "outputs": [],
   "source": [
    "'''Question\n",
    "Given a binary tree of integers, print it in level order. \n",
    "The output will contain space between the numbers in the same level, \n",
    "and new line between different levels.\n",
    "\n",
    "For example, if the tree is:\n",
    " \n",
    "    1\n",
    "   / \\\n",
    "  2   3\n",
    " /   / \\\n",
    "4   5  6\n",
    "\n",
    "The output should be:\n",
    "1\n",
    "2 3\n",
    "4 5 6\n",
    "'''"
   ]
  },
  {
   "cell_type": "code",
   "execution_count": 55,
   "metadata": {
    "collapsed": true
   },
   "outputs": [],
   "source": [
    "class Node(object):\n",
    "    def __init__(self, value):\n",
    "        self.value = value\n",
    "        self.left = None\n",
    "        self.right = None\n",
    "\n",
    "class BinaryTree(object):\n",
    "    def __init__(self, root):\n",
    "        self.root = Node(root)\n",
    "\n",
    "def levelOrderPrintTree(tree):\n",
    "    \"\"\"Print out all tree nodes as they are visited in a level-order traversal.\"\"\"\n",
    "    traversal = (str(tree.root.value) + \"\\n\")\n",
    "    print(levelOrderPrint(tree.root, traversal)[:-1])\n",
    "\n",
    "def levelOrderPrint(node, traversal):\n",
    "    \"\"\"Helper method - use this to create a recursive print solution.\"\"\"\n",
    "    if node:\n",
    "        if node.left:\n",
    "            traversal += (str(node.left.value) + \" \")\n",
    "        if node.right:\n",
    "            traversal += (str(node.right.value) + \" \")\n",
    "        traversal = levelOrderPrint(node.left, traversal)\n",
    "        traversal = levelOrderPrint(node.right, traversal)\n",
    "    return traversal"
   ]
  },
  {
   "cell_type": "code",
   "execution_count": 56,
   "metadata": {
    "collapsed": false
   },
   "outputs": [
    {
     "name": "stdout",
     "output_type": "stream",
     "text": [
      "1\n",
      "2 3 4 5 6\n"
     ]
    }
   ],
   "source": [
    "t = BinaryTree(1)\n",
    "t.root.left= Node(2)\n",
    "t.root.right= Node(3)\n",
    "t.root.left.left = Node(4)\n",
    "t.root.right.left = Node(5)\n",
    "t.root.right.right = Node(6)\n",
    "\n",
    "levelOrderPrintTree(t)"
   ]
  }
 ],
 "metadata": {
  "kernelspec": {
   "display_name": "Python 3",
   "language": "python",
   "name": "python3"
  },
  "language_info": {
   "codemirror_mode": {
    "name": "ipython",
    "version": 3
   },
   "file_extension": ".py",
   "mimetype": "text/x-python",
   "name": "python",
   "nbconvert_exporter": "python",
   "pygments_lexer": "ipython3",
   "version": "3.6.0"
  }
 },
 "nbformat": 4,
 "nbformat_minor": 2
}
