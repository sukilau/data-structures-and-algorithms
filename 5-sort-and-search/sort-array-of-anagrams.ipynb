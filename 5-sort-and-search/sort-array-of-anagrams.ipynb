{
 "cells": [
  {
   "cell_type": "markdown",
   "metadata": {},
   "source": [
    "# Sort Array of Anagrams"
   ]
  },
  {
   "cell_type": "code",
   "execution_count": null,
   "metadata": {
    "collapsed": true
   },
   "outputs": [],
   "source": [
    "'''\n",
    "Question\n",
    "Write a method to sort an array of strings so that all the anagrams are next to each other.\n",
    "'''"
   ]
  },
  {
   "cell_type": "markdown",
   "metadata": {},
   "source": [
    "### Solution 1"
   ]
  },
  {
   "cell_type": "code",
   "execution_count": 5,
   "metadata": {
    "collapsed": false
   },
   "outputs": [],
   "source": [
    "def sortAnagrams(A):\n",
    "    \"\"\"\n",
    "    Use a dictionary to store {(key, value)} = {(sorted anagram, anagrams)}\n",
    "    \n",
    "    Time complexity : O(n)\n",
    "    Space complexity : O(n)\n",
    "    \"\"\"\n",
    "    anagrams = {}\n",
    "    for s in A:\n",
    "        key = ''.join(sorted(s))  #sorted(s) create an array of sorted characters, use join to convert it to string\n",
    "        if key not in anagrams:\n",
    "            anagrams[key] = [s]\n",
    "        else: \n",
    "            anagrams[key].append(s)\n",
    "    \n",
    "    sortedAnagrams = []\n",
    "    for key in anagrams:\n",
    "        sortedAnagrams = sortedAnagrams + anagrams[key]\n",
    "    \n",
    "    return sortedAnagrams"
   ]
  },
  {
   "cell_type": "code",
   "execution_count": 6,
   "metadata": {
    "collapsed": false
   },
   "outputs": [
    {
     "data": {
      "text/plain": [
       "['bate',\n",
       " 'tabe',\n",
       " 'tab',\n",
       " 'bat',\n",
       " 'moon',\n",
       " 'noom',\n",
       " 'mono',\n",
       " 'jade',\n",
       " 'oscar',\n",
       " 'rasco']"
      ]
     },
     "execution_count": 6,
     "metadata": {},
     "output_type": "execute_result"
    }
   ],
   "source": [
    "A = ['bate', 'tab', 'tabe', 'bat', 'moon', 'jade', 'oscar', 'noom', 'rasco', 'mono']\n",
    "sortAnagrams(A)"
   ]
  }
 ],
 "metadata": {
  "kernelspec": {
   "display_name": "Python 3",
   "language": "python",
   "name": "python3"
  },
  "language_info": {
   "codemirror_mode": {
    "name": "ipython",
    "version": 3
   },
   "file_extension": ".py",
   "mimetype": "text/x-python",
   "name": "python",
   "nbconvert_exporter": "python",
   "pygments_lexer": "ipython3",
   "version": "3.6.0"
  }
 },
 "nbformat": 4,
 "nbformat_minor": 2
}
