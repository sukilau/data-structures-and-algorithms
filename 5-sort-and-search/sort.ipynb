{
 "cells": [
  {
   "cell_type": "markdown",
   "metadata": {},
   "source": [
    "# Sorting Algorithms"
   ]
  },
  {
   "cell_type": "markdown",
   "metadata": {
    "collapsed": true
   },
   "source": [
    "#### Merge Sort (fast)\n",
    "* Repeatedly divide array in half, sort each of the halves, and merge them.\n",
    "* Time O(nlogn) avg/worst\n",
    "* Space depends\n",
    "\n",
    "#### Quick Sort (fast)\n",
    "* Repeatedly pick a random element and partiion the array, smaller numbers before the partition elements, larger numbers after the partition element\n",
    "* Time O(nlogn) avg, O(n^2) worst\n",
    "* Space O(logn)\n",
    "\n",
    "#### Bubble Sort (slow)\n",
    "* Repeatedly swap the adjacent elements if they are in wrong order.\n",
    "* Time O(n^2) avg/worst\n",
    "* Space O(1)\n",
    "\n",
    "#### Selection Sort (slow)\n",
    "* Repeatedly find smallest element from remaining unsorted array, and put it at the beginning\n",
    "* Time O(n^2) avg/worst, O(n) best\n",
    "* Space O(1)\n",
    "\n",
    "#### Insertion Sort (slow)\n",
    "* Like we sort playing cards in our hands.\n",
    "* Time O(n^2) avg/worst\n",
    "* Space O(1)\n",
    "\n",
    "#### Radix Sort\n",
    "* Iterate through each digit of number, first group 0's and sort, then group the next digit and repeat.\n",
    "* Time O(kn)\n",
    "\n",
    "#### Timsort (Python sort function)\n",
    "* Hybrid of Merge Sort and Insertion Sort\n",
    "* Time (nlogn) avg/worst, O(n) best \n",
    "* Space O(n)\n",
    "\n",
    "Reference\n",
    "* http://www.geeksforgeeks.org/sorting-algorithms/#algo\n",
    "* http://www.geeksforgeeks.org/know-sorting-algorithm-set-1-sorting-weapons-used-programming-languages/"
   ]
  },
  {
   "cell_type": "markdown",
   "metadata": {},
   "source": [
    "## Bubble Sort"
   ]
  },
  {
   "cell_type": "code",
   "execution_count": 2,
   "metadata": {
    "collapsed": false
   },
   "outputs": [
    {
     "name": "stdout",
     "output_type": "stream",
     "text": [
      "[0, 1, 2, 3, 4, 7]\n"
     ]
    }
   ],
   "source": [
    "def bubbleSort(A):\n",
    "    n = len(A)\n",
    "    for i in range(n):\n",
    "        swap = False\n",
    "        for j in range(n-i-1):\n",
    "            if A[j] > A[j+1]:\n",
    "                A[j], A[j+1] = A[j+1], A[j]\n",
    "                swap = True\n",
    "        if swap == False:  #stop algorithm if doesnt swap anymore\n",
    "            break\n",
    "\n",
    "# test case\n",
    "test = [2, 7, 0, 1, 3, 4]\n",
    "bubbleSort(test)\n",
    "print(test)"
   ]
  },
  {
   "cell_type": "markdown",
   "metadata": {},
   "source": [
    "## Merge Sort"
   ]
  },
  {
   "cell_type": "code",
   "execution_count": 4,
   "metadata": {
    "collapsed": false
   },
   "outputs": [
    {
     "data": {
      "text/plain": [
       "[1, 2, 4, 5, 6, 7, 8, 11, 23]"
      ]
     },
     "execution_count": 4,
     "metadata": {},
     "output_type": "execute_result"
    }
   ],
   "source": [
    "def merge_sort(A):\n",
    "    if len(A)>1:\n",
    "        # divide array into 2 halves\n",
    "        mid = len(A)//2\n",
    "        lefthalf = A[:mid]\n",
    "        righthalf = A[mid:]\n",
    "\n",
    "        merge_sort(lefthalf)\n",
    "        merge_sort(righthalf)\n",
    "        \n",
    "        # merge subarrays\n",
    "        i=j=k=0\n",
    "        while i < len(lefthalf) and j < len(righthalf):\n",
    "            if lefthalf[i] < righthalf[j]:\n",
    "                A[k]=lefthalf[i]\n",
    "                i=i+1\n",
    "            else:\n",
    "                A[k]=righthalf[j]\n",
    "                j=j+1\n",
    "            k=k+1\n",
    "\n",
    "        while i < len(lefthalf):\n",
    "            A[k]=lefthalf[i]\n",
    "            i=i+1\n",
    "            k=k+1\n",
    "\n",
    "        while j < len(righthalf):\n",
    "            A[k]=righthalf[j]\n",
    "            j=j+1\n",
    "            k=k+1\n",
    "\n",
    "# test case\n",
    "arr = [11,2,5,4,7,6,8,1,23]\n",
    "merge_sort(arr)\n",
    "arr"
   ]
  },
  {
   "cell_type": "markdown",
   "metadata": {},
   "source": [
    "## Quick Sort\n",
    "\n",
    "* Using divide and conquer algorithm\n",
    "* Picks an element as pivot and partitions the given array around the picked pivot. Different ways to pick a pivot :\n",
    "        - Always pick first element as pivot\n",
    "        - Always pick last element as pivot\n",
    "        - Pick a random element as pivot\n",
    "        - Pick median as pivot\n",
    "* The partition() function put all smaller elements before pivot and all bigger elementd after pivot\n",
    "* Time complexity : O(n^2) - worst and average case, O(nlogn) - best case "
   ]
  },
  {
   "cell_type": "code",
   "execution_count": 43,
   "metadata": {
    "collapsed": false
   },
   "outputs": [
    {
     "name": "stdout",
     "output_type": "stream",
     "text": [
      "[1, 3, 4, 6, 9, 14, 20, 21, 21, 25]\n"
     ]
    }
   ],
   "source": [
    "# pick a random element as pivot\n",
    "from random import randrange\n",
    "\n",
    "def quickSort(A):\n",
    "    quicksortHelper(A, 0, len(A)-1)\n",
    "    return A\n",
    "\n",
    "def quicksortHelper(A, start, end):\n",
    "    if start >= end:\n",
    "        return A\n",
    "    pivot = start #pick first element as pivot\n",
    "#     pivot = end #pick last element as pivot\n",
    "#     pivot = randrange(start, end + 1) #pick random element as pivot\n",
    "    new_pivot = partition(A, start, end, pivot)\n",
    "    quicksortHelper(A, start, new_pivot - 1)\n",
    "    quicksortHelper(A, new_pivot + 1, end)\n",
    "\n",
    "def partition(A, start, end, pivot):\n",
    "    A[pivot], A[end] = A[end], A[pivot]\n",
    "    index = start \n",
    "    for i in range(start, end):\n",
    "        if A[i] < A[end]:\n",
    "            A[i], A[index] = A[index], A[i]\n",
    "            index += 1\n",
    "    A[index], A[end] = A[end], A[index]\n",
    "    return index\n",
    "\n",
    "\n",
    "# test case\n",
    "A = [21, 4, 1, 3, 9, 20, 25, 6, 21, 14]\n",
    "print(quickSort(A))"
   ]
  },
  {
   "cell_type": "markdown",
   "metadata": {},
   "source": [
    "## Selection Sort\n",
    "\n",
    "* The selection sort algorithm sorts an array by repeatedly finding the minimum element (considering ascending order) from unsorted part and putting it at the beginning. The algorithm maintains two subarrays in a given array.\n",
    "\n",
    "* The subarray which is already sorted\n",
    "* Remaining subarray which is unsorted"
   ]
  },
  {
   "cell_type": "code",
   "execution_count": 42,
   "metadata": {
    "collapsed": false
   },
   "outputs": [
    {
     "name": "stdout",
     "output_type": "stream",
     "text": [
      "[1, 3, 4, 6, 9, 14, 20, 21, 21, 25]\n"
     ]
    }
   ],
   "source": [
    "def selectionSort(A):\n",
    "    for i in range(len(A)):\n",
    "        # Find the minimum element in remaining unsorted array\n",
    "        min_index = i\n",
    "        for j in range(i+1, len(A)):\n",
    "            if A[min_index] > A[j]:\n",
    "                min_index = j\n",
    "\n",
    "        # Swap the found minimum element with the first element        \n",
    "        A[i], A[min_index] = A[min_index], A[i]\n",
    "    return A\n",
    "        \n",
    "# test case\n",
    "A = [21, 4, 1, 3, 9, 20, 25, 6, 21, 14]\n",
    "print(selectionSort(A))"
   ]
  },
  {
   "cell_type": "markdown",
   "metadata": {},
   "source": [
    "## Insertion Sort\n",
    "\n",
    "* Insertion Sort builds the final sorted array (or list) one item at a time. It is much less efficient on large lists than more advanced algorithms such as quicksort, heapsort, or merge sort."
   ]
  },
  {
   "cell_type": "code",
   "execution_count": 41,
   "metadata": {
    "collapsed": false
   },
   "outputs": [
    {
     "name": "stdout",
     "output_type": "stream",
     "text": [
      "[1, 3, 4, 6, 9, 14, 20, 21, 21, 25]\n"
     ]
    }
   ],
   "source": [
    "def insertionSort(A):\n",
    "    for i in range(1, len(A)):\n",
    "        key = A[i]\n",
    "        # Move elements of arr[0..i-1], that are greater than key, to one position ahead of their current position\n",
    "        j = i-1\n",
    "        while j >=0 and key < A[j] :\n",
    "            A[j+1] = A[j]\n",
    "            j -= 1\n",
    "        A[j+1] = key\n",
    "    return A\n",
    "        \n",
    "# test case\n",
    "A = [21, 4, 1, 3, 9, 20, 25, 6, 21, 14]\n",
    "print(insertionSort(A))"
   ]
  },
  {
   "cell_type": "markdown",
   "metadata": {},
   "source": [
    "## Shell Sort\n",
    "The shell sort improves on the insertion sort by breaking the original list into a number of smaller sublists, each of which is sorted using an insertion sort. The unique way that these sublists are chosen is the key to the shell sort. Instead of breaking the list into sublists of contiguous items, the shell sort uses an increment i, sometimes called the gap, to create a sublist by choosing all items that are i items apart."
   ]
  },
  {
   "cell_type": "code",
   "execution_count": null,
   "metadata": {
    "collapsed": true
   },
   "outputs": [],
   "source": [
    "def shellSort(arr):\n",
    " \n",
    "    # Start with a big gap, then reduce the gap\n",
    "    n = len(arr)\n",
    "    gap = n/2\n",
    " \n",
    "    # Do a gapped insertion sort for this gap size.\n",
    "    # The first gap elements a[0..gap-1] are already in gapped \n",
    "    # order keep adding one more element until the entire array\n",
    "    # is gap sorted\n",
    "    while gap > 0:\n",
    " \n",
    "        for i in range(gap,n):\n",
    " \n",
    "            # add a[i] to the elements that have been gap sorted\n",
    "            # save a[i] in temp and make a hole at position i\n",
    "            temp = arr[i]\n",
    " \n",
    "            # shift earlier gap-sorted elements up until the correct\n",
    "            # location for a[i] is found\n",
    "            j = i\n",
    "            while  j >= gap and arr[j-gap] >temp:\n",
    "                arr[j] = arr[j-gap]\n",
    "                j -= gap\n",
    " \n",
    "            # put temp (the original a[i]) in its correct location\n",
    "            arr[j] = temp\n",
    "        gap /= 2"
   ]
  },
  {
   "cell_type": "code",
   "execution_count": null,
   "metadata": {
    "collapsed": true
   },
   "outputs": [],
   "source": []
  }
 ],
 "metadata": {
  "kernelspec": {
   "display_name": "Python 3",
   "language": "python",
   "name": "python3"
  },
  "language_info": {
   "codemirror_mode": {
    "name": "ipython",
    "version": 3
   },
   "file_extension": ".py",
   "mimetype": "text/x-python",
   "name": "python",
   "nbconvert_exporter": "python",
   "pygments_lexer": "ipython3",
   "version": "3.6.0"
  }
 },
 "nbformat": 4,
 "nbformat_minor": 2
}
