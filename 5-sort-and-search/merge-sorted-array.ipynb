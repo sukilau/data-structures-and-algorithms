{
 "cells": [
  {
   "cell_type": "markdown",
   "metadata": {},
   "source": [
    "# Merge two sorted arrays to a sorted array"
   ]
  },
  {
   "cell_type": "code",
   "execution_count": null,
   "metadata": {
    "collapsed": true
   },
   "outputs": [],
   "source": [
    "'''\n",
    "Question\n",
    "You are given two sorted arrays A and B, where A has a large enough buffer at the end to hold B. \n",
    "Write a method to merge B into A in sorted order.\n",
    "'''"
   ]
  },
  {
   "cell_type": "markdown",
   "metadata": {},
   "source": [
    "### Solution 1"
   ]
  },
  {
   "cell_type": "code",
   "execution_count": 12,
   "metadata": {
    "collapsed": false
   },
   "outputs": [],
   "source": [
    "def merge(A, B):\n",
    "    \"\"\"\n",
    "    Comparing values from the end of each array and merge to A\n",
    "    \"\"\"\n",
    "    m = len(A)\n",
    "    n = len(B)\n",
    "    indexA = m-1\n",
    "    indexB = n-1\n",
    "    \n",
    "    # create buffer for B\n",
    "    for i in range(len(B)):\n",
    "        A.append(-1)\n",
    "    \n",
    "    while indexA>=0 and indexB>=0:\n",
    "        if A[indexA] > B[indexB]:\n",
    "            A[indexA+indexB+1] = A[indexA]\n",
    "            indexA -= 1\n",
    "        else :\n",
    "            A[indexA+indexB+1] = B[indexB]\n",
    "            indexB -= 1\n",
    "    \n",
    "    while indexB>=0:\n",
    "        A[indexB] = B[indexB]\n",
    "        indexB -= 1\n",
    "    \n",
    "    return A"
   ]
  },
  {
   "cell_type": "code",
   "execution_count": 13,
   "metadata": {
    "collapsed": false
   },
   "outputs": [
    {
     "data": {
      "text/plain": [
       "[1, 2, 3, 5, 5, 6, 10]"
      ]
     },
     "execution_count": 13,
     "metadata": {},
     "output_type": "execute_result"
    }
   ],
   "source": [
    "A = [1,3,5]\n",
    "B = [2,5,6,10]\n",
    "merge(A,B)"
   ]
  }
 ],
 "metadata": {
  "kernelspec": {
   "display_name": "Python 3",
   "language": "python",
   "name": "python3"
  },
  "language_info": {
   "codemirror_mode": {
    "name": "ipython",
    "version": 3
   },
   "file_extension": ".py",
   "mimetype": "text/x-python",
   "name": "python",
   "nbconvert_exporter": "python",
   "pygments_lexer": "ipython3",
   "version": "3.6.0"
  }
 },
 "nbformat": 4,
 "nbformat_minor": 2
}
