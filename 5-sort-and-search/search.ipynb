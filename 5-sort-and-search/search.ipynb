{
 "cells": [
  {
   "cell_type": "markdown",
   "metadata": {},
   "source": [
    "# Search Algotithms"
   ]
  },
  {
   "cell_type": "markdown",
   "metadata": {},
   "source": [
    "* Sequential Search - Time complexity O(n)\n",
    "* Binary Search - Time complexity O(logn)"
   ]
  },
  {
   "cell_type": "markdown",
   "metadata": {},
   "source": [
    "## Implementation of Binary Search"
   ]
  },
  {
   "cell_type": "markdown",
   "metadata": {},
   "source": [
    "### Solution 1"
   ]
  },
  {
   "cell_type": "code",
   "execution_count": 5,
   "metadata": {
    "collapsed": false
   },
   "outputs": [
    {
     "name": "stdout",
     "output_type": "stream",
     "text": [
      "-1\n",
      "4\n",
      "4\n"
     ]
    }
   ],
   "source": [
    "def binarySearch(array, value):\n",
    "    \"\"\"\n",
    "    1. Repeatly divide the search interval in half. \n",
    "    2. If search value < middle, narrow next search to lower half. \n",
    "    3. Otherwise, narrow it to upper half. \n",
    "    \n",
    "    Time complexity : O(logn)\n",
    "    \"\"\"\n",
    "    low = 0\n",
    "    high = len(array)-1\n",
    "    while low <= high:\n",
    "        mid = (low + high)//2\n",
    "        if array[mid] == value:\n",
    "            return mid\n",
    "        elif array[mid] < value:\n",
    "            low = mid + 1\n",
    "        else:\n",
    "            high = mid - 1\n",
    "    return -1\n",
    "\n",
    "test_list = [1,3,9,11,15,19,29]\n",
    "test_val1 = 25\n",
    "test_val2 = 15\n",
    "print(binarySearch(test_list, test_val1))\n",
    "print(binarySearch(test_list, test_val2))\n",
    "print(test_list.index(15))"
   ]
  },
  {
   "cell_type": "markdown",
   "metadata": {
    "collapsed": true
   },
   "source": [
    "### Solution 2 - Recusive Method"
   ]
  },
  {
   "cell_type": "code",
   "execution_count": 20,
   "metadata": {
    "collapsed": false
   },
   "outputs": [
    {
     "data": {
      "text/plain": [
       "False"
      ]
     },
     "execution_count": 20,
     "metadata": {},
     "output_type": "execute_result"
    }
   ],
   "source": [
    "def recBinarySearch(A, value):\n",
    "    if len(A) == 0:\n",
    "        return False\n",
    "    else:        \n",
    "        mid = len(A)//2\n",
    "        if A[mid]==value:\n",
    "            return True\n",
    "        else:\n",
    "            if value < A[mid]:\n",
    "                return recBinarySearch(A[:mid],value)\n",
    "            else:\n",
    "                return recBinarySearch(A[mid+1:],value)\n",
    "            \n",
    "A = [1,2,3,4,5,6,7,8,9,10]\n",
    "recBinarySearch(A,3)  #True\n",
    "recBinarySearch(A,2.2) #False"
   ]
  },
  {
   "cell_type": "markdown",
   "metadata": {},
   "source": [
    "## Implementation of Sequential Search"
   ]
  },
  {
   "cell_type": "markdown",
   "metadata": {},
   "source": [
    "### Solution 1 - Sequential Search on Unordered List"
   ]
  },
  {
   "cell_type": "code",
   "execution_count": 23,
   "metadata": {
    "collapsed": false
   },
   "outputs": [
    {
     "data": {
      "text/plain": [
       "True"
      ]
     },
     "execution_count": 23,
     "metadata": {},
     "output_type": "execute_result"
    }
   ],
   "source": [
    "def seq_search(A, value):\n",
    "    \"\"\"\n",
    "    General Sequential Search. Works on Unordered lists.\n",
    "    \n",
    "    Sequentially checks each element of the list for the target value until \n",
    "    a match is found or until all the elements have been searched.\n",
    "    \n",
    "    Time complexity : O(n)\n",
    "    \"\"\"\n",
    "    index = 0\n",
    "    found = False\n",
    "\n",
    "    while index < len(A) and not found:\n",
    "        if A[index] == value:\n",
    "            found = True\n",
    "        else:\n",
    "            index += 1\n",
    "\n",
    "    return found\n",
    "\n",
    "\n",
    "A = [1,9,2,8,3,4,7,5,6]\n",
    "seq_search(A,6)"
   ]
  },
  {
   "cell_type": "markdown",
   "metadata": {},
   "source": [
    "### Solution 2 - Sequential Search on Ordered List"
   ]
  },
  {
   "cell_type": "code",
   "execution_count": 26,
   "metadata": {
    "collapsed": false
   },
   "outputs": [
    {
     "data": {
      "text/plain": [
       "True"
      ]
     },
     "execution_count": 26,
     "metadata": {},
     "output_type": "execute_result"
    }
   ],
   "source": [
    "def ordered_seq_search(A, value):\n",
    "    \"\"\"\n",
    "    Sequential search for an Ordered list.\n",
    "    Only need to check until we have found the element or an element greater than it.\n",
    "    \"\"\"\n",
    "    index = 0\n",
    "    found = False\n",
    "    stopped = False\n",
    "\n",
    "    while index < len(A) and not found and not stopped:\n",
    "        if A[index] == value:\n",
    "            found = True\n",
    "        else:\n",
    "            if A[index] > value:\n",
    "                stopped = True\n",
    "            else:\n",
    "                index += 1\n",
    "                \n",
    "    return found\n",
    "\n",
    "A = [1,2,6,8]\n",
    "ordered_seq_search(A,2)"
   ]
  }
 ],
 "metadata": {
  "kernelspec": {
   "display_name": "Python 3",
   "language": "python",
   "name": "python3"
  },
  "language_info": {
   "codemirror_mode": {
    "name": "ipython",
    "version": 3
   },
   "file_extension": ".py",
   "mimetype": "text/x-python",
   "name": "python",
   "nbconvert_exporter": "python",
   "pygments_lexer": "ipython3",
   "version": "3.6.0"
  }
 },
 "nbformat": 4,
 "nbformat_minor": 2
}
