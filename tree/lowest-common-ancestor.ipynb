{
 "cells": [
  {
   "cell_type": "markdown",
   "metadata": {},
   "source": [
    "# Lowest Common Ancestor for Binary Tree / Binary Search Tree"
   ]
  },
  {
   "cell_type": "code",
   "execution_count": null,
   "metadata": {
    "collapsed": true
   },
   "outputs": [],
   "source": [
    "'''\n",
    "Question\n",
    "Find lowest common ancestor for binary tree and binary search tree.\n",
    "'''"
   ]
  },
  {
   "cell_type": "markdown",
   "metadata": {},
   "source": [
    "## Lowest Common Ancestor for Binary Search Tree"
   ]
  },
  {
   "cell_type": "code",
   "execution_count": 1,
   "metadata": {},
   "outputs": [
    {
     "name": "stdout",
     "output_type": "stream",
     "text": [
      "12\n",
      "8\n",
      "20\n"
     ]
    }
   ],
   "source": [
    "# Find LCA for BST using Recursion\n",
    "\n",
    "'''\n",
    "1. LCA(n1,n2) is the lowest node in a tree that has both n1 and n2 as descendant, ie. common ancestor fartheset from root.\n",
    "2. The idae is to recursively traverse the BST from the root. The first node n between n1 and n2 is LCA of n1 and n2 \n",
    "    - If n > n1 and n > n2, then LCA(n1,n2) lies on left of n, so traverse to left node of n.\n",
    "    - If n < n1 and n < n2, then LCA(n1,n2) lies on right of n, so traverse to right node of n.\n",
    "    - Otherwise root is LCA\n",
    "\n",
    "Run time : O(h), h = height of tree\n",
    "Extra Space : O(1)\n",
    "\n",
    "Reference\n",
    "http://www.geeksforgeeks.org/lowest-common-ancestor-in-a-binary-search-tree/\n",
    "'''\n",
    "\n",
    "class Node:\n",
    "    def __init__(self,value):\n",
    "        self.value = value\n",
    "        self.left = None\n",
    "        self.right = None\n",
    "\n",
    "def lcaBST(root, node1, node2):\n",
    "    # if the root is bigger than both nodes (right side of the nodes), traverse to root.left\n",
    "    if root.value > node1 and root.value > node2 and root.left:\n",
    "        return lcaBST(root.left, node1, node2)\n",
    "    # if the root is smaller than both nodes (left side of the nodes), travese to root.right\n",
    "    if root.value < node1 and root.value < node2 and root.right:\n",
    "        return lcaBST(root.right, node1, node2)\n",
    "    # if the root lies bettween two nodes, the root is the LCA\n",
    "    return root.value\n",
    "\n",
    "# Set up binary search tree using Node class\n",
    "root = Node(20)\n",
    "root.left = Node(8)\n",
    "root.right = Node(22)\n",
    "root.left.left = Node(4)\n",
    "root.left.right = Node(12)\n",
    "root.left.right.left = Node(10)\n",
    "root.left.right.right = Node(14)\n",
    "\n",
    "# Test case\n",
    "print lcaBST(root, 10, 14)\n",
    "print lcaBST(root, 14, 8)\n",
    "print lcaBST(root, 10, 22)"
   ]
  },
  {
   "cell_type": "code",
   "execution_count": 4,
   "metadata": {},
   "outputs": [
    {
     "name": "stdout",
     "output_type": "stream",
     "text": [
      "3\n",
      "Please input two nodes in the bineary search tree\n",
      "Please input two nodes in the bineary search tree\n"
     ]
    }
   ],
   "source": [
    "# Convert matrix representation of tree to node class\n",
    "\n",
    "def makeBST(T, current):\n",
    "    i = 0\n",
    "    count = 0\n",
    "    r = current.value\n",
    "    while count < 2 and i < len(T):\n",
    "        if T[r][i] == 1 and i < r:\n",
    "            current.left = Node(i)\n",
    "            count += 1\n",
    "        if T[r][i] == 1 and i > r:\n",
    "            current.right = Node(i)\n",
    "            count +=1\n",
    "        i += 1\n",
    "    if current.left:\n",
    "        makeBST(T, current.left)\n",
    "    if current.right:\n",
    "        makeBST(T, current.right)\n",
    "\n",
    "\n",
    "def lcaBST_matrix_input(T, r, n1, n2):\n",
    "    if n1 < 0 or n1 >= len(T) or n2 < 0 or n2 >= len(T):\n",
    "        return \"Please input two nodes in the bineary search tree\"\n",
    "    \n",
    "    count1 = 0\n",
    "    count2 = 0\n",
    "    for i in range(len(T)):\n",
    "        count1 += T[n1][i] + T[i][n1]\n",
    "        count2 += T[n2][i] + T[i][n2]\n",
    "    if count1 == 0 or count2 == 0:\n",
    "        return \"Please input two nodes in the bineary search tree\"\n",
    "    \n",
    "    root = Node(r)\n",
    "    makeBST(T, root)\n",
    "    return lcaBST(root, n1, n2)\n",
    "\n",
    "\n",
    "# Test case\n",
    "T = [[0, 3, 0, 0, 0],\n",
    "     [0, 0, 0, 0, 0],\n",
    "     [0, 0, 0, 0, 0],\n",
    "     [1, 0, 0, 0, 1],\n",
    "     [0, 0, 0, 0, 0]]\n",
    "print lcaBST_matrix_input(T, 3, 1, 4) # 3\n",
    "print lcaBST_matrix_input(T, 3, 5, 4) # Please input two nodes in the bineary search tree\n",
    "print lcaBST_matrix_input(T, 3, 1, 2) # Please input two nodes in the bineary search tree"
   ]
  },
  {
   "cell_type": "markdown",
   "metadata": {},
   "source": [
    "## Lowest Common Ancestor for Binary Tree"
   ]
  },
  {
   "cell_type": "code",
   "execution_count": 9,
   "metadata": {},
   "outputs": [
    {
     "name": "stdout",
     "output_type": "stream",
     "text": [
      "LCA(4,5) =  2\n",
      "LCA(4,6) =  1\n",
      "LCA(3,4) =  1\n",
      "LCA(2,4) =  2\n"
     ]
    }
   ],
   "source": [
    "#Find LCA for BT using Single Traversal \n",
    "\n",
    "'''\n",
    "# Lowest Common Ancestor in Binary Tree\n",
    "\n",
    "1. Assuming n1 and n2 in the binary tree. Traverse the tree starting from root. \n",
    "- If root = n1 or n2, then LCA = root. Otherwise, recur for left and right subtree. \n",
    "- If the current node has each node in left and right subtree, then LCA = current node.\n",
    "- If both n1, n2 lie in left subtree, then LCA is in left subtree.\n",
    "\n",
    "Run time : O(n)\n",
    "Extra Space : O(1)\n",
    "\n",
    "Reference\n",
    "http://www.geeksforgeeks.org/lowest-common-ancestor-binary-tree-set-1/\n",
    "'''\n",
    " \n",
    "class Node:\n",
    "    def __init__(self, value):\n",
    "        self.value = value \n",
    "        self.left = None\n",
    "        self.right = None\n",
    "        \n",
    "def lcaBT(current, n1, n2):\n",
    "\n",
    "    if current is None:\n",
    "        return None\n",
    "    \n",
    "    # if current node = n1 or n2, then LCA = current\n",
    "    if current.value == n1 or current.value == n2:\n",
    "        return current\n",
    "    \n",
    "    # recur for left and right subtree\n",
    "    left_lca = lcaBT(current.left, n1, n2) \n",
    "    right_lca = lcaBT(current.right, n1, n2)\n",
    "     \n",
    "    # if current node has each node in left and right subtree, then LCA = current\n",
    "    if left_lca and right_lca:\n",
    "        return current\n",
    "    \n",
    "    # if both nodes lie in left subtree, LCA in left\n",
    "    return left_lca if left_lca is not None else right_lca\n",
    "\n",
    "\n",
    "# Test case\n",
    "root = Node(1)\n",
    "root.left = Node(2)\n",
    "root.right = Node(3)\n",
    "root.left.left = Node(4)\n",
    "root.left.right = Node(5)\n",
    "root.right.left = Node(6)\n",
    "root.right.right = Node(7)\n",
    "print \"LCA(4,5) = \", lcaBT(root, 4, 5).value\n",
    "print \"LCA(4,6) = \", lcaBT(root, 4, 6).value\n",
    "print \"LCA(3,4) = \", lcaBT(root, 3, 4).value\n",
    "print \"LCA(2,4) = \", lcaBT(root, 2, 4).value"
   ]
  },
  {
   "cell_type": "code",
   "execution_count": null,
   "metadata": {
    "collapsed": true
   },
   "outputs": [],
   "source": []
  }
 ],
 "metadata": {
  "kernelspec": {
   "display_name": "Python 2",
   "language": "python",
   "name": "python2"
  },
  "language_info": {
   "codemirror_mode": {
    "name": "ipython",
    "version": 2
   },
   "file_extension": ".py",
   "mimetype": "text/x-python",
   "name": "python",
   "nbconvert_exporter": "python",
   "pygments_lexer": "ipython2",
   "version": "2.7.13"
  }
 },
 "nbformat": 4,
 "nbformat_minor": 2
}
