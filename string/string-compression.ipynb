{
 "cells": [
  {
   "cell_type": "markdown",
   "metadata": {},
   "source": [
    "# String Compression"
   ]
  },
  {
   "cell_type": "code",
   "execution_count": null,
   "metadata": {
    "collapsed": true
   },
   "outputs": [],
   "source": [
    "'''\n",
    "Question\n",
    "\n",
    "Implement a method to perform basic string compression using the counts of repeated character. \n",
    "For exmaple, the string \"aabcccccaaa\" would become \"a2b1c5a3\".\n",
    "\n",
    "If the \"compressed string would not become smaller than the original string,\n",
    "your method should return the original string. \n",
    "\n",
    "You can assume the string has only upper and lower case letters (a-z).\n",
    "'''"
   ]
  },
  {
   "cell_type": "code",
   "execution_count": 21,
   "metadata": {
    "collapsed": true
   },
   "outputs": [],
   "source": [
    "def compression_1(s):\n",
    "    \"\"\"\n",
    "    Perform string compression using the counts of repeated character\n",
    "    Run time : O(n)\n",
    "    Space complexity : O(n)\n",
    "    \"\"\"\n",
    "    compressed = []\n",
    "    counter = 0\n",
    "\n",
    "    for i in range(len(s)):\n",
    "        if i != 0 and s[i] != s[i - 1]:\n",
    "            compressed.append(s[i - 1] + str(counter))\n",
    "            counter = 0\n",
    "        counter += 1\n",
    "\n",
    "    # add last repeated character\n",
    "    compressed.append(s[-1] + str(counter))\n",
    "\n",
    "    # returns original string if compressed string isn't smaller\n",
    "    return min(s, ''.join(compressed), key=len)"
   ]
  },
  {
   "cell_type": "code",
   "execution_count": 22,
   "metadata": {
    "collapsed": false
   },
   "outputs": [],
   "source": [
    "import unittest\n",
    "\n",
    "class TestCompression(unittest.TestCase):\n",
    "    \"\"\" Test class for function reverse_1 and reverse_2 \"\"\"\n",
    "    \n",
    "    test_data = [\n",
    "        (\"aabcccccaa\", \"a2b1c5a2\")]\n",
    "    \n",
    "    def test_compression_1(self):\n",
    "        for s, expected_result in self.test_data:\n",
    "            result1 = compression_1(s)\n",
    "            self.assertEqual(result1, expected_result)\n",
    "            \n",
    "        \n",
    "t = TestCompression()\n",
    "t.test_compression_1()"
   ]
  },
  {
   "cell_type": "code",
   "execution_count": null,
   "metadata": {
    "collapsed": true
   },
   "outputs": [],
   "source": []
  }
 ],
 "metadata": {
  "kernelspec": {
   "display_name": "Python 3",
   "language": "python",
   "name": "python3"
  },
  "language_info": {
   "codemirror_mode": {
    "name": "ipython",
    "version": 3
   },
   "file_extension": ".py",
   "mimetype": "text/x-python",
   "name": "python",
   "nbconvert_exporter": "python",
   "pygments_lexer": "ipython3",
   "version": "3.6.0"
  }
 },
 "nbformat": 4,
 "nbformat_minor": 2
}
