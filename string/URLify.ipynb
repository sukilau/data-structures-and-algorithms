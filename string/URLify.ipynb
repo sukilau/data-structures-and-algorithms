{
 "cells": [
  {
   "cell_type": "markdown",
   "metadata": {},
   "source": [
    "# URLify"
   ]
  },
  {
   "cell_type": "code",
   "execution_count": null,
   "metadata": {
    "collapsed": true
   },
   "outputs": [],
   "source": [
    "'''\n",
    "Question\n",
    "Write a method to replace all spaces in a string with '%20'. You may assume that the string has sufficient space \n",
    "at the end of the string to hold the additional characters, and that you are given the \"true\" length of the string.\n",
    "\n",
    "Input: \"Mr John Smith\", 13\n",
    "Output:\"Mr%20John%20Smith\"\n",
    "\n",
    "Input: \"Mr John Smith    \", 13\n",
    "Output:\"Mr%20John%20Smith\"\n",
    "\n",
    "'''"
   ]
  },
  {
   "cell_type": "code",
   "execution_count": null,
   "metadata": {
    "collapsed": false
   },
   "outputs": [],
   "source": [
    "\"\"\"\n",
    "Note:\n",
    "\n",
    "A better solution to do in-place assuming that we have extra space in input string. \n",
    "We first count number of spaces in input string. Using this count, we can find length of the modified string. \n",
    "After computing new length we fill the string in-place from end.\n",
    "Run time : O(n)\n",
    "Space Complexity : O(1)\n",
    "\n",
    "In Python, strings are immutable. If you want in-place modification, have to use bytearray.\n",
    "\n",
    "Reference:\n",
    "http://www.geeksforgeeks.org/urlify-given-string-replace-spaces/\n",
    "https://stackoverflow.com/questions/9453820/alternative-to-python-string-item-assignment\n",
    "\n",
    "\"\"\"\n"
   ]
  },
  {
   "cell_type": "code",
   "execution_count": null,
   "metadata": {
    "collapsed": true
   },
   "outputs": [],
   "source": [
    "def URLify_1(s, l):\n",
    "    \"\"\"\n",
    "    Replace all single spaces in a string with '%20' and removes trailing spaces using str.replace()\n",
    "    Run time : O(n)\n",
    "    Space Complexity : O(n)\n",
    "    \"\"\"\n",
    "    return s[:l].replace(\" \", \"%20\")"
   ]
  },
  {
   "cell_type": "code",
   "execution_count": null,
   "metadata": {
    "collapsed": true
   },
   "outputs": [],
   "source": [
    "def URLify_2(s, l):\n",
    "    \"\"\"\n",
    "    Replace all single spaces in a string with '%20' and removes trailing spaces using str.split(), join()\n",
    "    Run time : O(n)\n",
    "    Space Complexity : O(n)\n",
    "    \"\"\"\n",
    "    return \"%20\".join(s.split())"
   ]
  },
  {
   "cell_type": "code",
   "execution_count": null,
   "metadata": {
    "collapsed": false
   },
   "outputs": [],
   "source": [
    "import unittest\n",
    "\n",
    "class TestURLify(unittest.TestCase):\n",
    "    \"\"\" Test class for function reverse_1 and reverse_2 \"\"\"\n",
    "    \n",
    "    test_data = [\n",
    "        (\"Mr John Smith\", 13, 'Mr%20John%20Smith'),\n",
    "        (\"Mr John Smith    \", 13, 'Mr%20John%20Smith'),\n",
    "        (' ', 0, '')]\n",
    "    \n",
    "    def test_URLify_1(self):\n",
    "        for s, l, expected_result in self.test_data:\n",
    "            result1 = URLify_1(s,l)\n",
    "            self.assertEqual(result1, expected_result)\n",
    "            \n",
    "    def test_URLify_2(self):\n",
    "        for s, l, expected_result in self.test_data:\n",
    "            result1 = URLify_2(s,l)\n",
    "            self.assertEqual(result1, expected_result)\n",
    "            \n",
    "\n",
    "t = TestURLify()\n",
    "t.test_URLify_1()\n",
    "t.test_URLify_2()"
   ]
  },
  {
   "cell_type": "code",
   "execution_count": null,
   "metadata": {
    "collapsed": true
   },
   "outputs": [],
   "source": []
  }
 ],
 "metadata": {
  "kernelspec": {
   "display_name": "Python 3",
   "language": "python",
   "name": "python3"
  },
  "language_info": {
   "codemirror_mode": {
    "name": "ipython",
    "version": 3
   },
   "file_extension": ".py",
   "mimetype": "text/x-python",
   "name": "python",
   "nbconvert_exporter": "python",
   "pygments_lexer": "ipython3",
   "version": "3.6.0"
  }
 },
 "nbformat": 4,
 "nbformat_minor": 2
}
