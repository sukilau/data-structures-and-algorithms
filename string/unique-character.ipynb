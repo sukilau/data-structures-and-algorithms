{
 "cells": [
  {
   "cell_type": "markdown",
   "metadata": {},
   "source": [
    "# Unique Character"
   ]
  },
  {
   "cell_type": "code",
   "execution_count": null,
   "metadata": {
    "collapsed": true
   },
   "outputs": [],
   "source": [
    "'''\n",
    "Question\n",
    "Implement an algorithm to determine if a string has all unique characters. \n",
    "What if you cannot use additional data structures?\n",
    "'''"
   ]
  },
  {
   "cell_type": "code",
   "execution_count": 26,
   "metadata": {
    "collapsed": false
   },
   "outputs": [],
   "source": [
    "def isUnique_1(s):\n",
    "    \"\"\"\n",
    "    Determine if s has all unique characters\n",
    "    Run time : O(1) since set() run time O(n)\n",
    "    Space complexity : O(n) \n",
    "        \n",
    "    :arg s: String\n",
    "    :returns: Boolean\n",
    "    \"\"\"\n",
    "    return len(s) == len(set(s))\n",
    "\n",
    "\n",
    "def isUnique_2(s):\n",
    "    '''\n",
    "    Determine if s has all unique characters without using additional data structures\n",
    "    Run time : O(n^2) since s.count() run time O(n)\n",
    "    Space complexity : O(1) \n",
    "    '''\n",
    "    for letter in s:\n",
    "        if s.count(letter) > 1:\n",
    "            return False\n",
    "    else:\n",
    "        return True\n",
    "    \n",
    "    \n",
    "def isUnique_3(s):\n",
    "    '''\n",
    "    Determine if s has all unique characters without using additional data structures\n",
    "    Run time : O(nlogn) since sorted() run time O(nlogn)\n",
    "    Space complexity : O(1) \n",
    "    '''\n",
    "    sorted(s)\n",
    "    for i in range(len(s)-1):\n",
    "        if s[i]==s[i+1]:\n",
    "            return False\n",
    "    return True"
   ]
  },
  {
   "cell_type": "code",
   "execution_count": 40,
   "metadata": {
    "collapsed": false
   },
   "outputs": [
    {
     "name": "stderr",
     "output_type": "stream",
     "text": [
      "E\n",
      "======================================================================\n",
      "ERROR: /Users/sukilau/Library/Jupyter/runtime/kernel-4811bf07-4c4a-44d4-b9f5-5921adb0a7bb (unittest.loader._FailedTest)\n",
      "----------------------------------------------------------------------\n",
      "AttributeError: module '__main__' has no attribute '/Users/sukilau/Library/Jupyter/runtime/kernel-4811bf07-4c4a-44d4-b9f5-5921adb0a7bb'\n",
      "\n",
      "----------------------------------------------------------------------\n",
      "Ran 1 test in 0.002s\n",
      "\n",
      "FAILED (errors=1)\n"
     ]
    },
    {
     "ename": "SystemExit",
     "evalue": "True",
     "output_type": "error",
     "traceback": [
      "An exception has occurred, use %tb to see the full traceback.\n",
      "\u001b[0;31mSystemExit\u001b[0m\u001b[0;31m:\u001b[0m True\n"
     ]
    },
    {
     "name": "stderr",
     "output_type": "stream",
     "text": [
      "/Users/sukilau/anaconda/lib/python3.6/site-packages/IPython/core/interactiveshell.py:2889: UserWarning: To exit: use 'exit', 'quit', or Ctrl-D.\n",
      "  warn(\"To exit: use 'exit', 'quit', or Ctrl-D.\", stacklevel=1)\n"
     ]
    }
   ],
   "source": [
    "import unittest\n",
    " \n",
    "class Test(unittest.TestCase):\n",
    "    \n",
    "    test_data = [\n",
    "            ('a', True),\n",
    "            ('aa', False),\n",
    "            ('ab', True),\n",
    "            ('ab ', True),\n",
    "            ('', True),\n",
    "            (' ', True),\n",
    "            ('  ', False),\n",
    "            ('world', True),\n",
    "            ('hello', False)]\n",
    "\n",
    "    def test_isUnique(self):\n",
    "        for s, expected_result in self.test_data:\n",
    "            result1 = isUnique_1(s)\n",
    "            self.assertEqual(result1, expected_result)\n",
    "            \n",
    "            result2 = isUnique_2(s)\n",
    "            self.assertEqual(result2, expected_result)\n",
    "            \n",
    "            result3 = isUnique_3(s)\n",
    "            self.assertEqual(result3, expected_result)\n",
    "\n",
    "if __name__ == '__main__':\n",
    "    unittest.main(verbosity=1)"
   ]
  },
  {
   "cell_type": "code",
   "execution_count": 41,
   "metadata": {
    "collapsed": false
   },
   "outputs": [],
   "source": [
    "t = Test()\n",
    "t.test_isUnique()"
   ]
  },
  {
   "cell_type": "code",
   "execution_count": null,
   "metadata": {
    "collapsed": true
   },
   "outputs": [],
   "source": []
  }
 ],
 "metadata": {
  "kernelspec": {
   "display_name": "Python 3",
   "language": "python",
   "name": "python3"
  },
  "language_info": {
   "codemirror_mode": {
    "name": "ipython",
    "version": 3
   },
   "file_extension": ".py",
   "mimetype": "text/x-python",
   "name": "python",
   "nbconvert_exporter": "python",
   "pygments_lexer": "ipython3",
   "version": "3.6.0"
  }
 },
 "nbformat": 4,
 "nbformat_minor": 2
}
