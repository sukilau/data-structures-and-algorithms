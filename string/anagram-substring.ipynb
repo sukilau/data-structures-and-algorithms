{
 "cells": [
  {
   "cell_type": "markdown",
   "metadata": {},
   "source": [
    "# Anagram Substring"
   ]
  },
  {
   "cell_type": "code",
   "execution_count": null,
   "metadata": {
    "collapsed": true
   },
   "outputs": [],
   "source": [
    "'''\n",
    "Question\n",
    "Determine whether some anagram of t is a substring of s. \n",
    "'''"
   ]
  },
  {
   "cell_type": "code",
   "execution_count": 2,
   "metadata": {
    "collapsed": false
   },
   "outputs": [
    {
     "name": "stdout",
     "output_type": "stream",
     "text": [
      "Make sure both inputs are strings!\n",
      "Make sure both inputs are not null strings!\n",
      "True\n"
     ]
    }
   ],
   "source": [
    "# Check for anagram substring by counting character\n",
    "\n",
    "'''\n",
    "Assume that the strings have at most 256 possible characters. Suppose s1 > s2\n",
    "1. Find every substring of s1 which has length s2.\n",
    "1. Create count arrays of size 256 for s2 and substrings of s1, and initialize the count arrays with 0.\n",
    "2. Loop through every character of both strings, store character count of character in count arrays. \n",
    "3. Compare count arrays. If both count arrays are same, then return true.\n",
    "\n",
    "Run time : O(n^2)\n",
    "Extra space : O(1)\n",
    "\n",
    "Reference: \n",
    "http://www.geeksforgeeks.org/check-whether-two-strings-are-anagram-of-each-other/\n",
    "http://blog.gainlo.co/index.php/2016/04/08/if-a-string-contains-an-anagram-of-another-string/\n",
    "'''\n",
    "# check if two strings of same length are anagram of each other. Run time O(n)\n",
    "def isAnagram(s, t):\n",
    "    num_char = 256\n",
    "    count1 = [0] * num_char\n",
    "    count2 = [0] * num_char\n",
    "    for i in s:\n",
    "        count1[ord(i)] += 1\n",
    "    for i in t:\n",
    "        count2[ord(i)] += 1\n",
    "    for i in xrange(num_char):\n",
    "        if count1[i] != count2[i]:\n",
    "            return False\n",
    "    return True\n",
    "\n",
    "\n",
    "# find every substring of the longer string and apply isAnagram.\n",
    "def isAnagramSubstring(s, t):\n",
    "    for i in xrange(len(s)-len(t)+1):\n",
    "        if isAnagram(s[i:i+len(t)], t):\n",
    "            return True\n",
    "    \n",
    "\n",
    "def checkAnagram(s,t):\n",
    "    # check if any input is a null string\n",
    "    if s == \"\" or t == \"\":\n",
    "        return \"Make sure both inputs are not null strings!\"\n",
    "    \n",
    "    # check if both inputs are strings\n",
    "    if isinstance(s, str)==False or isinstance(t, str)==False:\n",
    "        return \"Make sure both inputs are strings!\"\n",
    "    \n",
    "    # swap the two strings if the first string is shorter than the second string\n",
    "    if len(s) < len(t):\n",
    "        temp = s\n",
    "        s = t\n",
    "        t = temp\n",
    "\n",
    "    return isAnagramSubstring(s, t)\n",
    "\n",
    "\n",
    "# Test case\n",
    "print checkAnagram(\"helloworld\", 10) # Make sure both inputs are strings!\n",
    "print checkAnagram(\"udacity\", \"\") # Make sure both inputs are not null strings!\n",
    "print checkAnagram(\"helloworld\", \"owl\")"
   ]
  },
  {
   "cell_type": "code",
   "execution_count": 1,
   "metadata": {
    "collapsed": false
   },
   "outputs": [
    {
     "name": "stdout",
     "output_type": "stream",
     "text": [
      "Make sure both inputs are strings!\n",
      "Make sure both inputs are not null strings!\n",
      "True\n"
     ]
    }
   ],
   "source": [
    "# Brute Force\n",
    "'''\n",
    "Suppose s1 > s2\n",
    "1. Find every substring of s1 which has length s2. Run time : O(n).\n",
    "2. Sort the two strings and compare. Run time : O(nlog(n)).\n",
    "\n",
    "Run time : O(n^2log(n))\n",
    "Space : O(n)\n",
    "\n",
    "Reference: \n",
    "http://www.geeksforgeeks.org/check-whether-two-strings-are-anagram-of-each-other/\n",
    "http://blog.gainlo.co/index.php/2016/04/08/if-a-string-contains-an-anagram-of-another-string/\n",
    "'''\n",
    "\n",
    "# check if two strings of same length are anagram of each other\n",
    "def isAnagram(s1, s2):\n",
    "    s1 = list(s1)\n",
    "    s2 = list(s2)\n",
    "    s1.sort()  # O(nlog(n))\n",
    "    s2.sort()  # O(nlog(n))\n",
    "    return s1==s2\n",
    "\n",
    "# find every substring of the longer string and apply isAnagram.\n",
    "def isAnagramSubstring(s, t):\n",
    "    for i in xrange(len(s)-len(t)+1):\n",
    "        if isAnagram(s[i:i+len(t)], t):\n",
    "            return True\n",
    "    \n",
    "def checkAnagram(s,t):\n",
    "    # check if any input is a null string\n",
    "    if s == \"\" or t == \"\":\n",
    "        return \"Make sure both inputs are not null strings!\"\n",
    "    \n",
    "    # check if both inputs are strings\n",
    "    if isinstance(s, str)==False or isinstance(t, str)==False:\n",
    "        return \"Make sure both inputs are strings!\"\n",
    "    \n",
    "    # swap the two strings if the first string is shorter than the second string\n",
    "    if len(s) < len(t):\n",
    "        temp = s\n",
    "        s = t\n",
    "        t = temp\n",
    "\n",
    "    return isAnagramSubstring(s, t)\n",
    "\n",
    "# Test case\n",
    "print checkAnagram(\"helloworld\", 10) # Make sure both inputs are strings!\n",
    "print checkAnagram(\"udacity\", \"\") # Make sure both inputs are not null strings!\n",
    "print checkAnagram(\"helloworld\", \"owl\")"
   ]
  },
  {
   "cell_type": "code",
   "execution_count": null,
   "metadata": {
    "collapsed": true
   },
   "outputs": [],
   "source": []
  }
 ],
 "metadata": {
  "kernelspec": {
   "display_name": "Python 3",
   "language": "python",
   "name": "python3"
  },
  "language_info": {
   "codemirror_mode": {
    "name": "ipython",
    "version": 3
   },
   "file_extension": ".py",
   "mimetype": "text/x-python",
   "name": "python",
   "nbconvert_exporter": "python",
   "pygments_lexer": "ipython3",
   "version": "3.6.0"
  }
 },
 "nbformat": 4,
 "nbformat_minor": 2
}
